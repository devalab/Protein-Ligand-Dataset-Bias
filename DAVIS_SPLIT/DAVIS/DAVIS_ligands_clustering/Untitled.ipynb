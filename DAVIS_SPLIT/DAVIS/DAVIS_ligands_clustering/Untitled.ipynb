{
 "cells": [
  {
   "cell_type": "code",
   "execution_count": 1,
   "id": "44ed8faf",
   "metadata": {},
   "outputs": [],
   "source": [
    "import json\n",
    "import numpy as np\n",
    "import pickle"
   ]
  },
  {
   "cell_type": "code",
   "execution_count": 2,
   "id": "ce1aac7c",
   "metadata": {},
   "outputs": [],
   "source": [
    "f = open('../SMILES.txt')\n",
    "smi=json.load(f)\n",
    "f.close()"
   ]
  },
  {
   "cell_type": "code",
   "execution_count": 3,
   "id": "4b32d298",
   "metadata": {},
   "outputs": [],
   "source": [
    "g= open('../target_seq.txt')\n",
    "targets = json.load(g)\n",
    "g.close()"
   ]
  },
  {
   "cell_type": "code",
   "execution_count": 4,
   "id": "a1cd7a47",
   "metadata": {},
   "outputs": [
    {
     "data": {
      "text/plain": [
       "'MKKFFDSRREQGGSGLGSGSSGGGGSTSGLGSGYIGRVFGIGRQQVTVDEVLAEGGFAIVFLVRTSNGMKCALKRMFVNNEHDLQVCKREIQIMRDLSGHKNIVGYIDSSINNVSSGDVWEVLILMDFCRGGQVVNLMNQRLQTGFTENEVLQIFCDTCEAVARLHQCKTPIIHRDLKVENILLHDRGHYVLCDFGSATNKFQNPQTEGVNAVEDEIKKYTTLSYRAPEMVNLYSGKIITTKADIWALGCLLYKLCYFTLPFGESQVAICDGNFTIPDNSRYSQDMHCLIRYMLEPDPDKRPDIYQVSYFSFKLLKKECPIPNVQNSPIPAKLPEPVKASEAAAKKTQPKARLTDPIPTTETSIAPRQRPKAGQTQPNPGILPIQPALTPRKRATVQPPPQAAGSSNQPGLLASVPQPKPQAPPSQPLPQTQAKQPQAPPTPQQTPSTQAQGLPAQAQATPQHQQQLFLKQQQQQQQPPPAQQQPAGTFYQQQQAQTQQFQAVHPATQKPAIAQFPVVSQGGSQQQLMQNFYQQQQQQQQQQQQQQLATALHQQQLMTQQAALQQKPTMAAGQQPQPQPAAAPQPAPAQEPAIQAPVRQQPKVQTTPPPAVQGQKVGSLTPPSSPKTQRAGHRRILSDVTHSAVFGVPASKSTQLLQAAAAEASLNKSKSATTTPSGSPRTSQQNVYNPSEGSTWNPFDDDNFSKLTAEELLNKDFAKLGEGKHPEKLGGSAESLIPGFQSTQGDAFATTSFSAGTAEKRKGGQTVDSGLPLLSVSDPFIPLQVPDAPEKLIEGLKSPDTSLLLPDLLPMTDPFGSTSDAVIEKADVAVESLIPGLEPPVPQRLPSQTESVTSNRTDSLTGEDSLLDCSLLSNPTTDLLEEFAPTAISAPVHKAAEDSNLISGFDVPEGSDKVAEDEFDPIPVLITKNPQGGHSRNSSGSSESSLPNLARSLLLVDQLIDL'"
      ]
     },
     "execution_count": 4,
     "metadata": {},
     "output_type": "execute_result"
    }
   ],
   "source": [
    "targets['AAK1']"
   ]
  },
  {
   "cell_type": "code",
   "execution_count": 6,
   "id": "b0f5e561",
   "metadata": {},
   "outputs": [
    {
     "data": {
      "text/plain": [
       "442"
      ]
     },
     "execution_count": 6,
     "metadata": {},
     "output_type": "execute_result"
    }
   ],
   "source": [
    "len(targets)"
   ]
  },
  {
   "cell_type": "code",
   "execution_count": 7,
   "id": "5c320518",
   "metadata": {},
   "outputs": [],
   "source": [
    "file = open('og_davis_fname.txt','w')\n",
    "c=0\n",
    "for smiles in smi:\n",
    "    s = 'AAK1'+str(c)+' ' + smi[smiles]\n",
    "    file.write(s+'\\n')\n",
    "    c=c+1\n",
    "file.close()"
   ]
  },
  {
   "cell_type": "code",
   "execution_count": 11,
   "id": "46743a48",
   "metadata": {},
   "outputs": [
    {
     "data": {
      "text/plain": [
       "68"
      ]
     },
     "execution_count": 11,
     "metadata": {},
     "output_type": "execute_result"
    }
   ],
   "source": [
    "file = open('og_davis_target_seq.txt','w')\n",
    "d = {}\n",
    "c=0\n",
    "for i in smi:\n",
    "    s= 'AAK1' + str(c)\n",
    "    d[s]= targets['AAK1']\n",
    "#     d.update({str(c):targets['AAK1']})\n",
    "    c=c+1\n",
    "json.dump(d,file)\n",
    "len(d)"
   ]
  },
  {
   "cell_type": "code",
   "execution_count": 12,
   "id": "af900ed5",
   "metadata": {},
   "outputs": [],
   "source": [
    "with open('pdb_files.pickle', 'rb') as f:\n",
    "    pk = pickle.load(f)"
   ]
  },
  {
   "cell_type": "code",
   "execution_count": 14,
   "id": "15c23e66",
   "metadata": {},
   "outputs": [
    {
     "data": {
      "text/plain": [
       "(array([[0., 0., 0., ..., 0., 0., 0.],\n",
       "        [0., 0., 0., ..., 0., 0., 0.],\n",
       "        [0., 0., 0., ..., 0., 0., 0.],\n",
       "        ...,\n",
       "        [0., 0., 0., ..., 0., 0., 0.],\n",
       "        [0., 0., 0., ..., 0., 0., 0.],\n",
       "        [0., 0., 0., ..., 0., 0., 0.]]),\n",
       " ['AAK10',\n",
       "  'AAK11',\n",
       "  'AAK12',\n",
       "  'AAK13',\n",
       "  'AAK14',\n",
       "  'AAK15',\n",
       "  'AAK16',\n",
       "  'AAK17',\n",
       "  'AAK18',\n",
       "  'AAK19',\n",
       "  'AAK110',\n",
       "  'AAK111',\n",
       "  'AAK112',\n",
       "  'AAK113',\n",
       "  'AAK114',\n",
       "  'AAK115',\n",
       "  'AAK116',\n",
       "  'AAK117',\n",
       "  'AAK118',\n",
       "  'AAK119',\n",
       "  'AAK120',\n",
       "  'AAK121',\n",
       "  'AAK122',\n",
       "  'AAK123',\n",
       "  'AAK124',\n",
       "  'AAK125',\n",
       "  'AAK126',\n",
       "  'AAK127',\n",
       "  'AAK128',\n",
       "  'AAK129',\n",
       "  'AAK130',\n",
       "  'AAK131',\n",
       "  'AAK132',\n",
       "  'AAK133',\n",
       "  'AAK134',\n",
       "  'AAK135',\n",
       "  'AAK136',\n",
       "  'AAK137',\n",
       "  'AAK138',\n",
       "  'AAK139',\n",
       "  'AAK140',\n",
       "  'AAK141',\n",
       "  'AAK142',\n",
       "  'AAK143',\n",
       "  'AAK144',\n",
       "  'AAK145',\n",
       "  'AAK146',\n",
       "  'AAK147',\n",
       "  'AAK148',\n",
       "  'AAK149',\n",
       "  'AAK150',\n",
       "  'AAK151',\n",
       "  'AAK152',\n",
       "  'AAK153',\n",
       "  'AAK154',\n",
       "  'AAK155',\n",
       "  'AAK156',\n",
       "  'AAK157',\n",
       "  'AAK158',\n",
       "  'AAK159',\n",
       "  'AAK160',\n",
       "  'AAK161',\n",
       "  'AAK162',\n",
       "  'AAK163',\n",
       "  'AAK164',\n",
       "  'AAK165',\n",
       "  'AAK166',\n",
       "  'AAK167'],\n",
       " array([[1.        , 0.35811733, 0.27597403, ..., 0.31317829, 0.30207636,\n",
       "         0.30289728],\n",
       "        [0.35811733, 1.        , 0.37441077, ..., 0.39189189, 0.44924925,\n",
       "         0.30113258],\n",
       "        [0.27597403, 0.37441077, 1.        , ..., 0.30930931, 0.37327824,\n",
       "         0.25020375],\n",
       "        ...,\n",
       "        [0.31317829, 0.39189189, 0.30930931, ..., 1.        , 0.35035099,\n",
       "         0.31532963],\n",
       "        [0.30207636, 0.44924925, 0.37327824, ..., 0.35035099, 1.        ,\n",
       "         0.29836512],\n",
       "        [0.30289728, 0.30113258, 0.25020375, ..., 0.31532963, 0.29836512,\n",
       "         1.        ]]))"
      ]
     },
     "execution_count": 14,
     "metadata": {},
     "output_type": "execute_result"
    }
   ],
   "source": [
    "pk"
   ]
  },
  {
   "cell_type": "code",
   "execution_count": null,
   "id": "4a91bd44",
   "metadata": {},
   "outputs": [],
   "source": [
    "f = open('og_davis_target_seq.txt')\n",
    "a = json.load(f)\n",
    "target_names = []\n",
    "targets = []\n",
    "for i in a:\n",
    "    target_names.append(i)\n",
    "    targets.append([a[i]])\n",
    "# targets = np.reshape(targets, (len(targets), 1))"
   ]
  },
  {
   "cell_type": "code",
   "execution_count": null,
   "id": "46cfab28",
   "metadata": {},
   "outputs": [],
   "source": [
    "target_names*=68\n",
    "targets*=68"
   ]
  },
  {
   "cell_type": "code",
   "execution_count": null,
   "id": "608a4263",
   "metadata": {},
   "outputs": [],
   "source": [
    "# target_names"
   ]
  },
  {
   "cell_type": "code",
   "execution_count": null,
   "id": "ec396165",
   "metadata": {},
   "outputs": [],
   "source": [
    "targets[1]"
   ]
  },
  {
   "cell_type": "code",
   "execution_count": 15,
   "id": "af651a05",
   "metadata": {},
   "outputs": [],
   "source": [
    "dist_mat, target_names, lig_mat = pk"
   ]
  },
  {
   "cell_type": "code",
   "execution_count": 19,
   "id": "f296c32f",
   "metadata": {},
   "outputs": [
    {
     "data": {
      "text/plain": [
       "0.22019077901430842"
      ]
     },
     "execution_count": 19,
     "metadata": {},
     "output_type": "execute_result"
    }
   ],
   "source": [
    "min(lig_mat[0])"
   ]
  },
  {
   "cell_type": "code",
   "execution_count": null,
   "id": "9a141a72",
   "metadata": {},
   "outputs": [],
   "source": []
  }
 ],
 "metadata": {
  "kernelspec": {
   "display_name": "Python 3",
   "language": "python",
   "name": "python3"
  },
  "language_info": {
   "codemirror_mode": {
    "name": "ipython",
    "version": 3
   },
   "file_extension": ".py",
   "mimetype": "text/x-python",
   "name": "python",
   "nbconvert_exporter": "python",
   "pygments_lexer": "ipython3",
   "version": "3.6.13"
  }
 },
 "nbformat": 4,
 "nbformat_minor": 5
}
