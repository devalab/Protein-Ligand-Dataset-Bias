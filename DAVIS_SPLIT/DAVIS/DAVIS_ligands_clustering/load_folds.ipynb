{
 "cells": [
  {
   "cell_type": "code",
   "execution_count": 1,
   "id": "69777556",
   "metadata": {},
   "outputs": [],
   "source": [
    "f_test0=open('OUTPUT_seed0test0.types')\n",
    "lines_test0 = f_test0.readlines()\n",
    "test0=[]\n",
    "for line in lines_test0:\n",
    "    l = line.split()\n",
    "    test0.append(l[1])\n",
    "\n",
    "f_test1=open('OUTPUT_seed0test1.types')\n",
    "lines_test1 = f_test1.readlines()\n",
    "test1=[]\n",
    "for line in lines_test1:\n",
    "    l = line.split()\n",
    "    test1.append(l[1])\n",
    "    \n",
    "f_test2=open('OUTPUT_seed0test2.types')\n",
    "lines_test2 = f_test2.readlines()\n",
    "test2=[]\n",
    "for line in lines_test2:\n",
    "    l = line.split()\n",
    "    test2.append(l[1])\n",
    "    "
   ]
  },
  {
   "cell_type": "code",
   "execution_count": 7,
   "id": "f29c38ac",
   "metadata": {},
   "outputs": [
    {
     "name": "stdout",
     "output_type": "stream",
     "text": [
      "0 0 == 3404\n",
      "0 1 == 3404\n",
      "0 2 == 3256\n",
      "1 0 == 3381\n",
      "1 1 == 3381\n",
      "1 2 == 3234\n",
      "2 0 == 3381\n",
      "2 1 == 3381\n",
      "2 2 == 3234\n"
     ]
    }
   ],
   "source": [
    "a= [148,147, 147]\n",
    "b= [23,23,22]\n",
    "for i in [0,1,2]:\n",
    "    for j in [0,1,2]:\n",
    "        print(i,j,\"==\", a[i]*b[j])"
   ]
  },
  {
   "cell_type": "code",
   "execution_count": 25,
   "id": "7d1a66f8",
   "metadata": {},
   "outputs": [],
   "source": [
    "f_train0=open('OUTPUT_seed0train0.types')\n",
    "lines_train0 = f_train0.readlines()\n",
    "train0=[]\n",
    "for line in lines_train0:\n",
    "    l = line.split()\n",
    "    train0.append(l[1])\n",
    "\n",
    "f_train1=open('OUTPUT_seed0train1.types')\n",
    "lines_train1 = f_train1.readlines()\n",
    "train1=[]\n",
    "for line in lines_train1:\n",
    "    l = line.split()\n",
    "    train1.append(l[1])\n",
    "    \n",
    "f_train2=open('OUTPUT_seed0train2.types')\n",
    "lines_train2 = f_train2.readlines()\n",
    "train2=[]\n",
    "for line in lines_train2:\n",
    "    l = line.split()\n",
    "    train2.append(l[1])"
   ]
  },
  {
   "cell_type": "code",
   "execution_count": 26,
   "id": "4f78b16b",
   "metadata": {},
   "outputs": [],
   "source": [
    "# train0"
   ]
  },
  {
   "cell_type": "code",
   "execution_count": 27,
   "id": "4850a257",
   "metadata": {},
   "outputs": [],
   "source": [
    "d={}\n",
    "d['fold0']={}\n",
    "d['fold1']={}\n",
    "d['fold2']={}\n",
    "# d['fold0']['train']=train0\n",
    "d['fold0']=test0\n",
    "# d['fold1']['train']=train1\n",
    "d['fold1']=test1\n",
    "# d['fold2']['train']=train2\n",
    "d['fold2']=test2\n"
   ]
  },
  {
   "cell_type": "code",
   "execution_count": 28,
   "id": "ef257654",
   "metadata": {},
   "outputs": [],
   "source": [
    "import json\n",
    "f=open('3_ligand_folds_dump.json', 'w')\n",
    "json.dump(d,f)\n",
    "f.close()"
   ]
  },
  {
   "cell_type": "code",
   "execution_count": null,
   "id": "5c5a4eed",
   "metadata": {},
   "outputs": [],
   "source": []
  }
 ],
 "metadata": {
  "kernelspec": {
   "display_name": "Python 3 (ipykernel)",
   "language": "python",
   "name": "python3"
  },
  "language_info": {
   "codemirror_mode": {
    "name": "ipython",
    "version": 3
   },
   "file_extension": ".py",
   "mimetype": "text/x-python",
   "name": "python",
   "nbconvert_exporter": "python",
   "pygments_lexer": "ipython3",
   "version": "3.9.6"
  }
 },
 "nbformat": 4,
 "nbformat_minor": 5
}
