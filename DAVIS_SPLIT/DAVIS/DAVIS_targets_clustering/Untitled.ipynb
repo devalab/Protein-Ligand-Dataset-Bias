{
 "cells": [
  {
   "cell_type": "code",
   "execution_count": 1,
   "id": "fcb9b8dc",
   "metadata": {},
   "outputs": [],
   "source": [
    "import pickle\n",
    "import numpy as np\n",
    "import json\n",
    "from Bio import pairwise2\n"
   ]
  },
  {
   "cell_type": "code",
   "execution_count": 2,
   "id": "04d245e4",
   "metadata": {},
   "outputs": [],
   "source": [
    "with open('pdb_files.pickle', 'rb') as f:\n",
    "    pk = pickle.load(f)"
   ]
  },
  {
   "cell_type": "code",
   "execution_count": 3,
   "id": "dd663556",
   "metadata": {},
   "outputs": [],
   "source": [
    "dist_matrix,target_names,ligand_sim = pk"
   ]
  },
  {
   "cell_type": "code",
   "execution_count": 4,
   "id": "e3ea2b30",
   "metadata": {},
   "outputs": [
    {
     "data": {
      "text/plain": [
       "(442, 442)"
      ]
     },
     "execution_count": 4,
     "metadata": {},
     "output_type": "execute_result"
    }
   ],
   "source": [
    "np.shape(ligand_sim)"
   ]
  },
  {
   "cell_type": "code",
   "execution_count": 5,
   "id": "64273dc5",
   "metadata": {},
   "outputs": [
    {
     "data": {
      "text/plain": [
       "0.706266318537859"
      ]
     },
     "execution_count": 5,
     "metadata": {},
     "output_type": "execute_result"
    }
   ],
   "source": [
    "dist_matrix[100][300]"
   ]
  },
  {
   "cell_type": "code",
   "execution_count": 6,
   "id": "f5cc366a",
   "metadata": {},
   "outputs": [
    {
     "data": {
      "text/plain": [
       "('DCAMKL2', 'PFCDPK1(Pfalciparum)')"
      ]
     },
     "execution_count": 6,
     "metadata": {},
     "output_type": "execute_result"
    }
   ],
   "source": [
    "target_names[100],target_names[300]"
   ]
  },
  {
   "cell_type": "code",
   "execution_count": 7,
   "id": "71de4314",
   "metadata": {},
   "outputs": [],
   "source": [
    "f=open('og_davis_target_seq.txt')\n",
    "T = json.load(f)"
   ]
  },
  {
   "cell_type": "code",
   "execution_count": 8,
   "id": "3b4ed94d",
   "metadata": {},
   "outputs": [
    {
     "name": "stdout",
     "output_type": "stream",
     "text": [
      "PFCDPK1(Pfalciparum)\n"
     ]
    }
   ],
   "source": [
    "c=0\n",
    "for i in target_names:\n",
    "    if c==300:\n",
    "        print(i)\n",
    "   \n",
    "    c=c+1"
   ]
  },
  {
   "cell_type": "code",
   "execution_count": 9,
   "id": "fd2ec9e3",
   "metadata": {},
   "outputs": [],
   "source": [
    "score = pairwise2.align.globalxx(T[target_names[100]], T[target_names[300]], score_only=True)"
   ]
  },
  {
   "cell_type": "code",
   "execution_count": 10,
   "id": "1d50e166",
   "metadata": {},
   "outputs": [],
   "source": [
    "l = max(len(T[target_names[100]]), len(T[target_names[300]]))"
   ]
  },
  {
   "cell_type": "code",
   "execution_count": 11,
   "id": "0395e186",
   "metadata": {},
   "outputs": [
    {
     "data": {
      "text/plain": [
       "0.706266318537859"
      ]
     },
     "execution_count": 11,
     "metadata": {},
     "output_type": "execute_result"
    }
   ],
   "source": [
    "1-score/l"
   ]
  },
  {
   "cell_type": "code",
   "execution_count": 12,
   "id": "493e9a87",
   "metadata": {},
   "outputs": [
    {
     "data": {
      "text/plain": [
       "array([[0.        , 0.66923736, 0.66923736, ..., 0.69728916, 0.67429761,\n",
       "        0.72632674],\n",
       "       [0.66923736, 0.        , 0.        , ..., 0.66039157, 0.6958012 ,\n",
       "        0.7412168 ],\n",
       "       [0.66923736, 0.        , 0.        , ..., 0.66039157, 0.6958012 ,\n",
       "        0.7412168 ],\n",
       "       ...,\n",
       "       [0.69728916, 0.66039157, 0.66039157, ..., 0.        , 0.71611446,\n",
       "        0.75677711],\n",
       "       [0.67429761, 0.6958012 , 0.6958012 , ..., 0.71611446, 0.        ,\n",
       "        0.6825    ],\n",
       "       [0.72632674, 0.7412168 , 0.7412168 , ..., 0.75677711, 0.6825    ,\n",
       "        0.        ]])"
      ]
     },
     "execution_count": 12,
     "metadata": {},
     "output_type": "execute_result"
    }
   ],
   "source": [
    "dist_matrix"
   ]
  },
  {
   "cell_type": "code",
   "execution_count": 13,
   "id": "0075ec68",
   "metadata": {},
   "outputs": [
    {
     "data": {
      "text/plain": [
       "array([[1., 1., 1., ..., 1., 1., 1.],\n",
       "       [1., 1., 1., ..., 1., 1., 1.],\n",
       "       [1., 1., 1., ..., 1., 1., 1.],\n",
       "       ...,\n",
       "       [1., 1., 1., ..., 1., 1., 1.],\n",
       "       [1., 1., 1., ..., 1., 1., 1.],\n",
       "       [1., 1., 1., ..., 1., 1., 1.]])"
      ]
     },
     "execution_count": 13,
     "metadata": {},
     "output_type": "execute_result"
    }
   ],
   "source": [
    "ligand_sim"
   ]
  },
  {
   "cell_type": "code",
   "execution_count": null,
   "id": "c64aca08",
   "metadata": {},
   "outputs": [],
   "source": []
  },
  {
   "cell_type": "code",
   "execution_count": null,
   "id": "2cae476e",
   "metadata": {},
   "outputs": [],
   "source": []
  }
 ],
 "metadata": {
  "kernelspec": {
   "display_name": "Python 3 (ipykernel)",
   "language": "python",
   "name": "python3"
  },
  "language_info": {
   "codemirror_mode": {
    "name": "ipython",
    "version": 3
   },
   "file_extension": ".py",
   "mimetype": "text/x-python",
   "name": "python",
   "nbconvert_exporter": "python",
   "pygments_lexer": "ipython3",
   "version": "3.9.6"
  }
 },
 "nbformat": 4,
 "nbformat_minor": 5
}
