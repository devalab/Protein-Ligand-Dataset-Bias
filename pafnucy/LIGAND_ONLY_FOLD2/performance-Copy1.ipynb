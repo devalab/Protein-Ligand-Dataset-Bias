{
 "cells": [
  {
   "cell_type": "code",
   "execution_count": 10,
   "id": "125d4f4c",
   "metadata": {},
   "outputs": [],
   "source": [
    "import pandas as pd\n",
    "import numpy as np\n",
    "import scipy \n",
    "import sklearn.metrics"
   ]
  },
  {
   "cell_type": "code",
   "execution_count": 11,
   "id": "c2b025fd",
   "metadata": {},
   "outputs": [],
   "source": [
    "results = pd.read_csv('./output-2021-11-12T20:38:09-predictions.csv')"
   ]
  },
  {
   "cell_type": "code",
   "execution_count": 12,
   "id": "ad0b1f7c",
   "metadata": {},
   "outputs": [
    {
     "data": {
      "text/html": [
       "<div>\n",
       "<style scoped>\n",
       "    .dataframe tbody tr th:only-of-type {\n",
       "        vertical-align: middle;\n",
       "    }\n",
       "\n",
       "    .dataframe tbody tr th {\n",
       "        vertical-align: top;\n",
       "    }\n",
       "\n",
       "    .dataframe thead th {\n",
       "        text-align: right;\n",
       "    }\n",
       "</style>\n",
       "<table border=\"1\" class=\"dataframe\">\n",
       "  <thead>\n",
       "    <tr style=\"text-align: right;\">\n",
       "      <th></th>\n",
       "      <th>pdbid</th>\n",
       "      <th>real</th>\n",
       "      <th>predicted</th>\n",
       "      <th>set</th>\n",
       "    </tr>\n",
       "  </thead>\n",
       "  <tbody>\n",
       "    <tr>\n",
       "      <th>0</th>\n",
       "      <td>10gs</td>\n",
       "      <td>6.40</td>\n",
       "      <td>5.581755</td>\n",
       "      <td>training</td>\n",
       "    </tr>\n",
       "    <tr>\n",
       "      <th>1</th>\n",
       "      <td>11gs</td>\n",
       "      <td>5.82</td>\n",
       "      <td>6.750948</td>\n",
       "      <td>training</td>\n",
       "    </tr>\n",
       "    <tr>\n",
       "      <th>2</th>\n",
       "      <td>13gs</td>\n",
       "      <td>4.62</td>\n",
       "      <td>6.713317</td>\n",
       "      <td>training</td>\n",
       "    </tr>\n",
       "    <tr>\n",
       "      <th>3</th>\n",
       "      <td>16pk</td>\n",
       "      <td>5.22</td>\n",
       "      <td>5.167734</td>\n",
       "      <td>training</td>\n",
       "    </tr>\n",
       "    <tr>\n",
       "      <th>4</th>\n",
       "      <td>184l</td>\n",
       "      <td>4.72</td>\n",
       "      <td>5.213023</td>\n",
       "      <td>training</td>\n",
       "    </tr>\n",
       "    <tr>\n",
       "      <th>...</th>\n",
       "      <td>...</td>\n",
       "      <td>...</td>\n",
       "      <td>...</td>\n",
       "      <td>...</td>\n",
       "    </tr>\n",
       "    <tr>\n",
       "      <th>16603</th>\n",
       "      <td>7lpr</td>\n",
       "      <td>7.18</td>\n",
       "      <td>6.670439</td>\n",
       "      <td>test</td>\n",
       "    </tr>\n",
       "    <tr>\n",
       "      <th>16604</th>\n",
       "      <td>7prc</td>\n",
       "      <td>5.21</td>\n",
       "      <td>4.830103</td>\n",
       "      <td>test</td>\n",
       "    </tr>\n",
       "    <tr>\n",
       "      <th>16605</th>\n",
       "      <td>8a3h</td>\n",
       "      <td>4.06</td>\n",
       "      <td>4.133345</td>\n",
       "      <td>test</td>\n",
       "    </tr>\n",
       "    <tr>\n",
       "      <th>16606</th>\n",
       "      <td>8lpr</td>\n",
       "      <td>6.62</td>\n",
       "      <td>7.124310</td>\n",
       "      <td>test</td>\n",
       "    </tr>\n",
       "    <tr>\n",
       "      <th>16607</th>\n",
       "      <td>9lpr</td>\n",
       "      <td>5.70</td>\n",
       "      <td>6.289739</td>\n",
       "      <td>test</td>\n",
       "    </tr>\n",
       "  </tbody>\n",
       "</table>\n",
       "<p>16608 rows × 4 columns</p>\n",
       "</div>"
      ],
      "text/plain": [
       "      pdbid  real  predicted       set\n",
       "0      10gs  6.40   5.581755  training\n",
       "1      11gs  5.82   6.750948  training\n",
       "2      13gs  4.62   6.713317  training\n",
       "3      16pk  5.22   5.167734  training\n",
       "4      184l  4.72   5.213023  training\n",
       "...     ...   ...        ...       ...\n",
       "16603  7lpr  7.18   6.670439      test\n",
       "16604  7prc  5.21   4.830103      test\n",
       "16605  8a3h  4.06   4.133345      test\n",
       "16606  8lpr  6.62   7.124310      test\n",
       "16607  9lpr  5.70   6.289739      test\n",
       "\n",
       "[16608 rows x 4 columns]"
      ]
     },
     "execution_count": 12,
     "metadata": {},
     "output_type": "execute_result"
    }
   ],
   "source": [
    "results"
   ]
  },
  {
   "cell_type": "code",
   "execution_count": 13,
   "id": "9b494dae",
   "metadata": {},
   "outputs": [],
   "source": [
    "train = results[results['set']=='training']\n",
    "test = results[results['set']=='test']\n",
    "validation = results[results['set']=='validation']"
   ]
  },
  {
   "cell_type": "code",
   "execution_count": 14,
   "id": "c6f4f973",
   "metadata": {},
   "outputs": [],
   "source": [
    "    \n",
    "def rmse(predictions, targets):\n",
    "    return np.sqrt(((predictions - targets) ** 2).mean())\n",
    "\n",
    "def mse(predictions, targets):\n",
    "    return ((predictions - targets) ** 2).mean()\n",
    "\n",
    "def pearson(predictions, targets):\n",
    "    return scipy.stats.pearsonr(predictions, targets)[0]\n",
    "\n",
    "def MAE(predictions, targets):\n",
    "    return sklearn.metrics.mean_absolute_error(targets, predictions)\n",
    "\n",
    "def SD(predictions, targets):\n",
    "    return (((targets - predictions) ** 2).sum() / (len(predictions) - 1)) ** 0.5\n",
    "\n",
    "def performance(predictions, targets):\n",
    "    print(\"RMSE \", rmse(predictions, targets))\n",
    "    print(\"MSE  \", mse(predictions, targets))\n",
    "    print(\"R, p \", pearson(predictions, targets))\n",
    "    print(\"MAE  \", MAE(predictions, targets))\n",
    "    print('SD   ', SD(predictions, targets))"
   ]
  },
  {
   "cell_type": "code",
   "execution_count": 15,
   "id": "5db5add2",
   "metadata": {},
   "outputs": [
    {
     "name": "stdout",
     "output_type": "stream",
     "text": [
      "testing on fold0\n",
      "RMSE  1.5868120736739801\n",
      "MSE   2.517972557157517\n",
      "R, p  0.48948539835910926\n",
      "MAE   1.2480263560080116\n",
      "SD    1.5869554106575772\n"
     ]
    }
   ],
   "source": [
    "print(\"testing on fold2\")\n",
    "performance(np.array(test['predicted'].values), np.array(test['real'].values))"
   ]
  },
  {
   "cell_type": "code",
   "execution_count": 16,
   "id": "a06af019",
   "metadata": {},
   "outputs": [
    {
     "name": "stdout",
     "output_type": "stream",
     "text": [
      "RMSE  1.3123173005370683\n",
      "MSE   1.7221766972888983\n",
      "R, p  0.7374945223792252\n",
      "MAE   1.0348496712416928\n",
      "SD    1.3123765674356214\n"
     ]
    }
   ],
   "source": [
    "performance(np.array(train['predicted'].values), np.array(train['real'].values))"
   ]
  },
  {
   "cell_type": "code",
   "execution_count": 17,
   "id": "4044d24a",
   "metadata": {},
   "outputs": [],
   "source": [
    "# performance(np.array(validation['predicted'].values), np.array(validation['real'].values))"
   ]
  },
  {
   "cell_type": "code",
   "execution_count": null,
   "id": "1f5d4bb7",
   "metadata": {},
   "outputs": [],
   "source": []
  },
  {
   "cell_type": "code",
   "execution_count": null,
   "id": "9ff44182",
   "metadata": {},
   "outputs": [],
   "source": []
  },
  {
   "cell_type": "code",
   "execution_count": null,
   "id": "0ab5784a",
   "metadata": {},
   "outputs": [],
   "source": []
  }
 ],
 "metadata": {
  "kernelspec": {
   "display_name": "Python 3",
   "language": "python",
   "name": "python3"
  },
  "language_info": {
   "codemirror_mode": {
    "name": "ipython",
    "version": 3
   },
   "file_extension": ".py",
   "mimetype": "text/x-python",
   "name": "python",
   "nbconvert_exporter": "python",
   "pygments_lexer": "ipython3",
   "version": "3.6.13"
  }
 },
 "nbformat": 4,
 "nbformat_minor": 5
}
