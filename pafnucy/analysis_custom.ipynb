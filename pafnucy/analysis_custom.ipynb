{
 "cells": [
  {
   "cell_type": "code",
   "execution_count": 1,
   "metadata": {},
   "outputs": [
    {
     "name": "stderr",
     "output_type": "stream",
     "text": [
      "/home2/kanakala.ganesh/miniconda3/envs/pafnucy_env/lib/python3.6/site-packages/tensorflow/python/framework/dtypes.py:458: FutureWarning: Passing (type, 1) or '1type' as a synonym of type is deprecated; in a future version of numpy, it will be understood as (type, (1,)) / '(1,)type'.\n",
      "  _np_qint8 = np.dtype([(\"qint8\", np.int8, 1)])\n",
      "/home2/kanakala.ganesh/miniconda3/envs/pafnucy_env/lib/python3.6/site-packages/tensorflow/python/framework/dtypes.py:459: FutureWarning: Passing (type, 1) or '1type' as a synonym of type is deprecated; in a future version of numpy, it will be understood as (type, (1,)) / '(1,)type'.\n",
      "  _np_quint8 = np.dtype([(\"quint8\", np.uint8, 1)])\n",
      "/home2/kanakala.ganesh/miniconda3/envs/pafnucy_env/lib/python3.6/site-packages/tensorflow/python/framework/dtypes.py:460: FutureWarning: Passing (type, 1) or '1type' as a synonym of type is deprecated; in a future version of numpy, it will be understood as (type, (1,)) / '(1,)type'.\n",
      "  _np_qint16 = np.dtype([(\"qint16\", np.int16, 1)])\n",
      "/home2/kanakala.ganesh/miniconda3/envs/pafnucy_env/lib/python3.6/site-packages/tensorflow/python/framework/dtypes.py:461: FutureWarning: Passing (type, 1) or '1type' as a synonym of type is deprecated; in a future version of numpy, it will be understood as (type, (1,)) / '(1,)type'.\n",
      "  _np_quint16 = np.dtype([(\"quint16\", np.uint16, 1)])\n",
      "/home2/kanakala.ganesh/miniconda3/envs/pafnucy_env/lib/python3.6/site-packages/tensorflow/python/framework/dtypes.py:462: FutureWarning: Passing (type, 1) or '1type' as a synonym of type is deprecated; in a future version of numpy, it will be understood as (type, (1,)) / '(1,)type'.\n",
      "  _np_qint32 = np.dtype([(\"qint32\", np.int32, 1)])\n",
      "/home2/kanakala.ganesh/miniconda3/envs/pafnucy_env/lib/python3.6/site-packages/tensorflow/python/framework/dtypes.py:465: FutureWarning: Passing (type, 1) or '1type' as a synonym of type is deprecated; in a future version of numpy, it will be understood as (type, (1,)) / '(1,)type'.\n",
      "  np_resource = np.dtype([(\"resource\", np.ubyte, 1)])\n"
     ]
    }
   ],
   "source": [
    "import numpy as np\n",
    "import pandas as pd\n",
    "import h5py\n",
    "\n",
    "import scipy\n",
    "from sklearn.linear_model import LinearRegression\n",
    "import tfbio.data\n",
    "import tensorflow as tf\n",
    "\n",
    "import matplotlib.pyplot as plt\n",
    "from matplotlib.patches import Rectangle\n",
    "\n",
    "import seaborn as sns\n",
    "sns.set(context='paper', style='white')\n",
    "sns.set_color_codes()\n",
    "\n",
    "%matplotlib inline"
   ]
  },
  {
   "cell_type": "markdown",
   "metadata": {},
   "source": [
    "# Data and parameters"
   ]
  },
  {
   "cell_type": "code",
   "execution_count": 2,
   "metadata": {},
   "outputs": [],
   "source": [
    "# directories with input (pdbbind), results and plots, and training stats\n",
    "\n",
    "pdbbind_path = '../pdbbind/v2016'\n",
    "results_path = './results'\n",
    "results_prefix = '%s/batch5-2017-06-05T07:58:47' % results_path"
   ]
  },
  {
   "cell_type": "code",
   "execution_count": 3,
   "metadata": {},
   "outputs": [],
   "source": [
    "# network parameters\n",
    "featurizer = tfbio.data.Featurizer()\n",
    "max_dist = 10\n",
    "box_size = 21\n",
    "columns = {name: i for i, name in enumerate(featurizer.FEATURE_NAMES)}\n",
    "num_features = len(columns)\n",
    "\n",
    "# scaling factor for partial charges\n",
    "charge_std = 0.425896"
   ]
  },
  {
   "cell_type": "code",
   "execution_count": 4,
   "metadata": {},
   "outputs": [],
   "source": [
    "# colors for subsets\n",
    "\n",
    "set_colors = {\n",
    "\n",
    "    # PDBbind v. 2016 split\n",
    "    'core': 'r',\n",
    "    'refined': 'g',\n",
    "    'general': 'b',\n",
    "    \n",
    "    # our split\n",
    "    'training': 'b',\n",
    "    'validation': 'g',\n",
    "    'test': 'r',\n",
    "    'core2013': 'purple'\n",
    "}\n",
    "\n",
    "set_titles = {\n",
    "    'training': 'training set',\n",
    "    'validation': 'validation set',\n",
    "    'test': 'core set v. 2016',\n",
    "    'core2013': 'core set v. 2013'\n",
    "}"
   ]
  },
  {
   "cell_type": "code",
   "execution_count": 5,
   "metadata": {
    "scrolled": true
   },
   "outputs": [
    {
     "data": {
      "text/html": [
       "<div>\n",
       "<style scoped>\n",
       "    .dataframe tbody tr th:only-of-type {\n",
       "        vertical-align: middle;\n",
       "    }\n",
       "\n",
       "    .dataframe tbody tr th {\n",
       "        vertical-align: top;\n",
       "    }\n",
       "\n",
       "    .dataframe thead th {\n",
       "        text-align: right;\n",
       "    }\n",
       "</style>\n",
       "<table border=\"1\" class=\"dataframe\">\n",
       "  <thead>\n",
       "    <tr style=\"text-align: right;\">\n",
       "      <th></th>\n",
       "      <th>pdbid</th>\n",
       "      <th>year</th>\n",
       "      <th>uniprotid</th>\n",
       "      <th>name</th>\n",
       "    </tr>\n",
       "  </thead>\n",
       "  <tbody>\n",
       "    <tr>\n",
       "      <th>0</th>\n",
       "      <td>3eql</td>\n",
       "      <td>2008</td>\n",
       "      <td>Q9Z9H6</td>\n",
       "      <td>DNA-DIRECTED RNA POLYMERASE SUBUNIT ALPHA</td>\n",
       "    </tr>\n",
       "    <tr>\n",
       "      <th>1</th>\n",
       "      <td>1zyr</td>\n",
       "      <td>2005</td>\n",
       "      <td>Q5SHR6</td>\n",
       "      <td>DNA-DIRECTED RNA POLYMERASE SUBUNIT ALPHA</td>\n",
       "    </tr>\n",
       "    <tr>\n",
       "      <th>2</th>\n",
       "      <td>3dxj</td>\n",
       "      <td>2008</td>\n",
       "      <td>Q5SHR6</td>\n",
       "      <td>DNA-DIRECTED RNA POLYMERASE SUBUNIT ALPHA</td>\n",
       "    </tr>\n",
       "    <tr>\n",
       "      <th>3</th>\n",
       "      <td>4zh4</td>\n",
       "      <td>2015</td>\n",
       "      <td>P0A7Z4</td>\n",
       "      <td>DNA-DIRECTED RNA POLYMERASE SUBUNIT ALPHA</td>\n",
       "    </tr>\n",
       "    <tr>\n",
       "      <th>4</th>\n",
       "      <td>4zh3</td>\n",
       "      <td>2015</td>\n",
       "      <td>P0A7Z4</td>\n",
       "      <td>DNA-DIRECTED RNA POLYMERASE SUBUNIT ALPHA</td>\n",
       "    </tr>\n",
       "  </tbody>\n",
       "</table>\n",
       "</div>"
      ],
      "text/plain": [
       "  pdbid  year uniprotid                                       name\n",
       "0  3eql  2008    Q9Z9H6  DNA-DIRECTED RNA POLYMERASE SUBUNIT ALPHA\n",
       "1  1zyr  2005    Q5SHR6  DNA-DIRECTED RNA POLYMERASE SUBUNIT ALPHA\n",
       "2  3dxj  2008    Q5SHR6  DNA-DIRECTED RNA POLYMERASE SUBUNIT ALPHA\n",
       "3  4zh4  2015    P0A7Z4  DNA-DIRECTED RNA POLYMERASE SUBUNIT ALPHA\n",
       "4  4zh3  2015    P0A7Z4  DNA-DIRECTED RNA POLYMERASE SUBUNIT ALPHA"
      ]
     },
     "execution_count": 5,
     "metadata": {},
     "output_type": "execute_result"
    }
   ],
   "source": [
    "protein_data = pd.read_csv('protein_data.csv')\n",
    "protein_data.head()"
   ]
  },
  {
   "cell_type": "code",
   "execution_count": 6,
   "metadata": {
    "scrolled": true
   },
   "outputs": [
    {
     "data": {
      "text/html": [
       "<div>\n",
       "<style scoped>\n",
       "    .dataframe tbody tr th:only-of-type {\n",
       "        vertical-align: middle;\n",
       "    }\n",
       "\n",
       "    .dataframe tbody tr th {\n",
       "        vertical-align: top;\n",
       "    }\n",
       "\n",
       "    .dataframe thead th {\n",
       "        text-align: right;\n",
       "    }\n",
       "</style>\n",
       "<table border=\"1\" class=\"dataframe\">\n",
       "  <thead>\n",
       "    <tr style=\"text-align: right;\">\n",
       "      <th></th>\n",
       "      <th>pdbid</th>\n",
       "      <th>-logKd/Ki</th>\n",
       "      <th>pdbbind_set</th>\n",
       "    </tr>\n",
       "  </thead>\n",
       "  <tbody>\n",
       "    <tr>\n",
       "      <th>0</th>\n",
       "      <td>3zzf</td>\n",
       "      <td>0.40</td>\n",
       "      <td>general</td>\n",
       "    </tr>\n",
       "    <tr>\n",
       "      <th>1</th>\n",
       "      <td>3gww</td>\n",
       "      <td>0.45</td>\n",
       "      <td>general</td>\n",
       "    </tr>\n",
       "    <tr>\n",
       "      <th>2</th>\n",
       "      <td>1w8l</td>\n",
       "      <td>0.49</td>\n",
       "      <td>general</td>\n",
       "    </tr>\n",
       "    <tr>\n",
       "      <th>3</th>\n",
       "      <td>3fqa</td>\n",
       "      <td>0.49</td>\n",
       "      <td>general</td>\n",
       "    </tr>\n",
       "    <tr>\n",
       "      <th>4</th>\n",
       "      <td>1zsb</td>\n",
       "      <td>0.60</td>\n",
       "      <td>general</td>\n",
       "    </tr>\n",
       "  </tbody>\n",
       "</table>\n",
       "</div>"
      ],
      "text/plain": [
       "  pdbid  -logKd/Ki pdbbind_set\n",
       "0  3zzf       0.40     general\n",
       "1  3gww       0.45     general\n",
       "2  1w8l       0.49     general\n",
       "3  3fqa       0.49     general\n",
       "4  1zsb       0.60     general"
      ]
     },
     "execution_count": 6,
     "metadata": {},
     "output_type": "execute_result"
    }
   ],
   "source": [
    "affinity_data = pd.read_csv('affinity_data_cleaned.csv')\n",
    "affinity_data = affinity_data.rename(columns={'set': 'pdbbind_set'})\n",
    "affinity_data.head()"
   ]
  },
  {
   "cell_type": "code",
   "execution_count": 7,
   "metadata": {},
   "outputs": [
    {
     "data": {
      "text/html": [
       "<div>\n",
       "<style scoped>\n",
       "    .dataframe tbody tr th:only-of-type {\n",
       "        vertical-align: middle;\n",
       "    }\n",
       "\n",
       "    .dataframe tbody tr th {\n",
       "        vertical-align: top;\n",
       "    }\n",
       "\n",
       "    .dataframe thead th {\n",
       "        text-align: right;\n",
       "    }\n",
       "</style>\n",
       "<table border=\"1\" class=\"dataframe\">\n",
       "  <thead>\n",
       "    <tr style=\"text-align: right;\">\n",
       "      <th></th>\n",
       "      <th>pdbid</th>\n",
       "      <th>set</th>\n",
       "    </tr>\n",
       "  </thead>\n",
       "  <tbody>\n",
       "    <tr>\n",
       "      <th>0</th>\n",
       "      <td>11gs</td>\n",
       "      <td>training</td>\n",
       "    </tr>\n",
       "    <tr>\n",
       "      <th>1</th>\n",
       "      <td>13gs</td>\n",
       "      <td>training</td>\n",
       "    </tr>\n",
       "    <tr>\n",
       "      <th>2</th>\n",
       "      <td>16pk</td>\n",
       "      <td>training</td>\n",
       "    </tr>\n",
       "    <tr>\n",
       "      <th>3</th>\n",
       "      <td>184l</td>\n",
       "      <td>training</td>\n",
       "    </tr>\n",
       "    <tr>\n",
       "      <th>4</th>\n",
       "      <td>185l</td>\n",
       "      <td>training</td>\n",
       "    </tr>\n",
       "  </tbody>\n",
       "</table>\n",
       "</div>"
      ],
      "text/plain": [
       "  pdbid       set\n",
       "0  11gs  training\n",
       "1  13gs  training\n",
       "2  16pk  training\n",
       "3  184l  training\n",
       "4  185l  training"
      ]
     },
     "execution_count": 7,
     "metadata": {},
     "output_type": "execute_result"
    }
   ],
   "source": [
    "dataset_split = []\n",
    "\n",
    "for set_name in ['training', 'validation', 'test']:\n",
    "    with h5py.File('%s/%s_set.hdf' % (pdbbind_path, set_name), 'r') as f:\n",
    "        dataset_split.append(pd.DataFrame({'set': set_name, 'pdbid': list(f.keys())}))\n",
    "\n",
    "dataset_split = pd.concat(dataset_split, ignore_index=True)\n",
    "dataset_split.head()"
   ]
  },
  {
   "cell_type": "code",
   "execution_count": 8,
   "metadata": {
    "scrolled": true
   },
   "outputs": [
    {
     "data": {
      "text/html": [
       "<div>\n",
       "<style scoped>\n",
       "    .dataframe tbody tr th:only-of-type {\n",
       "        vertical-align: middle;\n",
       "    }\n",
       "\n",
       "    .dataframe tbody tr th {\n",
       "        vertical-align: top;\n",
       "    }\n",
       "\n",
       "    .dataframe thead th {\n",
       "        text-align: right;\n",
       "    }\n",
       "</style>\n",
       "<table border=\"1\" class=\"dataframe\">\n",
       "  <thead>\n",
       "    <tr style=\"text-align: right;\">\n",
       "      <th></th>\n",
       "      <th>pdbid</th>\n",
       "      <th>-logKd/Ki</th>\n",
       "      <th>pdbbind_set</th>\n",
       "      <th>set</th>\n",
       "    </tr>\n",
       "  </thead>\n",
       "  <tbody>\n",
       "    <tr>\n",
       "      <th>0</th>\n",
       "      <td>3zzf</td>\n",
       "      <td>0.40</td>\n",
       "      <td>general</td>\n",
       "      <td>training</td>\n",
       "    </tr>\n",
       "    <tr>\n",
       "      <th>1</th>\n",
       "      <td>3gww</td>\n",
       "      <td>0.45</td>\n",
       "      <td>general</td>\n",
       "      <td>training</td>\n",
       "    </tr>\n",
       "    <tr>\n",
       "      <th>2</th>\n",
       "      <td>1w8l</td>\n",
       "      <td>0.49</td>\n",
       "      <td>general</td>\n",
       "      <td>training</td>\n",
       "    </tr>\n",
       "    <tr>\n",
       "      <th>3</th>\n",
       "      <td>3fqa</td>\n",
       "      <td>0.49</td>\n",
       "      <td>general</td>\n",
       "      <td>training</td>\n",
       "    </tr>\n",
       "    <tr>\n",
       "      <th>4</th>\n",
       "      <td>1zsb</td>\n",
       "      <td>0.60</td>\n",
       "      <td>general</td>\n",
       "      <td>training</td>\n",
       "    </tr>\n",
       "  </tbody>\n",
       "</table>\n",
       "</div>"
      ],
      "text/plain": [
       "  pdbid  -logKd/Ki pdbbind_set       set\n",
       "0  3zzf       0.40     general  training\n",
       "1  3gww       0.45     general  training\n",
       "2  1w8l       0.49     general  training\n",
       "3  3fqa       0.49     general  training\n",
       "4  1zsb       0.60     general  training"
      ]
     },
     "execution_count": 8,
     "metadata": {},
     "output_type": "execute_result"
    }
   ],
   "source": [
    "affinity_data = pd.merge(affinity_data, dataset_split)\n",
    "affinity_data.head()"
   ]
  },
  {
   "cell_type": "code",
   "execution_count": 9,
   "metadata": {},
   "outputs": [
    {
     "data": {
      "text/plain": [
       "training      11906\n",
       "validation     1000\n",
       "test            290\n",
       "Name: set, dtype: int64"
      ]
     },
     "execution_count": 9,
     "metadata": {},
     "output_type": "execute_result"
    }
   ],
   "source": [
    "affinity_data['set'].value_counts()"
   ]
  },
  {
   "cell_type": "code",
   "execution_count": 10,
   "metadata": {},
   "outputs": [],
   "source": [
    "# training logs downloaded from tensorboard\n",
    "\n",
    "training_mse = pd.read_csv('%s-training_set_mse_all.csv' % results_prefix)\n",
    "validation_mse = pd.read_csv('%s-validation_set_mse_all.csv' % results_prefix)"
   ]
  },
  {
   "cell_type": "markdown",
   "metadata": {},
   "source": [
    "# Create the network"
   ]
  },
  {
   "cell_type": "code",
   "execution_count": 11,
   "metadata": {},
   "outputs": [],
   "source": [
    "graph = tf.Graph()\n",
    "\n",
    "with graph.as_default():\n",
    "    saver = tf.train.import_meta_graph('./%s-best.meta' % results_prefix,\n",
    "                                       clear_devices=True)"
   ]
  },
  {
   "cell_type": "code",
   "execution_count": 12,
   "metadata": {},
   "outputs": [],
   "source": [
    "# get tensors we need to get predictions and the error\n",
    "\n",
    "x = graph.get_tensor_by_name('input/structure:0')\n",
    "y = graph.get_tensor_by_name('output/prediction:0')\n",
    "t = graph.get_tensor_by_name('input/affinity:0')\n",
    "keep_prob = graph.get_tensor_by_name('fully_connected/keep_prob:0')\n",
    "\n",
    "mse = graph.get_tensor_by_name('training/mse:0')"
   ]
  },
  {
   "cell_type": "code",
   "execution_count": 13,
   "metadata": {},
   "outputs": [],
   "source": [
    "# get tensors we might need to analyze the network\n",
    "\n",
    "# activations on hidden layers\n",
    "hidden_layers = [\n",
    "    graph.get_tensor_by_name('convolution/conv0/h_pool:0'),\n",
    "    graph.get_tensor_by_name('convolution/conv1/h_pool:0'),\n",
    "    graph.get_tensor_by_name('convolution/conv2/h_pool:0'),\n",
    "    graph.get_tensor_by_name('fully_connected/fc0/h_dropout/mul:0'),\n",
    "    graph.get_tensor_by_name('fully_connected/fc1/h_dropout/mul:0'),\n",
    "    graph.get_tensor_by_name('fully_connected/fc2/h_dropout/mul:0')\n",
    "]\n",
    "\n",
    "# weights\n",
    "weights = [\n",
    "    graph.get_tensor_by_name('convolution/conv0/w:0'),\n",
    "    graph.get_tensor_by_name('convolution/conv1/w:0'),\n",
    "    graph.get_tensor_by_name('convolution/conv2/w:0'),\n",
    "    graph.get_tensor_by_name('fully_connected/fc0/w:0'),\n",
    "    graph.get_tensor_by_name('fully_connected/fc1/w:0'),\n",
    "    graph.get_tensor_by_name('fully_connected/fc2/w:0'),\n",
    "]"
   ]
  },
  {
   "cell_type": "markdown",
   "metadata": {},
   "source": [
    "# Training progress"
   ]
  },
  {
   "cell_type": "code",
   "execution_count": 14,
   "metadata": {},
   "outputs": [
    {
     "data": {
      "image/png": "[encoded data removed]",
      "text/plain": [
       "<matplotlib.figure.Figure at 0x7fbc7cf65e80>"
      ]
     },
     "metadata": {},
     "output_type": "display_data"
    }
   ],
   "source": [
    "best_model = validation_mse[validation_mse['Value'] == validation_mse['Value'].min()]\n",
    "best_epoch = best_model.index + 1\n",
    "best_value = best_model['Value']\n",
    "\n",
    "\n",
    "fig, ax = plt.subplots(figsize=(3.3, 2.5))\n",
    "\n",
    "# plot rmse instead of mse\n",
    "ax.plot(range(1, 21), training_mse['Value'] ** 0.5, label=set_titles['training'])\n",
    "ax.plot(range(1, 21), validation_mse['Value'] ** 0.5, label=set_titles['validation'])\n",
    "\n",
    "ax.vlines(best_epoch, 0, 2, color='r', linestyles='--', zorder=4, label='selected model')\n",
    "\n",
    "ax.set_xlabel('Epoch')\n",
    "ax.set_ylabel('RMSE')\n",
    "\n",
    "ax.set_xlim(0, 21)\n",
    "ax.set_xticks(range(0, 21, 2))\n",
    "ax.grid(True, axis='y')\n",
    "ax.set_ylim(0.9, 1.9)\n",
    "ax.set_yticks(np.arange(0.9, 1.9, 0.1))\n",
    "\n",
    "ax.legend(frameon=True, loc='lower left')\n",
    "fig.tight_layout()\n",
    "fig.savefig('%s/rmse.pdf' % results_path);"
   ]
  },
  {
   "cell_type": "markdown",
   "metadata": {},
   "source": [
    "# Predictions"
   ]
  },
  {
   "cell_type": "markdown",
   "metadata": {},
   "source": [
    "## Predict on PDBbind v2013 core set"
   ]
  },
  {
   "cell_type": "code",
   "execution_count": 15,
   "metadata": {},
   "outputs": [],
   "source": [
    "# load the data\n",
    "\n",
    "affinity = []\n",
    "coords = []\n",
    "features = []\n",
    "ids = []\n",
    "\n",
    "with h5py.File('%s/core2013.hdf' % pdbbind_path, 'r') as f:\n",
    "    for pdb_id in f:\n",
    "        ids.append(pdb_id)\n",
    "        dataset = f[pdb_id]\n",
    "        coords.append(dataset[:, :3])\n",
    "        features.append(dataset[:, 3:])\n",
    "\n",
    "        affinity.append(dataset.attrs['affinity'])\n",
    "\n",
    "affinity = np.reshape(affinity, (-1, 1))"
   ]
  },
  {
   "cell_type": "code",
   "execution_count": 16,
   "metadata": {},
   "outputs": [],
   "source": [
    "# prepare grids\n",
    "\n",
    "batch_grid = []\n",
    "\n",
    "for crd, f in zip(coords, features):\n",
    "    batch_grid.append(tfbio.data.make_grid(crd, f))\n",
    "\n",
    "batch_grid = np.vstack(batch_grid)\n",
    "batch_grid[..., columns['partialcharge']] /= charge_std"
   ]
  },
  {
   "cell_type": "code",
   "execution_count": 17,
   "metadata": {},
   "outputs": [
    {
     "name": "stdout",
     "output_type": "stream",
     "text": [
      "INFO:tensorflow:Restoring parameters from ././results/batch5-2017-06-05T07:58:47-best\n"
     ]
    }
   ],
   "source": [
    "# restore the trained model and predict affinities\n",
    "\n",
    "with tf.Session(graph=graph) as session:\n",
    "    saver.restore(session, './%s-best' % results_prefix)\n",
    "\n",
    "    pred_affinity = session.run(y, feed_dict={x: batch_grid, keep_prob: 1.0})"
   ]
  },
  {
   "cell_type": "markdown",
   "metadata": {},
   "source": [
    "## Merge with predictions for v2016"
   ]
  },
  {
   "cell_type": "markdown",
   "metadata": {},
   "source": [
    "The predictions for PDBbind v 2016 were already computed at the end of the training (see `train.py` script) and saved in &lt;prefix&gt;-predictions.csv file."
   ]
  },
  {
   "cell_type": "code",
   "execution_count": 18,
   "metadata": {},
   "outputs": [
    {
     "data": {
      "text/html": [
       "<div>\n",
       "<style scoped>\n",
       "    .dataframe tbody tr th:only-of-type {\n",
       "        vertical-align: middle;\n",
       "    }\n",
       "\n",
       "    .dataframe tbody tr th {\n",
       "        vertical-align: top;\n",
       "    }\n",
       "\n",
       "    .dataframe thead th {\n",
       "        text-align: right;\n",
       "    }\n",
       "</style>\n",
       "<table border=\"1\" class=\"dataframe\">\n",
       "  <thead>\n",
       "    <tr style=\"text-align: right;\">\n",
       "      <th></th>\n",
       "      <th>pdbid</th>\n",
       "      <th>predicted</th>\n",
       "      <th>real</th>\n",
       "      <th>set</th>\n",
       "    </tr>\n",
       "  </thead>\n",
       "  <tbody>\n",
       "    <tr>\n",
       "      <th>0</th>\n",
       "      <td>11gs</td>\n",
       "      <td>6.807291</td>\n",
       "      <td>5.82</td>\n",
       "      <td>training</td>\n",
       "    </tr>\n",
       "    <tr>\n",
       "      <th>1</th>\n",
       "      <td>13gs</td>\n",
       "      <td>5.665529</td>\n",
       "      <td>4.62</td>\n",
       "      <td>training</td>\n",
       "    </tr>\n",
       "    <tr>\n",
       "      <th>2</th>\n",
       "      <td>16pk</td>\n",
       "      <td>4.755159</td>\n",
       "      <td>5.22</td>\n",
       "      <td>training</td>\n",
       "    </tr>\n",
       "    <tr>\n",
       "      <th>3</th>\n",
       "      <td>184l</td>\n",
       "      <td>5.689533</td>\n",
       "      <td>4.72</td>\n",
       "      <td>training</td>\n",
       "    </tr>\n",
       "    <tr>\n",
       "      <th>4</th>\n",
       "      <td>185l</td>\n",
       "      <td>4.648183</td>\n",
       "      <td>3.54</td>\n",
       "      <td>training</td>\n",
       "    </tr>\n",
       "  </tbody>\n",
       "</table>\n",
       "</div>"
      ],
      "text/plain": [
       "  pdbid  predicted  real       set\n",
       "0  11gs   6.807291  5.82  training\n",
       "1  13gs   5.665529  4.62  training\n",
       "2  16pk   4.755159  5.22  training\n",
       "3  184l   5.689533  4.72  training\n",
       "4  185l   4.648183  3.54  training"
      ]
     },
     "execution_count": 18,
     "metadata": {},
     "output_type": "execute_result"
    }
   ],
   "source": [
    "predictions = pd.concat(\n",
    "    [\n",
    "        pd.read_csv('%s-predictions.csv' % results_prefix),\n",
    "        pd.DataFrame({'pdbid': ids, 'predicted': pred_affinity.flatten(),\n",
    "                      'real': affinity.flatten(), 'set': 'core2013'})\n",
    "    ]\n",
    ")\n",
    "\n",
    "predictions.head()"
   ]
  },
  {
   "cell_type": "code",
   "execution_count": 19,
   "metadata": {},
   "outputs": [
    {
     "name": "stdout",
     "output_type": "stream",
     "text": [
      "  core2013 set: RMSE=1.623, MAE=1.318, R=0.70 (p=1.05e-29), SD=1.614\n",
      "      test set: RMSE=1.423, MAE=1.136, R=0.77 (p=4.08e-59), SD=1.378\n",
      "  training set: RMSE=1.214, MAE=0.954, R=0.77 (p=0.00e+00), SD=1.188\n",
      "validation set: RMSE=1.440, MAE=1.138, R=0.72 (p=1.51e-159), SD=1.428\n"
     ]
    },
    {
     "data": {
      "image/png": "[encoded data removed]",
      "text/plain": [
       "<matplotlib.figure.Figure at 0x7fbc7c3aaa20>"
      ]
     },
     "metadata": {},
     "output_type": "display_data"
    },
    {
     "data": {
      "image/png": "[encoded data removed]",
      "text/plain": [
       "<matplotlib.figure.Figure at 0x7fbc7c75a1d0>"
      ]
     },
     "metadata": {},
     "output_type": "display_data"
    },
    {
     "data": {
      "image/png": "[encoded data removed]",
      "text/plain": [
       "<matplotlib.figure.Figure at 0x7fbc7c6d6710>"
      ]
     },
     "metadata": {},
     "output_type": "display_data"
    },
    {
     "data": {
      "image/png": "[encoded data removed]",
      "text/plain": [
       "<matplotlib.figure.Figure at 0x7fbc7caaf630>"
      ]
     },
     "metadata": {},
     "output_type": "display_data"
    }
   ],
   "source": [
    "for set_name, table in predictions.groupby('set'):\n",
    "    rmse = ((table['predicted'] - table['real']) ** 2).mean() ** 0.5\n",
    "    mae = (np.abs(table['predicted'] - table['real'])).mean()\n",
    "    corr = scipy.stats.pearsonr(table['predicted'], table['real'])\n",
    "    lr = LinearRegression()\n",
    "    lr.fit(table[['predicted']], table['real'])\n",
    "    y_ = lr.predict(table[['predicted']])\n",
    "    sd = (((table['real'] - y_) ** 2).sum() / (len(table) - 1)) ** 0.5\n",
    "    print('%10s set: RMSE=%.3f, MAE=%.3f, R=%.2f (p=%.2e), SD=%.3f' % (set_name, rmse, mae, *corr, sd))\n",
    "\n",
    "    grid = sns.jointplot('real', 'predicted', data=table, stat_func=None, color=set_colors[set_name],\n",
    "                         space=0.0, size=3, s=10, edgecolor='w', ylim=(0, 16), xlim=(0, 16))\n",
    "\n",
    "    grid.ax_joint.text(1, 14, set_titles[set_name])\n",
    "    grid.ax_joint.set_xticks(range(0, 16, 5))\n",
    "    grid.ax_joint.set_yticks(range(0, 16, 5))\n",
    "\n",
    "    grid.fig.savefig('%s/pred_%s.pdf' % (results_path, set_name))"
   ]
  },
  {
   "cell_type": "code",
   "execution_count": 20,
   "metadata": {},
   "outputs": [],
   "source": [
    "predictions.to_csv('%s-all_predictions.csv' % results_prefix, index=False)"
   ]
  },
  {
   "cell_type": "markdown",
   "metadata": {},
   "source": [
    "# Select examples"
   ]
  },
  {
   "cell_type": "markdown",
   "metadata": {},
   "source": [
    "Get protein with the biggest number of complexes in the v2016 core set (which was used as test set)"
   ]
  },
  {
   "cell_type": "code",
   "execution_count": 21,
   "metadata": {},
   "outputs": [
    {
     "data": {
      "text/plain": [
       "uniprotid\n",
       "Q9Y233    10\n",
       "P00918     5\n",
       "P18031     5\n",
       "P11838     5\n",
       "Q9L5C8     5\n",
       "P0A5R0     5\n",
       "P0A4Z6     5\n",
       "P07900     5\n",
       "P04637     5\n",
       "P04058     5\n",
       "Name: name, dtype: int64"
      ]
     },
     "execution_count": 21,
     "metadata": {},
     "output_type": "execute_result"
    }
   ],
   "source": [
    "core_pdbids = list(affinity_data[affinity_data['pdbbind_set'] == 'core']['pdbid'])\n",
    "\n",
    "core_idx = np.in1d(protein_data['pdbid'], core_pdbids)\n",
    "\n",
    "num_complexes = (protein_data\n",
    "                 .loc[core_idx]\n",
    "                 .groupby('uniprotid')\n",
    "                 ['name']\n",
    "                 .agg(len)\n",
    "                 .sort_values(ascending=False))\n",
    "\n",
    "num_complexes[:10]"
   ]
  },
  {
   "cell_type": "code",
   "execution_count": 22,
   "metadata": {},
   "outputs": [
    {
     "data": {
      "text/plain": [
       "'Q9Y233'"
      ]
     },
     "execution_count": 22,
     "metadata": {},
     "output_type": "execute_result"
    }
   ],
   "source": [
    "unid = num_complexes.index[0]\n",
    "unid"
   ]
  },
  {
   "cell_type": "code",
   "execution_count": 23,
   "metadata": {},
   "outputs": [
    {
     "name": "stdout",
     "output_type": "stream",
     "text": [
      "57 examples\n"
     ]
    },
    {
     "data": {
      "text/html": [
       "<div>\n",
       "<style scoped>\n",
       "    .dataframe tbody tr th:only-of-type {\n",
       "        vertical-align: middle;\n",
       "    }\n",
       "\n",
       "    .dataframe tbody tr th {\n",
       "        vertical-align: top;\n",
       "    }\n",
       "\n",
       "    .dataframe thead th {\n",
       "        text-align: right;\n",
       "    }\n",
       "</style>\n",
       "<table border=\"1\" class=\"dataframe\">\n",
       "  <thead>\n",
       "    <tr style=\"text-align: right;\">\n",
       "      <th></th>\n",
       "      <th>pdbid</th>\n",
       "      <th>pdbbind_set</th>\n",
       "      <th>set</th>\n",
       "    </tr>\n",
       "  </thead>\n",
       "  <tbody>\n",
       "    <tr>\n",
       "      <th>0</th>\n",
       "      <td>4llx</td>\n",
       "      <td>core</td>\n",
       "      <td>test</td>\n",
       "    </tr>\n",
       "    <tr>\n",
       "      <th>1</th>\n",
       "      <td>4lm3</td>\n",
       "      <td>refined</td>\n",
       "      <td>validation</td>\n",
       "    </tr>\n",
       "    <tr>\n",
       "      <th>2</th>\n",
       "      <td>4llk</td>\n",
       "      <td>refined</td>\n",
       "      <td>training</td>\n",
       "    </tr>\n",
       "    <tr>\n",
       "      <th>3</th>\n",
       "      <td>4lm2</td>\n",
       "      <td>refined</td>\n",
       "      <td>validation</td>\n",
       "    </tr>\n",
       "    <tr>\n",
       "      <th>4</th>\n",
       "      <td>4lm4</td>\n",
       "      <td>refined</td>\n",
       "      <td>training</td>\n",
       "    </tr>\n",
       "  </tbody>\n",
       "</table>\n",
       "</div>"
      ],
      "text/plain": [
       "  pdbid pdbbind_set         set\n",
       "0  4llx        core        test\n",
       "1  4lm3     refined  validation\n",
       "2  4llk     refined    training\n",
       "3  4lm2     refined  validation\n",
       "4  4lm4     refined    training"
      ]
     },
     "execution_count": 23,
     "metadata": {},
     "output_type": "execute_result"
    }
   ],
   "source": [
    "complexes = protein_data.loc[(protein_data['uniprotid'] == unid), 'pdbid']\n",
    "examples = affinity_data.loc[np.in1d(affinity_data['pdbid'], complexes),\n",
    "                             ['pdbid', 'pdbbind_set', 'set']]\n",
    "examples = examples.reset_index(drop=True)\n",
    "num_examples = len(examples)\n",
    "print(num_examples, 'examples')\n",
    "examples.head()"
   ]
  },
  {
   "cell_type": "code",
   "execution_count": 24,
   "metadata": {},
   "outputs": [],
   "source": [
    "# load the input and affinities for selected examples\n",
    "\n",
    "affinity = []\n",
    "coords = []\n",
    "features = []\n",
    "ids = []\n",
    "\n",
    "\n",
    "for set_name, table in examples.groupby('set'):\n",
    "    with h5py.File('%s/%s_set.hdf' % (pdbbind_path, set_name), 'r') as f:\n",
    "        for pdb_id in table['pdbid']:\n",
    "            ids.append(pdb_id)\n",
    "            dataset = f[pdb_id]\n",
    "            coords.append(dataset[:, :3])\n",
    "            features.append(dataset[:, 3:])\n",
    "            \n",
    "            affinity.append(dataset.attrs['affinity'])\n",
    "\n",
    "affinity = np.reshape(affinity, (-1, 1))            "
   ]
  },
  {
   "cell_type": "markdown",
   "metadata": {},
   "source": [
    "# Results for different orientation of the input"
   ]
  },
  {
   "cell_type": "markdown",
   "metadata": {},
   "source": [
    "Let's check whether we get similar results for differently presented input.\n",
    "Our model is not invariant to input orientation.\n",
    "Each complex was centered at ligand's geometric center, so we do not need to worry about translations.\n",
    "However our model might be sensitive to input rotation.\n",
    "\n",
    "We will predict affinity for 24 orientations of a molecular complex and check if they are stable."
   ]
  },
  {
   "cell_type": "code",
   "execution_count": 25,
   "metadata": {},
   "outputs": [
    {
     "name": "stdout",
     "output_type": "stream",
     "text": [
      "INFO:tensorflow:Restoring parameters from ././results/batch5-2017-06-05T07:58:47-best\n",
      "0\n",
      "1\n",
      "2\n",
      "3\n",
      "4\n",
      "5\n",
      "6\n",
      "7\n",
      "8\n",
      "9\n",
      "10\n",
      "11\n",
      "12\n",
      "13\n",
      "14\n",
      "15\n",
      "16\n",
      "17\n",
      "18\n",
      "19\n",
      "20\n",
      "21\n",
      "22\n",
      "23\n"
     ]
    }
   ],
   "source": [
    "rot_predictions = []\n",
    "\n",
    "with tf.Session(graph=graph) as session:\n",
    "    saver.restore(session, './%s-best' % results_prefix)\n",
    "    \n",
    "    for rotation in range(24): \n",
    "        print(rotation)\n",
    "        batch_grid = np.zeros((num_examples, box_size, box_size, box_size, num_features))\n",
    "        \n",
    "        for i, (crds, ft) in enumerate(zip(coords, features)):\n",
    "            crds = tfbio.data.rotate(crds, rotation)\n",
    "            batch_grid[i] = tfbio.data.make_grid(crds, ft)\n",
    "        batch_grid[..., columns['partialcharge']] /= charge_std\n",
    "        \n",
    "\n",
    "        pred_affinity = session.run(y, feed_dict={x: batch_grid,\n",
    "                                                  t: np.reshape(affinity, (num_examples, 1)),\n",
    "                                                  keep_prob: 1.0})\n",
    "        rot_predictions.append(pd.DataFrame({'rotation': rotation, 'pdbid': ids,\n",
    "                                             'predicted': np.squeeze(pred_affinity)}))"
   ]
  },
  {
   "cell_type": "code",
   "execution_count": 26,
   "metadata": {},
   "outputs": [],
   "source": [
    "rot_predictions = pd.concat(rot_predictions)\n",
    "rot_predictions = pd.merge(rot_predictions, affinity_data)\n",
    "rot_predictions = rot_predictions.sort_values('predicted')"
   ]
  },
  {
   "cell_type": "code",
   "execution_count": 27,
   "metadata": {},
   "outputs": [],
   "source": [
    "rot_predictions['pdbid'] = rot_predictions['pdbid'].str.upper()"
   ]
  },
  {
   "cell_type": "code",
   "execution_count": 28,
   "metadata": {},
   "outputs": [],
   "source": [
    "palette = {}\n",
    "for set_name, idx in rot_predictions.groupby('set')['pdbid'].agg(lambda x: set(x)).items():\n",
    "    for i in idx:\n",
    "        palette[i] = set_colors[set_name]"
   ]
  },
  {
   "cell_type": "code",
   "execution_count": 29,
   "metadata": {},
   "outputs": [
    {
     "data": {
      "image/png": "[encoded data removed]",
      "text/plain": [
       "<matplotlib.figure.Figure at 0x7fbc7c7b74e0>"
      ]
     },
     "metadata": {},
     "output_type": "display_data"
    }
   ],
   "source": [
    "# plot range of predicted affinities for each complex\n",
    "# sort by predicted value and color by training/validation/test split\n",
    "\n",
    "fig, ax = plt.subplots(figsize=(3.3, 8))\n",
    "sns.boxplot(y='pdbid', x='predicted', data=rot_predictions, ax=ax, palette=palette, linewidth=1, fliersize=2)\n",
    "\n",
    "ax.set_xlim(3,)\n",
    "ax.set_xlabel('Predicted affinity')\n",
    "ax.set_ylabel('PDB ID')\n",
    "\n",
    "# we need to manually add the legend\n",
    "handles = []\n",
    "labels = []\n",
    "for set_name in ['training', 'validation', 'test']:\n",
    "    handles.append(Rectangle((0, 0), 1, 1, fc=set_colors[set_name], lw=1, ec='k'))\n",
    "    labels.append(set_titles[set_name])\n",
    "ax.legend(handles, labels, loc='upper right')\n",
    "\n",
    "fig.savefig('%s/rotations.pdf' % results_path, bbox_inches='tight');"
   ]
  },
  {
   "cell_type": "markdown",
   "metadata": {},
   "source": [
    "#  Network properties"
   ]
  },
  {
   "cell_type": "markdown",
   "metadata": {},
   "source": [
    "## Feature importance"
   ]
  },
  {
   "cell_type": "markdown",
   "metadata": {},
   "source": [
    "Check distribution of weights for each of the feautures.\n",
    "The higher the absolute value of the weight, the more information comes out of this part of an input."
   ]
  },
  {
   "cell_type": "code",
   "execution_count": 30,
   "metadata": {},
   "outputs": [
    {
     "name": "stdout",
     "output_type": "stream",
     "text": [
      "INFO:tensorflow:Restoring parameters from ././results/batch5-2017-06-05T07:58:47-best\n"
     ]
    }
   ],
   "source": [
    "# get outgoing weights for each feature\n",
    "\n",
    "with tf.Session(graph=graph) as session:\n",
    "    saver.restore(session, './%s-best' % results_prefix)\n",
    "    w0 = session.run(weights[0])  \n",
    "\n",
    "w0 = pd.DataFrame(np.transpose(w0, [0, 1, 2, 4, 3]).reshape((-1, num_features)),\n",
    "                  columns=featurizer.FEATURE_NAMES)"
   ]
  },
  {
   "cell_type": "markdown",
   "metadata": {},
   "source": [
    "Check how much the distribution of weights for each feature differs from the initial one - truncated normal with std=0.001.\n",
    "Compute fraction of weights that are more than 1*std away from the mean."
   ]
  },
  {
   "cell_type": "code",
   "execution_count": 31,
   "metadata": {},
   "outputs": [
    {
     "data": {
      "text/plain": [
       "molcode          0.953000\n",
       "hydrophobic      0.944375\n",
       "hyb              0.941625\n",
       "partialcharge    0.931875\n",
       "donor            0.930750\n",
       "C                0.923625\n",
       "heterovalence    0.923125\n",
       "aromatic         0.923000\n",
       "N                0.922500\n",
       "heavyvalence     0.921750\n",
       "ring             0.920000\n",
       "O                0.919125\n",
       "acceptor         0.911125\n",
       "halogen          0.907125\n",
       "S                0.886375\n",
       "metal            0.813000\n",
       "P                0.651125\n",
       "B                0.485625\n",
       "Se               0.154000\n",
       "dtype: float64"
      ]
     },
     "execution_count": 31,
     "metadata": {},
     "output_type": "execute_result"
    }
   ],
   "source": [
    "diff = (w0.abs() > 0.001).mean()\n",
    "diff.sort_values(ascending=False)"
   ]
  },
  {
   "cell_type": "code",
   "execution_count": 32,
   "metadata": {},
   "outputs": [
    {
     "data": {
      "text/plain": [
       "molcode          0.019928\n",
       "hydrophobic      0.018841\n",
       "donor            0.015781\n",
       "aromatic         0.015471\n",
       "N                0.015198\n",
       "partialcharge    0.014980\n",
       "heterovalence    0.014018\n",
       "ring             0.013808\n",
       "halogen          0.013747\n",
       "S                0.012946\n",
       "O                0.012732\n",
       "acceptor         0.011903\n",
       "C                0.009942\n",
       "hyb              0.009703\n",
       "heavyvalence     0.009313\n",
       "metal            0.008034\n",
       "P                0.006523\n",
       "B                0.001825\n",
       "Se               0.000555\n",
       "dtype: float64"
      ]
     },
     "execution_count": 32,
     "metadata": {},
     "output_type": "execute_result"
    }
   ],
   "source": [
    "# range between 25th and 75th percentiles\n",
    "perc_diff = ((w0.apply(lambda x: np.percentile(x, 75))\n",
    "             - w0.apply(lambda x: np.percentile(x, 25)))\n",
    "             .sort_values(ascending=False))\n",
    "perc_diff"
   ]
  },
  {
   "cell_type": "code",
   "execution_count": 33,
   "metadata": {},
   "outputs": [
    {
     "data": {
      "image/png": "[encoded data removed]",
      "text/plain": [
       "<matplotlib.figure.Figure at 0x7fbc7c82f5f8>"
      ]
     },
     "metadata": {},
     "output_type": "display_data"
    }
   ],
   "source": [
    "# plot range of weights, do not show outliers\n",
    "\n",
    "fig, ax = plt.subplots(figsize=(3.3, 3))\n",
    "\n",
    "sns.boxplot(data=w0, fliersize=0, orient='h', order=perc_diff.index, ax=ax)\n",
    "ax.set_xlim(-0.055, 0.055)\n",
    "ax.set_xticks(np.arange(-0.04, 0.05, 0.02))\n",
    "ax.set_ylim(19, -1)\n",
    "\n",
    "fig.tight_layout()\n",
    "\n",
    "fig.savefig('%s/fi_box.pdf' % results_path)"
   ]
  },
  {
   "cell_type": "markdown",
   "metadata": {},
   "source": [
    "# Find parts of input that are crucial for predicting activity"
   ]
  },
  {
   "cell_type": "code",
   "execution_count": 34,
   "metadata": {},
   "outputs": [
    {
     "data": {
      "text/plain": [
       "19"
      ]
     },
     "execution_count": 34,
     "metadata": {},
     "output_type": "execute_result"
    }
   ],
   "source": [
    "# select a single ligand, that was predicted to be active\n",
    "\n",
    "ligand = '3ws8'\n",
    "rotation = 2\n",
    "\n",
    "ligand_idx = ids.index(ligand)\n",
    "ligand_idx"
   ]
  },
  {
   "cell_type": "code",
   "execution_count": 35,
   "metadata": {},
   "outputs": [],
   "source": [
    "ligand_grid = tfbio.data.make_grid(coords[ligand_idx], features[ligand_idx])\n",
    "ligand_rot_grid = tfbio.data.make_grid(tfbio.data.rotate(coords[ligand_idx], rotation),\n",
    "                                       features[ligand_idx])\n",
    "\n",
    "for grid in (ligand_grid, ligand_rot_grid):\n",
    "    grid[..., columns['partialcharge']] /= charge_std"
   ]
  },
  {
   "cell_type": "markdown",
   "metadata": {},
   "source": [
    "## Baseline prediction"
   ]
  },
  {
   "cell_type": "markdown",
   "metadata": {},
   "source": [
    "Check what is the baseline - prediction that our model returns, when we do not give him any inforation about the complex.\n",
    "(We can think of it as an analogy to intercept in linear model.)"
   ]
  },
  {
   "cell_type": "code",
   "execution_count": 36,
   "metadata": {},
   "outputs": [
    {
     "name": "stdout",
     "output_type": "stream",
     "text": [
      "INFO:tensorflow:Restoring parameters from ././results/batch5-2017-06-05T07:58:47-best\n"
     ]
    },
    {
     "data": {
      "text/plain": [
       "array([[ 3.72884059]], dtype=float32)"
      ]
     },
     "execution_count": 36,
     "metadata": {},
     "output_type": "execute_result"
    }
   ],
   "source": [
    "with tf.Session(graph=graph) as session:\n",
    "    saver.restore(session, './%s-best' % results_prefix)\n",
    "\n",
    "    zero_pred = session.run(y, feed_dict={x: np.zeros_like(ligand_grid), keep_prob: 1.0})\n",
    "\n",
    "zero_pred"
   ]
  },
  {
   "cell_type": "markdown",
   "metadata": {},
   "source": [
    "Make sure that our model did not learned to just recognize ligands or proteins and uses both ligand and protein to predict binding affinity."
   ]
  },
  {
   "cell_type": "code",
   "execution_count": 37,
   "metadata": {},
   "outputs": [
    {
     "name": "stdout",
     "output_type": "stream",
     "text": [
      "INFO:tensorflow:Restoring parameters from ././results/batch5-2017-06-05T07:58:47-best\n"
     ]
    },
    {
     "data": {
      "text/plain": [
       "array([[ 3.62693   ],\n",
       "       [ 3.67444158]], dtype=float32)"
      ]
     },
     "execution_count": 37,
     "metadata": {},
     "output_type": "execute_result"
    }
   ],
   "source": [
    "no_lig = np.vstack((ligand_grid, ligand_rot_grid))\n",
    "no_lig[no_lig[..., columns['molcode']] == 1.0] = 0.0\n",
    "\n",
    "\n",
    "with tf.Session(graph=graph) as session:\n",
    "    saver.restore(session, './%s-best' % results_prefix)\n",
    "\n",
    "    no_lig_pred = session.run(y, feed_dict={x: no_lig, keep_prob: 1.0})\n",
    "\n",
    "no_lig_pred"
   ]
  },
  {
   "cell_type": "code",
   "execution_count": 38,
   "metadata": {},
   "outputs": [
    {
     "name": "stdout",
     "output_type": "stream",
     "text": [
      "INFO:tensorflow:Restoring parameters from ././results/batch5-2017-06-05T07:58:47-best\n"
     ]
    },
    {
     "data": {
      "text/plain": [
       "array([[ 5.53257084],\n",
       "       [ 5.52911186]], dtype=float32)"
      ]
     },
     "execution_count": 38,
     "metadata": {},
     "output_type": "execute_result"
    }
   ],
   "source": [
    "no_prot = np.vstack((ligand_grid, ligand_rot_grid))\n",
    "no_prot[no_prot[..., columns['molcode']] == -1.0] = 0.0\n",
    "\n",
    "\n",
    "with tf.Session(graph=graph) as session:\n",
    "    saver.restore(session, './%s-best' % results_prefix)\n",
    "\n",
    "    no_prot_pred = session.run(y, feed_dict={x: no_prot, keep_prob: 1.0})\n",
    "\n",
    "no_prot_pred"
   ]
  },
  {
   "cell_type": "markdown",
   "metadata": {},
   "source": [
    "Interestingly, ligand with no protein gives higher predictions - this information is more important for the model.\n",
    "We can also see in the weights' distribution, that weights associated with the `molcode` are more often positive.\n",
    "This kind of filters recognizes ligand, while filters with strongly negative values recognize protein."
   ]
  },
  {
   "cell_type": "markdown",
   "metadata": {},
   "source": [
    "## Set parts of an input to 0"
   ]
  },
  {
   "cell_type": "code",
   "execution_count": 39,
   "metadata": {},
   "outputs": [],
   "source": [
    "box = 5    # same size as in convolutional layers\n",
    "step = 3\n",
    "steps_in_loop = box_size // step"
   ]
  },
  {
   "cell_type": "code",
   "execution_count": 40,
   "metadata": {},
   "outputs": [
    {
     "data": {
      "text/plain": [
       "7.7010612"
      ]
     },
     "execution_count": 40,
     "metadata": {},
     "output_type": "execute_result"
    }
   ],
   "source": [
    "mean_pred = rot_predictions[rot_predictions['pdbid'] == ligand.upper()]['predicted'].mean()\n",
    "mean_pred "
   ]
  },
  {
   "cell_type": "code",
   "execution_count": 41,
   "metadata": {},
   "outputs": [],
   "source": [
    "# prepare grids with a single deleted box in each\n",
    "\n",
    "modified = np.repeat(ligand_grid, steps_in_loop**3, axis=0)\n",
    "origins = []\n",
    "\n",
    "num = 0\n",
    "for i in range(0, box_size-step+1, step):\n",
    "    for j in range(0, box_size-step+1, step):\n",
    "        for k in range(0, box_size-step+1, step):\n",
    "            origins.append((i, j, k))\n",
    "            modified[num, i:i+box, j:j+box, k:k+box] = 0.0\n",
    "            num += 1\n",
    "\n",
    "assert num == steps_in_loop ** 3\n",
    "\n",
    "origins = np.array(origins)"
   ]
  },
  {
   "cell_type": "code",
   "execution_count": 42,
   "metadata": {},
   "outputs": [
    {
     "name": "stdout",
     "output_type": "stream",
     "text": [
      "INFO:tensorflow:Restoring parameters from ././results/batch5-2017-06-05T07:58:47-best\n"
     ]
    }
   ],
   "source": [
    "with tf.Session(graph=graph) as session:\n",
    "    saver.restore(session, './%s-best' % results_prefix)\n",
    "\n",
    "    modified_pred = session.run(y, feed_dict={x: modified, keep_prob: 1.0})"
   ]
  },
  {
   "cell_type": "code",
   "execution_count": 43,
   "metadata": {},
   "outputs": [
    {
     "data": {
      "image/png": "[encoded data removed]",
      "text/plain": [
       "<matplotlib.figure.Figure at 0x7fbc76345cf8>"
      ]
     },
     "metadata": {},
     "output_type": "display_data"
    }
   ],
   "source": [
    "sns.boxplot(modified_pred);"
   ]
  },
  {
   "cell_type": "code",
   "execution_count": 44,
   "metadata": {},
   "outputs": [
    {
     "data": {
      "text/plain": [
       "array([116, 115, 123, 171, 164, 172, 122, 170,  67, 165])"
      ]
     },
     "execution_count": 44,
     "metadata": {},
     "output_type": "execute_result"
    }
   ],
   "source": [
    "# get 10 boxes with lowest predictions - those are ost important parts of an input\n",
    "\n",
    "important_idx = np.argsort(modified_pred[:, 0])[:10]\n",
    "important_idx"
   ]
  },
  {
   "cell_type": "code",
   "execution_count": 45,
   "metadata": {},
   "outputs": [],
   "source": [
    "def get_box_atoms(indices, grid):\n",
    "    \"\"\"Get atoms from the grid that are in the boxes specified with indices\"\"\"\n",
    "    \n",
    "    important_atoms = []\n",
    "    \n",
    "    \n",
    "    for idx in indices:\n",
    "        i, j, k = origins[idx]\n",
    "\n",
    "        tmp = grid[0][i:i+box, j:j+box, k:k+box]\n",
    "\n",
    "        atom_table = pd.DataFrame(tmp[tmp[..., columns['molcode']] != 0],\n",
    "                                  columns=featurizer.FEATURE_NAMES)\n",
    "        atom_x, atom_y, atom_z = np.where(tmp[..., columns['molcode']] != 0)\n",
    "        atom_x += i\n",
    "        atom_y += j\n",
    "        atom_z += k\n",
    "        atom_table['x'] = atom_x\n",
    "        atom_table['y'] = atom_y\n",
    "        atom_table['z'] = atom_z\n",
    "        atom_table['idx'] = idx\n",
    "        important_atoms.append(atom_table)\n",
    "\n",
    "    important_atoms = pd.concat(important_atoms, ignore_index=True)\n",
    "    \n",
    "    important_atoms['partialcharge'] *= charge_std\n",
    "    \n",
    "    return important_atoms\n",
    "\n",
    "# columns we want to print\n",
    "to_print = ['x', 'y', 'z', 'B', 'C', 'N', 'O', 'P', 'S', 'Se', 'hyb', 'partialcharge',\n",
    "            'hydrophobic', 'aromatic', 'acceptor', 'donor', 'ring', 'idx']"
   ]
  },
  {
   "cell_type": "code",
   "execution_count": 46,
   "metadata": {},
   "outputs": [],
   "source": [
    "def plot_boxes(complex_idx, rot, box_indices):\n",
    "    \"\"\"Plot molecular complex in the specified rotation and the boxes specified by indices\"\"\"\n",
    "    \n",
    "\n",
    "    from mpl_toolkits import mplot3d\n",
    "\n",
    "    fig = plt.figure(figsize=(6, 6))\n",
    "\n",
    "    crds = tfbio.data.rotate(coords[complex_idx], rot)\n",
    "    ft = features[complex_idx]\n",
    "\n",
    "    ax = fig.add_subplot(111, projection='3d')\n",
    "\n",
    "    mx, my, mz = crds[ft[:, columns['molcode']] == 1.0].T + max_dist\n",
    "    ax.scatter(mx, my, mz, label='ligand', c='b', s=20)\n",
    "\n",
    "    mx, my, mz = crds[ft[:, columns['molcode']] == -1.0].T + max_dist\n",
    "    ax.scatter(mx, my, mz, label='protein', c='g', s=5)\n",
    "\n",
    "    for i, j, k in origins[box_indices]:\n",
    "        alpha = 0.05\n",
    "        ax.plot_surface([i, i+box], [[j, j], [j+box, j+box]], k, alpha=alpha, color='gray')\n",
    "        ax.plot_surface([i, i+box], [[j, j], [j+box, j+box]], k+box, alpha=alpha, color='gray')\n",
    "        ax.plot_surface(i, [[j, j], [j+box, j+box]], [k, k+box], alpha=alpha, color='gray')\n",
    "        ax.plot_surface(i+box, [[j, j], [j+box, j+box]], [k, k+box], alpha=alpha, color='gray')\n",
    "        ax.plot_surface([i, i+box], j, [k, k+box], alpha=alpha, color='gray')\n",
    "        ax.plot_surface([i, i+box], j+box, [[k, k], [k+box, k+box]], alpha=alpha, color='gray')\n",
    "\n",
    "    ax.set_xlabel('X')\n",
    "    ax.set_ylabel('Y')\n",
    "    ax.set_zlabel('Z')\n",
    "    \n",
    "    ax.legend(loc=(0.75, 0.75), frameon=True)\n",
    "\n",
    "    return fig, ax"
   ]
  },
  {
   "cell_type": "code",
   "execution_count": 47,
   "metadata": {},
   "outputs": [
    {
     "data": {
      "image/png": "[encoded data removed]",
      "text/plain": [
       "<matplotlib.figure.Figure at 0x7fbc7c81d0f0>"
      ]
     },
     "metadata": {},
     "output_type": "display_data"
    }
   ],
   "source": [
    "fig, ax = plot_boxes(ligand_idx, 0, important_idx)\n",
    "\n",
    "ax.set_xlim(0, 21)\n",
    "ax.set_ylim(0, 21)\n",
    "ax.set_zlim(0, 21)\n",
    "\n",
    "fig.tight_layout()\n",
    "fig.savefig('%s/changes.pdf' % results_path);"
   ]
  },
  {
   "cell_type": "code",
   "execution_count": 48,
   "metadata": {},
   "outputs": [
    {
     "data": {
      "text/html": [
       "<div>\n",
       "<style scoped>\n",
       "    .dataframe tbody tr th:only-of-type {\n",
       "        vertical-align: middle;\n",
       "    }\n",
       "\n",
       "    .dataframe tbody tr th {\n",
       "        vertical-align: top;\n",
       "    }\n",
       "\n",
       "    .dataframe thead th {\n",
       "        text-align: right;\n",
       "    }\n",
       "</style>\n",
       "<table border=\"1\" class=\"dataframe\">\n",
       "  <thead>\n",
       "    <tr style=\"text-align: right;\">\n",
       "      <th></th>\n",
       "      <th>x</th>\n",
       "      <th>y</th>\n",
       "      <th>z</th>\n",
       "      <th>B</th>\n",
       "      <th>C</th>\n",
       "      <th>N</th>\n",
       "      <th>O</th>\n",
       "      <th>P</th>\n",
       "      <th>S</th>\n",
       "      <th>Se</th>\n",
       "      <th>hyb</th>\n",
       "      <th>partialcharge</th>\n",
       "      <th>hydrophobic</th>\n",
       "      <th>aromatic</th>\n",
       "      <th>acceptor</th>\n",
       "      <th>donor</th>\n",
       "      <th>ring</th>\n",
       "      <th>idx</th>\n",
       "    </tr>\n",
       "  </thead>\n",
       "  <tbody>\n",
       "    <tr>\n",
       "      <th>44</th>\n",
       "      <td>6</td>\n",
       "      <td>11</td>\n",
       "      <td>11</td>\n",
       "      <td>0.0</td>\n",
       "      <td>1.0</td>\n",
       "      <td>0.0</td>\n",
       "      <td>0.0</td>\n",
       "      <td>0.0</td>\n",
       "      <td>0.0</td>\n",
       "      <td>0.0</td>\n",
       "      <td>2.0</td>\n",
       "      <td>-0.1704</td>\n",
       "      <td>1.0</td>\n",
       "      <td>1.0</td>\n",
       "      <td>0.0</td>\n",
       "      <td>0.0</td>\n",
       "      <td>1.0</td>\n",
       "      <td>122</td>\n",
       "    </tr>\n",
       "    <tr>\n",
       "      <th>16</th>\n",
       "      <td>6</td>\n",
       "      <td>11</td>\n",
       "      <td>14</td>\n",
       "      <td>0.0</td>\n",
       "      <td>1.0</td>\n",
       "      <td>0.0</td>\n",
       "      <td>0.0</td>\n",
       "      <td>0.0</td>\n",
       "      <td>0.0</td>\n",
       "      <td>0.0</td>\n",
       "      <td>2.0</td>\n",
       "      <td>-0.1704</td>\n",
       "      <td>1.0</td>\n",
       "      <td>1.0</td>\n",
       "      <td>0.0</td>\n",
       "      <td>0.0</td>\n",
       "      <td>1.0</td>\n",
       "      <td>123</td>\n",
       "    </tr>\n",
       "    <tr>\n",
       "      <th>45</th>\n",
       "      <td>7</td>\n",
       "      <td>12</td>\n",
       "      <td>11</td>\n",
       "      <td>0.0</td>\n",
       "      <td>1.0</td>\n",
       "      <td>0.0</td>\n",
       "      <td>0.0</td>\n",
       "      <td>0.0</td>\n",
       "      <td>0.0</td>\n",
       "      <td>0.0</td>\n",
       "      <td>2.0</td>\n",
       "      <td>-0.1256</td>\n",
       "      <td>1.0</td>\n",
       "      <td>1.0</td>\n",
       "      <td>0.0</td>\n",
       "      <td>0.0</td>\n",
       "      <td>1.0</td>\n",
       "      <td>122</td>\n",
       "    </tr>\n",
       "    <tr>\n",
       "      <th>17</th>\n",
       "      <td>7</td>\n",
       "      <td>12</td>\n",
       "      <td>12</td>\n",
       "      <td>0.0</td>\n",
       "      <td>1.0</td>\n",
       "      <td>0.0</td>\n",
       "      <td>0.0</td>\n",
       "      <td>0.0</td>\n",
       "      <td>0.0</td>\n",
       "      <td>0.0</td>\n",
       "      <td>2.0</td>\n",
       "      <td>0.0118</td>\n",
       "      <td>1.0</td>\n",
       "      <td>1.0</td>\n",
       "      <td>0.0</td>\n",
       "      <td>0.0</td>\n",
       "      <td>1.0</td>\n",
       "      <td>123</td>\n",
       "    </tr>\n",
       "    <tr>\n",
       "      <th>18</th>\n",
       "      <td>7</td>\n",
       "      <td>12</td>\n",
       "      <td>13</td>\n",
       "      <td>0.0</td>\n",
       "      <td>1.0</td>\n",
       "      <td>0.0</td>\n",
       "      <td>0.0</td>\n",
       "      <td>0.0</td>\n",
       "      <td>0.0</td>\n",
       "      <td>0.0</td>\n",
       "      <td>2.0</td>\n",
       "      <td>-0.1256</td>\n",
       "      <td>1.0</td>\n",
       "      <td>1.0</td>\n",
       "      <td>0.0</td>\n",
       "      <td>0.0</td>\n",
       "      <td>1.0</td>\n",
       "      <td>123</td>\n",
       "    </tr>\n",
       "    <tr>\n",
       "      <th>25</th>\n",
       "      <td>9</td>\n",
       "      <td>13</td>\n",
       "      <td>11</td>\n",
       "      <td>0.0</td>\n",
       "      <td>1.0</td>\n",
       "      <td>0.0</td>\n",
       "      <td>0.0</td>\n",
       "      <td>0.0</td>\n",
       "      <td>0.0</td>\n",
       "      <td>0.0</td>\n",
       "      <td>3.0</td>\n",
       "      <td>-0.0343</td>\n",
       "      <td>1.0</td>\n",
       "      <td>0.0</td>\n",
       "      <td>0.0</td>\n",
       "      <td>0.0</td>\n",
       "      <td>0.0</td>\n",
       "      <td>171</td>\n",
       "    </tr>\n",
       "    <tr>\n",
       "      <th>40</th>\n",
       "      <td>12</td>\n",
       "      <td>10</td>\n",
       "      <td>14</td>\n",
       "      <td>0.0</td>\n",
       "      <td>0.0</td>\n",
       "      <td>1.0</td>\n",
       "      <td>0.0</td>\n",
       "      <td>0.0</td>\n",
       "      <td>0.0</td>\n",
       "      <td>0.0</td>\n",
       "      <td>2.0</td>\n",
       "      <td>-0.9407</td>\n",
       "      <td>0.0</td>\n",
       "      <td>0.0</td>\n",
       "      <td>1.0</td>\n",
       "      <td>1.0</td>\n",
       "      <td>0.0</td>\n",
       "      <td>172</td>\n",
       "    </tr>\n",
       "    <tr>\n",
       "      <th>41</th>\n",
       "      <td>12</td>\n",
       "      <td>11</td>\n",
       "      <td>15</td>\n",
       "      <td>0.0</td>\n",
       "      <td>1.0</td>\n",
       "      <td>0.0</td>\n",
       "      <td>0.0</td>\n",
       "      <td>0.0</td>\n",
       "      <td>0.0</td>\n",
       "      <td>0.0</td>\n",
       "      <td>2.0</td>\n",
       "      <td>0.6951</td>\n",
       "      <td>0.0</td>\n",
       "      <td>0.0</td>\n",
       "      <td>0.0</td>\n",
       "      <td>0.0</td>\n",
       "      <td>0.0</td>\n",
       "      <td>172</td>\n",
       "    </tr>\n",
       "    <tr>\n",
       "      <th>42</th>\n",
       "      <td>12</td>\n",
       "      <td>12</td>\n",
       "      <td>16</td>\n",
       "      <td>0.0</td>\n",
       "      <td>0.0</td>\n",
       "      <td>0.0</td>\n",
       "      <td>1.0</td>\n",
       "      <td>0.0</td>\n",
       "      <td>0.0</td>\n",
       "      <td>0.0</td>\n",
       "      <td>2.0</td>\n",
       "      <td>-0.6086</td>\n",
       "      <td>0.0</td>\n",
       "      <td>0.0</td>\n",
       "      <td>1.0</td>\n",
       "      <td>0.0</td>\n",
       "      <td>0.0</td>\n",
       "      <td>172</td>\n",
       "    </tr>\n",
       "    <tr>\n",
       "      <th>43</th>\n",
       "      <td>13</td>\n",
       "      <td>13</td>\n",
       "      <td>14</td>\n",
       "      <td>0.0</td>\n",
       "      <td>1.0</td>\n",
       "      <td>0.0</td>\n",
       "      <td>0.0</td>\n",
       "      <td>0.0</td>\n",
       "      <td>0.0</td>\n",
       "      <td>0.0</td>\n",
       "      <td>3.0</td>\n",
       "      <td>-0.0036</td>\n",
       "      <td>1.0</td>\n",
       "      <td>0.0</td>\n",
       "      <td>0.0</td>\n",
       "      <td>0.0</td>\n",
       "      <td>0.0</td>\n",
       "      <td>172</td>\n",
       "    </tr>\n",
       "  </tbody>\n",
       "</table>\n",
       "</div>"
      ],
      "text/plain": [
       "     x   y   z    B    C    N    O    P    S   Se  hyb  partialcharge  \\\n",
       "44   6  11  11  0.0  1.0  0.0  0.0  0.0  0.0  0.0  2.0        -0.1704   \n",
       "16   6  11  14  0.0  1.0  0.0  0.0  0.0  0.0  0.0  2.0        -0.1704   \n",
       "45   7  12  11  0.0  1.0  0.0  0.0  0.0  0.0  0.0  2.0        -0.1256   \n",
       "17   7  12  12  0.0  1.0  0.0  0.0  0.0  0.0  0.0  2.0         0.0118   \n",
       "18   7  12  13  0.0  1.0  0.0  0.0  0.0  0.0  0.0  2.0        -0.1256   \n",
       "25   9  13  11  0.0  1.0  0.0  0.0  0.0  0.0  0.0  3.0        -0.0343   \n",
       "40  12  10  14  0.0  0.0  1.0  0.0  0.0  0.0  0.0  2.0        -0.9407   \n",
       "41  12  11  15  0.0  1.0  0.0  0.0  0.0  0.0  0.0  2.0         0.6951   \n",
       "42  12  12  16  0.0  0.0  0.0  1.0  0.0  0.0  0.0  2.0        -0.6086   \n",
       "43  13  13  14  0.0  1.0  0.0  0.0  0.0  0.0  0.0  3.0        -0.0036   \n",
       "\n",
       "    hydrophobic  aromatic  acceptor  donor  ring  idx  \n",
       "44          1.0       1.0       0.0    0.0   1.0  122  \n",
       "16          1.0       1.0       0.0    0.0   1.0  123  \n",
       "45          1.0       1.0       0.0    0.0   1.0  122  \n",
       "17          1.0       1.0       0.0    0.0   1.0  123  \n",
       "18          1.0       1.0       0.0    0.0   1.0  123  \n",
       "25          1.0       0.0       0.0    0.0   0.0  171  \n",
       "40          0.0       0.0       1.0    1.0   0.0  172  \n",
       "41          0.0       0.0       0.0    0.0   0.0  172  \n",
       "42          0.0       0.0       1.0    0.0   0.0  172  \n",
       "43          1.0       0.0       0.0    0.0   0.0  172  "
      ]
     },
     "execution_count": 48,
     "metadata": {},
     "output_type": "execute_result"
    }
   ],
   "source": [
    "important_atoms = get_box_atoms(important_idx, ligand_grid)\n",
    "\n",
    "(important_atoms.loc[((important_atoms['molcode'] == -1.0)), to_print]\n",
    " .sort_values(['x', 'y', 'z'])\n",
    " .drop_duplicates(subset=['x', 'y', 'z']))"
   ]
  },
  {
   "cell_type": "markdown",
   "metadata": {
    "collapsed": true
   },
   "source": [
    "## Check what happens when we use different orientation"
   ]
  },
  {
   "cell_type": "code",
   "execution_count": 49,
   "metadata": {},
   "outputs": [],
   "source": [
    "modified_rot = np.repeat(ligand_rot_grid, steps_in_loop**3, axis=0)\n",
    "\n",
    "num = 0\n",
    "for i in range(0, box_size-step+1, step):\n",
    "    for j in range(0, box_size-step+1, step):\n",
    "        for k in range(0, box_size-step+1, step):\n",
    "            modified_rot[num, i:i+box, j:j+box, k:k+box] = 0.0\n",
    "            num += 1\n",
    "\n",
    "assert num == steps_in_loop**3"
   ]
  },
  {
   "cell_type": "code",
   "execution_count": 50,
   "metadata": {},
   "outputs": [
    {
     "name": "stdout",
     "output_type": "stream",
     "text": [
      "INFO:tensorflow:Restoring parameters from ././results/batch5-2017-06-05T07:58:47-best\n"
     ]
    }
   ],
   "source": [
    "with tf.Session(graph=graph) as session:\n",
    "    saver.restore(session, './%s-best' % results_prefix)\n",
    "\n",
    "    modified_rot_pred = session.run(y, feed_dict={x: modified_rot, keep_prob: 1.0})"
   ]
  },
  {
   "cell_type": "code",
   "execution_count": 51,
   "metadata": {},
   "outputs": [
    {
     "data": {
      "image/png": "[encoded data removed]",
      "text/plain": [
       "<matplotlib.figure.Figure at 0x7fbc7c9a6ba8>"
      ]
     },
     "metadata": {},
     "output_type": "display_data"
    }
   ],
   "source": [
    "sns.boxplot(modified_rot_pred);"
   ]
  },
  {
   "cell_type": "code",
   "execution_count": 52,
   "metadata": {},
   "outputs": [
    {
     "data": {
      "text/plain": [
       "array([121, 120, 164, 128, 170, 171,  72, 122, 165,  79])"
      ]
     },
     "execution_count": 52,
     "metadata": {},
     "output_type": "execute_result"
    }
   ],
   "source": [
    "important_idx_rot = np.argsort(modified_rot_pred[:, 0])[:10]\n",
    "important_idx_rot"
   ]
  },
  {
   "cell_type": "code",
   "execution_count": 53,
   "metadata": {},
   "outputs": [
    {
     "data": {
      "image/png": "[encoded data removed]",
      "text/plain": [
       "<matplotlib.figure.Figure at 0x7fbc7ce1b160>"
      ]
     },
     "metadata": {},
     "output_type": "display_data"
    }
   ],
   "source": [
    "fig, ax = plot_boxes(ligand_idx, rotation, important_idx_rot)\n",
    "\n",
    "ax.view_init(330, 60)\n",
    "ax.set_xlim(0, 21)\n",
    "ax.set_ylim(-1, 20)\n",
    "ax.set_zlim(-1, 20)\n",
    "\n",
    "fig.tight_layout()\n",
    "fig.savefig('%s/changes_rot.pdf' % results_path);"
   ]
  },
  {
   "cell_type": "code",
   "execution_count": 54,
   "metadata": {},
   "outputs": [
    {
     "data": {
      "text/html": [
       "<div>\n",
       "<style scoped>\n",
       "    .dataframe tbody tr th:only-of-type {\n",
       "        vertical-align: middle;\n",
       "    }\n",
       "\n",
       "    .dataframe tbody tr th {\n",
       "        vertical-align: top;\n",
       "    }\n",
       "\n",
       "    .dataframe thead th {\n",
       "        text-align: right;\n",
       "    }\n",
       "</style>\n",
       "<table border=\"1\" class=\"dataframe\">\n",
       "  <thead>\n",
       "    <tr style=\"text-align: right;\">\n",
       "      <th></th>\n",
       "      <th>x</th>\n",
       "      <th>y</th>\n",
       "      <th>z</th>\n",
       "      <th>B</th>\n",
       "      <th>C</th>\n",
       "      <th>N</th>\n",
       "      <th>O</th>\n",
       "      <th>P</th>\n",
       "      <th>S</th>\n",
       "      <th>Se</th>\n",
       "      <th>hyb</th>\n",
       "      <th>partialcharge</th>\n",
       "      <th>hydrophobic</th>\n",
       "      <th>aromatic</th>\n",
       "      <th>acceptor</th>\n",
       "      <th>donor</th>\n",
       "      <th>ring</th>\n",
       "      <th>idx</th>\n",
       "    </tr>\n",
       "  </thead>\n",
       "  <tbody>\n",
       "    <tr>\n",
       "      <th>61</th>\n",
       "      <td>5</td>\n",
       "      <td>9</td>\n",
       "      <td>7</td>\n",
       "      <td>0.0</td>\n",
       "      <td>1.0</td>\n",
       "      <td>0.0</td>\n",
       "      <td>0.0</td>\n",
       "      <td>0.0</td>\n",
       "      <td>0.0</td>\n",
       "      <td>0.0</td>\n",
       "      <td>2.0</td>\n",
       "      <td>-0.1072</td>\n",
       "      <td>1.0</td>\n",
       "      <td>1.0</td>\n",
       "      <td>0.0</td>\n",
       "      <td>0.0</td>\n",
       "      <td>1.0</td>\n",
       "      <td>72</td>\n",
       "    </tr>\n",
       "    <tr>\n",
       "      <th>0</th>\n",
       "      <td>6</td>\n",
       "      <td>9</td>\n",
       "      <td>6</td>\n",
       "      <td>0.0</td>\n",
       "      <td>1.0</td>\n",
       "      <td>0.0</td>\n",
       "      <td>0.0</td>\n",
       "      <td>0.0</td>\n",
       "      <td>0.0</td>\n",
       "      <td>0.0</td>\n",
       "      <td>2.0</td>\n",
       "      <td>-0.1704</td>\n",
       "      <td>1.0</td>\n",
       "      <td>1.0</td>\n",
       "      <td>0.0</td>\n",
       "      <td>0.0</td>\n",
       "      <td>1.0</td>\n",
       "      <td>121</td>\n",
       "    </tr>\n",
       "    <tr>\n",
       "      <th>1</th>\n",
       "      <td>6</td>\n",
       "      <td>9</td>\n",
       "      <td>9</td>\n",
       "      <td>0.0</td>\n",
       "      <td>1.0</td>\n",
       "      <td>0.0</td>\n",
       "      <td>0.0</td>\n",
       "      <td>0.0</td>\n",
       "      <td>0.0</td>\n",
       "      <td>0.0</td>\n",
       "      <td>2.0</td>\n",
       "      <td>-0.1704</td>\n",
       "      <td>1.0</td>\n",
       "      <td>1.0</td>\n",
       "      <td>0.0</td>\n",
       "      <td>0.0</td>\n",
       "      <td>1.0</td>\n",
       "      <td>121</td>\n",
       "    </tr>\n",
       "    <tr>\n",
       "      <th>21</th>\n",
       "      <td>9</td>\n",
       "      <td>7</td>\n",
       "      <td>9</td>\n",
       "      <td>0.0</td>\n",
       "      <td>1.0</td>\n",
       "      <td>0.0</td>\n",
       "      <td>0.0</td>\n",
       "      <td>0.0</td>\n",
       "      <td>0.0</td>\n",
       "      <td>0.0</td>\n",
       "      <td>3.0</td>\n",
       "      <td>-0.0343</td>\n",
       "      <td>1.0</td>\n",
       "      <td>0.0</td>\n",
       "      <td>0.0</td>\n",
       "      <td>0.0</td>\n",
       "      <td>0.0</td>\n",
       "      <td>164</td>\n",
       "    </tr>\n",
       "    <tr>\n",
       "      <th>40</th>\n",
       "      <td>9</td>\n",
       "      <td>15</td>\n",
       "      <td>6</td>\n",
       "      <td>0.0</td>\n",
       "      <td>1.0</td>\n",
       "      <td>0.0</td>\n",
       "      <td>0.0</td>\n",
       "      <td>0.0</td>\n",
       "      <td>0.0</td>\n",
       "      <td>0.0</td>\n",
       "      <td>3.0</td>\n",
       "      <td>-0.0660</td>\n",
       "      <td>1.0</td>\n",
       "      <td>0.0</td>\n",
       "      <td>0.0</td>\n",
       "      <td>0.0</td>\n",
       "      <td>0.0</td>\n",
       "      <td>128</td>\n",
       "    </tr>\n",
       "    <tr>\n",
       "      <th>41</th>\n",
       "      <td>9</td>\n",
       "      <td>16</td>\n",
       "      <td>10</td>\n",
       "      <td>0.0</td>\n",
       "      <td>1.0</td>\n",
       "      <td>0.0</td>\n",
       "      <td>0.0</td>\n",
       "      <td>0.0</td>\n",
       "      <td>0.0</td>\n",
       "      <td>0.0</td>\n",
       "      <td>2.0</td>\n",
       "      <td>-0.1072</td>\n",
       "      <td>1.0</td>\n",
       "      <td>1.0</td>\n",
       "      <td>0.0</td>\n",
       "      <td>0.0</td>\n",
       "      <td>1.0</td>\n",
       "      <td>128</td>\n",
       "    </tr>\n",
       "    <tr>\n",
       "      <th>53</th>\n",
       "      <td>10</td>\n",
       "      <td>13</td>\n",
       "      <td>12</td>\n",
       "      <td>0.0</td>\n",
       "      <td>0.0</td>\n",
       "      <td>0.0</td>\n",
       "      <td>0.0</td>\n",
       "      <td>0.0</td>\n",
       "      <td>1.0</td>\n",
       "      <td>0.0</td>\n",
       "      <td>3.0</td>\n",
       "      <td>-0.2737</td>\n",
       "      <td>1.0</td>\n",
       "      <td>0.0</td>\n",
       "      <td>1.0</td>\n",
       "      <td>0.0</td>\n",
       "      <td>0.0</td>\n",
       "      <td>171</td>\n",
       "    </tr>\n",
       "    <tr>\n",
       "      <th>42</th>\n",
       "      <td>10</td>\n",
       "      <td>15</td>\n",
       "      <td>10</td>\n",
       "      <td>0.0</td>\n",
       "      <td>1.0</td>\n",
       "      <td>0.0</td>\n",
       "      <td>0.0</td>\n",
       "      <td>0.0</td>\n",
       "      <td>0.0</td>\n",
       "      <td>0.0</td>\n",
       "      <td>2.0</td>\n",
       "      <td>-0.1704</td>\n",
       "      <td>1.0</td>\n",
       "      <td>1.0</td>\n",
       "      <td>0.0</td>\n",
       "      <td>0.0</td>\n",
       "      <td>1.0</td>\n",
       "      <td>128</td>\n",
       "    </tr>\n",
       "    <tr>\n",
       "      <th>43</th>\n",
       "      <td>10</td>\n",
       "      <td>16</td>\n",
       "      <td>6</td>\n",
       "      <td>0.0</td>\n",
       "      <td>1.0</td>\n",
       "      <td>0.0</td>\n",
       "      <td>0.0</td>\n",
       "      <td>0.0</td>\n",
       "      <td>0.0</td>\n",
       "      <td>0.0</td>\n",
       "      <td>3.0</td>\n",
       "      <td>-0.0430</td>\n",
       "      <td>1.0</td>\n",
       "      <td>0.0</td>\n",
       "      <td>0.0</td>\n",
       "      <td>0.0</td>\n",
       "      <td>0.0</td>\n",
       "      <td>128</td>\n",
       "    </tr>\n",
       "    <tr>\n",
       "      <th>28</th>\n",
       "      <td>12</td>\n",
       "      <td>6</td>\n",
       "      <td>10</td>\n",
       "      <td>0.0</td>\n",
       "      <td>0.0</td>\n",
       "      <td>0.0</td>\n",
       "      <td>1.0</td>\n",
       "      <td>0.0</td>\n",
       "      <td>0.0</td>\n",
       "      <td>0.0</td>\n",
       "      <td>2.0</td>\n",
       "      <td>-0.5679</td>\n",
       "      <td>0.0</td>\n",
       "      <td>0.0</td>\n",
       "      <td>1.0</td>\n",
       "      <td>0.0</td>\n",
       "      <td>0.0</td>\n",
       "      <td>164</td>\n",
       "    </tr>\n",
       "    <tr>\n",
       "      <th>49</th>\n",
       "      <td>12</td>\n",
       "      <td>10</td>\n",
       "      <td>6</td>\n",
       "      <td>0.0</td>\n",
       "      <td>0.0</td>\n",
       "      <td>1.0</td>\n",
       "      <td>0.0</td>\n",
       "      <td>0.0</td>\n",
       "      <td>0.0</td>\n",
       "      <td>0.0</td>\n",
       "      <td>2.0</td>\n",
       "      <td>-0.9407</td>\n",
       "      <td>0.0</td>\n",
       "      <td>0.0</td>\n",
       "      <td>1.0</td>\n",
       "      <td>1.0</td>\n",
       "      <td>0.0</td>\n",
       "      <td>170</td>\n",
       "    </tr>\n",
       "    <tr>\n",
       "      <th>58</th>\n",
       "      <td>12</td>\n",
       "      <td>12</td>\n",
       "      <td>13</td>\n",
       "      <td>0.0</td>\n",
       "      <td>1.0</td>\n",
       "      <td>0.0</td>\n",
       "      <td>0.0</td>\n",
       "      <td>0.0</td>\n",
       "      <td>0.0</td>\n",
       "      <td>0.0</td>\n",
       "      <td>3.0</td>\n",
       "      <td>0.0342</td>\n",
       "      <td>1.0</td>\n",
       "      <td>0.0</td>\n",
       "      <td>0.0</td>\n",
       "      <td>0.0</td>\n",
       "      <td>0.0</td>\n",
       "      <td>171</td>\n",
       "    </tr>\n",
       "    <tr>\n",
       "      <th>59</th>\n",
       "      <td>12</td>\n",
       "      <td>13</td>\n",
       "      <td>12</td>\n",
       "      <td>0.0</td>\n",
       "      <td>1.0</td>\n",
       "      <td>0.0</td>\n",
       "      <td>0.0</td>\n",
       "      <td>0.0</td>\n",
       "      <td>0.0</td>\n",
       "      <td>0.0</td>\n",
       "      <td>3.0</td>\n",
       "      <td>0.0018</td>\n",
       "      <td>1.0</td>\n",
       "      <td>0.0</td>\n",
       "      <td>0.0</td>\n",
       "      <td>0.0</td>\n",
       "      <td>0.0</td>\n",
       "      <td>171</td>\n",
       "    </tr>\n",
       "    <tr>\n",
       "      <th>32</th>\n",
       "      <td>13</td>\n",
       "      <td>6</td>\n",
       "      <td>9</td>\n",
       "      <td>0.0</td>\n",
       "      <td>1.0</td>\n",
       "      <td>0.0</td>\n",
       "      <td>0.0</td>\n",
       "      <td>0.0</td>\n",
       "      <td>0.0</td>\n",
       "      <td>0.0</td>\n",
       "      <td>2.0</td>\n",
       "      <td>0.5973</td>\n",
       "      <td>0.0</td>\n",
       "      <td>0.0</td>\n",
       "      <td>0.0</td>\n",
       "      <td>0.0</td>\n",
       "      <td>0.0</td>\n",
       "      <td>164</td>\n",
       "    </tr>\n",
       "  </tbody>\n",
       "</table>\n",
       "</div>"
      ],
      "text/plain": [
       "     x   y   z    B    C    N    O    P    S   Se  hyb  partialcharge  \\\n",
       "61   5   9   7  0.0  1.0  0.0  0.0  0.0  0.0  0.0  2.0        -0.1072   \n",
       "0    6   9   6  0.0  1.0  0.0  0.0  0.0  0.0  0.0  2.0        -0.1704   \n",
       "1    6   9   9  0.0  1.0  0.0  0.0  0.0  0.0  0.0  2.0        -0.1704   \n",
       "21   9   7   9  0.0  1.0  0.0  0.0  0.0  0.0  0.0  3.0        -0.0343   \n",
       "40   9  15   6  0.0  1.0  0.0  0.0  0.0  0.0  0.0  3.0        -0.0660   \n",
       "41   9  16  10  0.0  1.0  0.0  0.0  0.0  0.0  0.0  2.0        -0.1072   \n",
       "53  10  13  12  0.0  0.0  0.0  0.0  0.0  1.0  0.0  3.0        -0.2737   \n",
       "42  10  15  10  0.0  1.0  0.0  0.0  0.0  0.0  0.0  2.0        -0.1704   \n",
       "43  10  16   6  0.0  1.0  0.0  0.0  0.0  0.0  0.0  3.0        -0.0430   \n",
       "28  12   6  10  0.0  0.0  0.0  1.0  0.0  0.0  0.0  2.0        -0.5679   \n",
       "49  12  10   6  0.0  0.0  1.0  0.0  0.0  0.0  0.0  2.0        -0.9407   \n",
       "58  12  12  13  0.0  1.0  0.0  0.0  0.0  0.0  0.0  3.0         0.0342   \n",
       "59  12  13  12  0.0  1.0  0.0  0.0  0.0  0.0  0.0  3.0         0.0018   \n",
       "32  13   6   9  0.0  1.0  0.0  0.0  0.0  0.0  0.0  2.0         0.5973   \n",
       "\n",
       "    hydrophobic  aromatic  acceptor  donor  ring  idx  \n",
       "61          1.0       1.0       0.0    0.0   1.0   72  \n",
       "0           1.0       1.0       0.0    0.0   1.0  121  \n",
       "1           1.0       1.0       0.0    0.0   1.0  121  \n",
       "21          1.0       0.0       0.0    0.0   0.0  164  \n",
       "40          1.0       0.0       0.0    0.0   0.0  128  \n",
       "41          1.0       1.0       0.0    0.0   1.0  128  \n",
       "53          1.0       0.0       1.0    0.0   0.0  171  \n",
       "42          1.0       1.0       0.0    0.0   1.0  128  \n",
       "43          1.0       0.0       0.0    0.0   0.0  128  \n",
       "28          0.0       0.0       1.0    0.0   0.0  164  \n",
       "49          0.0       0.0       1.0    1.0   0.0  170  \n",
       "58          1.0       0.0       0.0    0.0   0.0  171  \n",
       "59          1.0       0.0       0.0    0.0   0.0  171  \n",
       "32          0.0       0.0       0.0    0.0   0.0  164  "
      ]
     },
     "execution_count": 54,
     "metadata": {},
     "output_type": "execute_result"
    }
   ],
   "source": [
    "important_atoms_rot = get_box_atoms(important_idx_rot, ligand_rot_grid)\n",
    "\n",
    "(important_atoms_rot.loc[((important_atoms_rot['molcode'] == -1.0)), to_print]\n",
    " .sort_values(['x', 'y', 'z'])\n",
    " .drop_duplicates(subset=['x', 'y', 'z']))"
   ]
  },
  {
   "cell_type": "markdown",
   "metadata": {},
   "source": [
    "## How the activations differ"
   ]
  },
  {
   "cell_type": "code",
   "execution_count": 55,
   "metadata": {},
   "outputs": [
    {
     "name": "stdout",
     "output_type": "stream",
     "text": [
      "INFO:tensorflow:Restoring parameters from ././results/batch5-2017-06-05T07:58:47-best\n"
     ]
    }
   ],
   "source": [
    "with tf.Session(graph=graph) as session:\n",
    "    saver.restore(session, './%s-best' % results_prefix)\n",
    "\n",
    "    activations = session.run(hidden_layers, feed_dict={x: np.vstack((ligand_grid, ligand_rot_grid)),\n",
    "                                                        keep_prob: 1.0})"
   ]
  },
  {
   "cell_type": "code",
   "execution_count": 56,
   "metadata": {
    "scrolled": false
   },
   "outputs": [
    {
     "data": {
      "image/png": "[encoded data removed]",
      "text/plain": [
       "<matplotlib.figure.Figure at 0x7fbc7c84f2b0>"
      ]
     },
     "metadata": {},
     "output_type": "display_data"
    }
   ],
   "source": [
    "fig, axs = plt.subplots(nrows=len(hidden_layers), figsize=(3.3, 4))\n",
    "axs = axs.flatten()\n",
    "\n",
    "for i, ax in enumerate(axs):\n",
    "    tmp = activations[i].reshape((2, -1))\n",
    "    d = scipy.spatial.distance.pdist(tmp, metric='cos')\n",
    "    vmin, vmax = np.percentile(tmp, [1, 99])\n",
    "    sns.heatmap(tmp, xticklabels=False, yticklabels=['original', 'rotated'], vmin=vmin, vmax=vmax,\n",
    "                cmap=plt.cm.bone_r, ax=ax, cbar=False);\n",
    "    if d < 1e-2:\n",
    "        ax.set_title('layer %i (d=%.1e)' % (i+1, d))\n",
    "    else:\n",
    "        ax.set_title('layer %i (d=%.4f)' % (i+1, d))\n",
    "fig.tight_layout()\n",
    "\n",
    "# save as PNG - each heatmap consists of thousands of tiny rectangles\n",
    "fig.savefig('%s/activations.png' % results_path, dpi=300);"
   ]
  },
  {
   "cell_type": "code",
   "execution_count": null,
   "metadata": {},
   "outputs": [],
   "source": []
  }
 ],
 "metadata": {
  "anaconda-cloud": {},
  "kernelspec": {
   "display_name": "Python 3",
   "language": "python",
   "name": "python3"
  },
  "language_info": {
   "codemirror_mode": {
    "name": "ipython",
    "version": 3
   },
   "file_extension": ".py",
   "mimetype": "text/x-python",
   "name": "python",
   "nbconvert_exporter": "python",
   "pygments_lexer": "ipython3",
   "version": "3.6.13"
  }
 },
 "nbformat": 4,
 "nbformat_minor": 2
}
