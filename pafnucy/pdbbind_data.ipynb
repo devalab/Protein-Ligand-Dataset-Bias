{
 "cells": [
  {
   "cell_type": "code",
   "execution_count": 1,
   "metadata": {},
   "outputs": [],
   "source": [
    "import numpy as np\n",
    "import pandas as pd\n",
    "import h5py\n",
    "\n",
    "\n",
    "import pybel\n",
    "from tfbio.data import Featurizer\n",
    "\n",
    "import warnings\n",
    "\n",
    "import matplotlib.pyplot as plt\n",
    "import seaborn as sns\n",
    "\n",
    "%matplotlib inline"
   ]
  },
  {
   "cell_type": "code",
   "execution_count": 2,
   "metadata": {},
   "outputs": [],
   "source": [
    "# path to the extracted PDBbind dataset\n",
    "path = '../PDBBind/2020/"
   ]
  },
  {
   "cell_type": "markdown",
   "metadata": {},
   "source": [
    "# Parse and clean affinity data"
   ]
  },
  {
   "cell_type": "code",
   "execution_count": null,
   "metadata": {},
   "outputs": [],
   "source": [
    "path1 = \"../PDBBind/2020/PDBbind_v2020_other_PL.tar.gz\"\n",
    "path2 = \"../PDBBind/2020/PDBbind_v2020_refined.tar.gz\""
   ]
  },
  {
   "cell_type": "code",
   "execution_count": 3,
   "metadata": {},
   "outputs": [],
   "source": [
    "%%bash -s $path --out missing\n",
    "\n",
    "path=$1\n",
    "\n",
    "# Save binding affinities to csv file\n",
    "\n",
    "echo 'pdbid,-logKd/Ki' > affinity_data.csv\n",
    "cat $path/PDBbind_2016_plain_text_index/index/INDEX_general_PL_data.2016 | while read l1 l2 l3 l4 l5; do\n",
    "    if [[ ! $l1 =~ \"#\" ]]; then\n",
    "        echo $l1,$l4\n",
    "    fi\n",
    "done >> affinity_data.csv\n",
    "\n",
    "\n",
    "# Find affinities without structural data (i.e. with missing directories)\n",
    "\n",
    "cut -f 1 -d ',' affinity_data.csv | tail -n +2 | while read l;\n",
    "    do if [ ! -e $path/general-set-except-refined/$l ] &&  [ ! -e $path/refined-set/$l ]; then\n",
    "        echo $l;\n",
    "    fi\n",
    "done"
   ]
  },
  {
   "cell_type": "code",
   "execution_count": 4,
   "metadata": {},
   "outputs": [
    {
     "data": {
      "text/plain": [
       "25"
      ]
     },
     "execution_count": 4,
     "metadata": {},
     "output_type": "execute_result"
    }
   ],
   "source": [
    "missing = set(missing.split())\n",
    "len(missing)"
   ]
  },
  {
   "cell_type": "code",
   "execution_count": 5,
   "metadata": {},
   "outputs": [
    {
     "data": {
      "text/html": [
       "<div>\n",
       "<style scoped>\n",
       "    .dataframe tbody tr th:only-of-type {\n",
       "        vertical-align: middle;\n",
       "    }\n",
       "\n",
       "    .dataframe tbody tr th {\n",
       "        vertical-align: top;\n",
       "    }\n",
       "\n",
       "    .dataframe thead th {\n",
       "        text-align: right;\n",
       "    }\n",
       "</style>\n",
       "<table border=\"1\" class=\"dataframe\">\n",
       "  <thead>\n",
       "    <tr style=\"text-align: right;\">\n",
       "      <th></th>\n",
       "      <th>pdbid</th>\n",
       "      <th>-logKd/Ki</th>\n",
       "    </tr>\n",
       "  </thead>\n",
       "  <tbody>\n",
       "    <tr>\n",
       "      <th>0</th>\n",
       "      <td>3zzf</td>\n",
       "      <td>0.40</td>\n",
       "    </tr>\n",
       "    <tr>\n",
       "      <th>1</th>\n",
       "      <td>3gww</td>\n",
       "      <td>0.45</td>\n",
       "    </tr>\n",
       "    <tr>\n",
       "      <th>2</th>\n",
       "      <td>1w8l</td>\n",
       "      <td>0.49</td>\n",
       "    </tr>\n",
       "    <tr>\n",
       "      <th>3</th>\n",
       "      <td>3fqa</td>\n",
       "      <td>0.49</td>\n",
       "    </tr>\n",
       "    <tr>\n",
       "      <th>4</th>\n",
       "      <td>1zsb</td>\n",
       "      <td>0.60</td>\n",
       "    </tr>\n",
       "  </tbody>\n",
       "</table>\n",
       "</div>"
      ],
      "text/plain": [
       "  pdbid  -logKd/Ki\n",
       "0  3zzf       0.40\n",
       "1  3gww       0.45\n",
       "2  1w8l       0.49\n",
       "3  3fqa       0.49\n",
       "4  1zsb       0.60"
      ]
     },
     "execution_count": 5,
     "metadata": {},
     "output_type": "execute_result"
    }
   ],
   "source": [
    "affinity_data = pd.read_csv('affinity_data.csv', comment='#')\n",
    "affinity_data = affinity_data[~np.in1d(affinity_data['pdbid'], list(missing))]\n",
    "affinity_data.head()"
   ]
  },
  {
   "cell_type": "code",
   "execution_count": 6,
   "metadata": {},
   "outputs": [
    {
     "data": {
      "text/plain": [
       "False"
      ]
     },
     "execution_count": 6,
     "metadata": {},
     "output_type": "execute_result"
    }
   ],
   "source": [
    "# Check for NaNs\n",
    "\n",
    "affinity_data['-logKd/Ki'].isnull().any()"
   ]
  },
  {
   "cell_type": "code",
   "execution_count": 7,
   "metadata": {},
   "outputs": [
    {
     "data": {
      "text/plain": [
       "(13283, 4057, 290)"
      ]
     },
     "execution_count": 7,
     "metadata": {},
     "output_type": "execute_result"
    }
   ],
   "source": [
    "# Separate core, refined, and general sets\n",
    "\n",
    "core_set = ! grep -v '#' $path/PDBbind_2016_plain_text_index/index/INDEX_core_data.2016 | cut -f 1 -d ' '\n",
    "core_set = set(core_set)\n",
    "\n",
    "refined_set = ! grep -v '#' $path/PDBbind_2016_plain_text_index/index/INDEX_refined_data.2016 | cut -f 1 -d ' '\n",
    "refined_set = set(refined_set)\n",
    "\n",
    "general_set = set(affinity_data['pdbid'])\n",
    "\n",
    "\n",
    "assert core_set & refined_set == core_set\n",
    "assert refined_set & general_set == refined_set\n",
    "\n",
    "len(general_set), len(refined_set), len(core_set)"
   ]
  },
  {
   "cell_type": "code",
   "execution_count": 8,
   "metadata": {},
   "outputs": [],
   "source": [
    "# Exclude v 2013 core set - it will be used as another test set\n",
    "\n",
    "core2013 = ! cat core_pdbbind2013.ids\n",
    "core2013 = set(core2013)\n",
    "\n",
    "affinity_data['include'] = True\n",
    "affinity_data.loc[np.in1d(affinity_data['pdbid'], list(core2013 & (general_set - core_set))), 'include'] = False"
   ]
  },
  {
   "cell_type": "code",
   "execution_count": 9,
   "metadata": {
    "scrolled": true
   },
   "outputs": [
    {
     "data": {
      "text/html": [
       "<div>\n",
       "<style scoped>\n",
       "    .dataframe tbody tr th:only-of-type {\n",
       "        vertical-align: middle;\n",
       "    }\n",
       "\n",
       "    .dataframe tbody tr th {\n",
       "        vertical-align: top;\n",
       "    }\n",
       "\n",
       "    .dataframe thead th {\n",
       "        text-align: right;\n",
       "    }\n",
       "</style>\n",
       "<table border=\"1\" class=\"dataframe\">\n",
       "  <thead>\n",
       "    <tr style=\"text-align: right;\">\n",
       "      <th></th>\n",
       "      <th>pdbid</th>\n",
       "      <th>-logKd/Ki</th>\n",
       "      <th>include</th>\n",
       "      <th>set</th>\n",
       "    </tr>\n",
       "  </thead>\n",
       "  <tbody>\n",
       "    <tr>\n",
       "      <th>0</th>\n",
       "      <td>3zzf</td>\n",
       "      <td>0.40</td>\n",
       "      <td>True</td>\n",
       "      <td>general</td>\n",
       "    </tr>\n",
       "    <tr>\n",
       "      <th>1</th>\n",
       "      <td>3gww</td>\n",
       "      <td>0.45</td>\n",
       "      <td>True</td>\n",
       "      <td>general</td>\n",
       "    </tr>\n",
       "    <tr>\n",
       "      <th>2</th>\n",
       "      <td>1w8l</td>\n",
       "      <td>0.49</td>\n",
       "      <td>True</td>\n",
       "      <td>general</td>\n",
       "    </tr>\n",
       "    <tr>\n",
       "      <th>3</th>\n",
       "      <td>3fqa</td>\n",
       "      <td>0.49</td>\n",
       "      <td>True</td>\n",
       "      <td>general</td>\n",
       "    </tr>\n",
       "    <tr>\n",
       "      <th>4</th>\n",
       "      <td>1zsb</td>\n",
       "      <td>0.60</td>\n",
       "      <td>True</td>\n",
       "      <td>general</td>\n",
       "    </tr>\n",
       "  </tbody>\n",
       "</table>\n",
       "</div>"
      ],
      "text/plain": [
       "  pdbid  -logKd/Ki  include      set\n",
       "0  3zzf       0.40     True  general\n",
       "1  3gww       0.45     True  general\n",
       "2  1w8l       0.49     True  general\n",
       "3  3fqa       0.49     True  general\n",
       "4  1zsb       0.60     True  general"
      ]
     },
     "execution_count": 9,
     "metadata": {},
     "output_type": "execute_result"
    }
   ],
   "source": [
    "affinity_data.loc[np.in1d(affinity_data['pdbid'], list(general_set)), 'set'] = 'general'\n",
    "\n",
    "affinity_data.loc[np.in1d(affinity_data['pdbid'], list(refined_set)), 'set'] = 'refined'\n",
    "\n",
    "affinity_data.loc[np.in1d(affinity_data['pdbid'], list(core_set)), 'set'] = 'core'\n",
    "\n",
    "affinity_data.head()"
   ]
  },
  {
   "cell_type": "code",
   "execution_count": 10,
   "metadata": {},
   "outputs": [
    {
     "data": {
      "text/plain": [
       "set\n",
       "general    9221\n",
       "refined    3685\n",
       "core        290\n",
       "dtype: int64"
      ]
     },
     "execution_count": 10,
     "metadata": {},
     "output_type": "execute_result"
    }
   ],
   "source": [
    "affinity_data[affinity_data['include']].groupby('set').apply(len).loc[['general', 'refined', 'core']]"
   ]
  },
  {
   "cell_type": "code",
   "execution_count": 11,
   "metadata": {},
   "outputs": [
    {
     "data": {
      "image/png": "[encoded data removed]",
      "text/plain": [
       "<matplotlib.figure.Figure at 0x7fe43faf8400>"
      ]
     },
     "metadata": {},
     "output_type": "display_data"
    }
   ],
   "source": [
    "# Check affinity distributions\n",
    "\n",
    "grid = sns.FacetGrid(affinity_data[affinity_data['include']], row='set', row_order=['general', 'refined', 'core'],\n",
    "                     size=3, aspect=3)\n",
    "grid.map(sns.distplot, '-logKd/Ki');"
   ]
  },
  {
   "cell_type": "code",
   "execution_count": 12,
   "metadata": {},
   "outputs": [],
   "source": [
    "affinity_data[['pdbid']].to_csv('pdb.ids', header=False, index=False)"
   ]
  },
  {
   "cell_type": "code",
   "execution_count": 13,
   "metadata": {},
   "outputs": [],
   "source": [
    "affinity_data[['pdbid', '-logKd/Ki', 'set']].to_csv('affinity_data_cleaned.csv', index=False)"
   ]
  },
  {
   "cell_type": "markdown",
   "metadata": {},
   "source": [
    "---"
   ]
  },
  {
   "cell_type": "markdown",
   "metadata": {},
   "source": [
    "# Parse molecules"
   ]
  },
  {
   "cell_type": "code",
   "execution_count": 14,
   "metadata": {},
   "outputs": [],
   "source": [
    "dataset_path = {'general': 'general-set-except-refined', 'refined': 'refined-set', 'core': 'refined-set'}"
   ]
  },
  {
   "cell_type": "code",
   "execution_count": 15,
   "metadata": {},
   "outputs": [],
   "source": [
    "%%bash -s $path\n",
    "\n",
    "# Prepare pockets with UCSF Chimera - pybel sometimes fails to calculate the charges.\n",
    "# Even if Chimera fails to calculate several charges (mostly for non-standard residues),\n",
    "# it returns charges for other residues.\n",
    "\n",
    "path=$1\n",
    "\n",
    "for dataset in general-set-except-refined refined-set; do\n",
    "    echo $dataset\n",
    "    for pdbfile in $path/$dataset/*/*_pocket.pdb; do\n",
    "        mol2file=${pdbfile%pdb}mol2\n",
    "        if [[ ! -e $mol2file ]]; then\n",
    "            echo -e \"open $pdbfile \\n addh \\n addcharge \\n write format mol2 0 tmp.mol2 \\n stop\" | chimera --nogui\n",
    "            # Do not use TIP3P atom types, pybel cannot read them\n",
    "            sed 's/H\\.t3p/H    /' tmp.mol2 | sed 's/O\\.t3p/O\\.3  /' > $mol2file\n",
    "        fi\n",
    "    done \n",
    "done > chimera_rw.log"
   ]
  },
  {
   "cell_type": "code",
   "execution_count": 16,
   "metadata": {},
   "outputs": [
    {
     "name": "stdout",
     "output_type": "stream",
     "text": [
      "core set\n",
      "prepared 290 complexes\n",
      "general set\n",
      "prepared 9221 complexes\n",
      "refined set\n",
      "prepared 3685 complexes\n",
      "excluded 87 complexes\n"
     ]
    }
   ],
   "source": [
    "featurizer = Featurizer()\n",
    "charge_idx = featurizer.FEATURE_NAMES.index('partialcharge')\n",
    "\n",
    "with h5py.File('%s/core2013.hdf' % path, 'w') as g:\n",
    "    j = 0\n",
    "\n",
    "    for dataset_name, data in affinity_data.groupby('set'):\n",
    "\n",
    "        print(dataset_name, 'set')\n",
    "        i = 0\n",
    "        ds_path = dataset_path[dataset_name]\n",
    "\n",
    "\n",
    "        with h5py.File('%s/%s.hdf' % (path, dataset_name), 'w') as f:\n",
    "            for _, row in data.iterrows():\n",
    "\n",
    "                name = row['pdbid']\n",
    "                affinity = row['-logKd/Ki']\n",
    "\n",
    "                ligand = next(pybel.readfile('mol2', '%s/%s/%s/%s_ligand.mol2' % (path, ds_path, name, name)))\n",
    "                # do not add the hydrogens! they are in the strucutre and it would reset the charges\n",
    "\n",
    "                try:\n",
    "                    pocket = next(pybel.readfile('mol2', '%s/%s/%s/%s_pocket.mol2' % (path, ds_path, name, name)))\n",
    "                    # do not add the hydrogens! they were already added in chimera and it would reset the charges\n",
    "                except:\n",
    "                    warnings.warn('no pocket for %s (%s set)' % (name, dataset_name))\n",
    "                    continue\n",
    "\n",
    "                ligand_coords, ligand_features = featurizer.get_features(ligand, molcode=1)\n",
    "                assert (ligand_features[:, charge_idx] != 0).any()\n",
    "                pocket_coords, pocket_features = featurizer.get_features(pocket, molcode=-1)\n",
    "                assert (pocket_features[:, charge_idx] != 0).any() \n",
    "\n",
    "                centroid = ligand_coords.mean(axis=0)\n",
    "                ligand_coords -= centroid\n",
    "                pocket_coords -= centroid\n",
    "\n",
    "                data = np.concatenate((np.concatenate((ligand_coords, pocket_coords)),\n",
    "                                       np.concatenate((ligand_features, pocket_features))), axis=1)\n",
    "\n",
    "                if row['include']:\n",
    "                    dataset = f.create_dataset(name, data=data, shape=data.shape, dtype='float32', compression='lzf')\n",
    "                    dataset.attrs['affinity'] = affinity\n",
    "                    i += 1\n",
    "                else:\n",
    "                    dataset = g.create_dataset(name, data=data, shape=data.shape, dtype='float32', compression='lzf')\n",
    "                    dataset.attrs['affinity'] = affinity\n",
    "                    j += 1\n",
    "\n",
    "        print('prepared', i, 'complexes')\n",
    "    print('excluded', j, 'complexes')"
   ]
  },
  {
   "cell_type": "code",
   "execution_count": 17,
   "metadata": {},
   "outputs": [],
   "source": [
    "with h5py.File('%s/core.hdf' % path, 'r') as f, \\\n",
    "     h5py.File('%s/core2013.hdf' % path, 'r+') as g:\n",
    "    for name in f:\n",
    "        if name in core2013:\n",
    "            dataset = g.create_dataset(name, data=f[name])\n",
    "            dataset.attrs['affinity'] = f[name].attrs['affinity']"
   ]
  },
  {
   "cell_type": "markdown",
   "metadata": {
    "collapsed": true
   },
   "source": [
    "# Protein data"
   ]
  },
  {
   "cell_type": "code",
   "execution_count": 18,
   "metadata": {},
   "outputs": [
    {
     "data": {
      "text/html": [
       "<div>\n",
       "<style scoped>\n",
       "    .dataframe tbody tr th:only-of-type {\n",
       "        vertical-align: middle;\n",
       "    }\n",
       "\n",
       "    .dataframe tbody tr th {\n",
       "        vertical-align: top;\n",
       "    }\n",
       "\n",
       "    .dataframe thead th {\n",
       "        text-align: right;\n",
       "    }\n",
       "</style>\n",
       "<table border=\"1\" class=\"dataframe\">\n",
       "  <thead>\n",
       "    <tr style=\"text-align: right;\">\n",
       "      <th></th>\n",
       "      <th>pdbid</th>\n",
       "      <th>year</th>\n",
       "      <th>uniprotid</th>\n",
       "      <th>name</th>\n",
       "    </tr>\n",
       "  </thead>\n",
       "  <tbody>\n",
       "    <tr>\n",
       "      <th>0</th>\n",
       "      <td>3eql</td>\n",
       "      <td>2008</td>\n",
       "      <td>Q9Z9H6</td>\n",
       "      <td>DNA-DIRECTED RNA POLYMERASE SUBUNIT ALPHA</td>\n",
       "    </tr>\n",
       "    <tr>\n",
       "      <th>1</th>\n",
       "      <td>1zyr</td>\n",
       "      <td>2005</td>\n",
       "      <td>Q5SHR6</td>\n",
       "      <td>DNA-DIRECTED RNA POLYMERASE SUBUNIT ALPHA</td>\n",
       "    </tr>\n",
       "    <tr>\n",
       "      <th>2</th>\n",
       "      <td>3dxj</td>\n",
       "      <td>2008</td>\n",
       "      <td>Q5SHR6</td>\n",
       "      <td>DNA-DIRECTED RNA POLYMERASE SUBUNIT ALPHA</td>\n",
       "    </tr>\n",
       "    <tr>\n",
       "      <th>3</th>\n",
       "      <td>4zh4</td>\n",
       "      <td>2015</td>\n",
       "      <td>P0A7Z4</td>\n",
       "      <td>DNA-DIRECTED RNA POLYMERASE SUBUNIT ALPHA</td>\n",
       "    </tr>\n",
       "    <tr>\n",
       "      <th>4</th>\n",
       "      <td>4zh3</td>\n",
       "      <td>2015</td>\n",
       "      <td>P0A7Z4</td>\n",
       "      <td>DNA-DIRECTED RNA POLYMERASE SUBUNIT ALPHA</td>\n",
       "    </tr>\n",
       "  </tbody>\n",
       "</table>\n",
       "</div>"
      ],
      "text/plain": [
       "  pdbid  year uniprotid                                       name\n",
       "0  3eql  2008    Q9Z9H6  DNA-DIRECTED RNA POLYMERASE SUBUNIT ALPHA\n",
       "1  1zyr  2005    Q5SHR6  DNA-DIRECTED RNA POLYMERASE SUBUNIT ALPHA\n",
       "2  3dxj  2008    Q5SHR6  DNA-DIRECTED RNA POLYMERASE SUBUNIT ALPHA\n",
       "3  4zh4  2015    P0A7Z4  DNA-DIRECTED RNA POLYMERASE SUBUNIT ALPHA\n",
       "4  4zh3  2015    P0A7Z4  DNA-DIRECTED RNA POLYMERASE SUBUNIT ALPHA"
      ]
     },
     "execution_count": 18,
     "metadata": {},
     "output_type": "execute_result"
    }
   ],
   "source": [
    "protein_data = pd.read_csv('%s/PDBbind_2016_plain_text_index/index/INDEX_general_PL_name.2016' % path,\n",
    "                           comment='#', sep='  ', engine='python', na_values='------',\n",
    "                           header=None, names=['pdbid', 'year', 'uniprotid', 'name'])\n",
    "\n",
    "protein_data.head()"
   ]
  },
  {
   "cell_type": "code",
   "execution_count": 19,
   "metadata": {},
   "outputs": [
    {
     "data": {
      "text/plain": [
       "pdbid        False\n",
       "year         False\n",
       "uniprotid     True\n",
       "name          True\n",
       "dtype: bool"
      ]
     },
     "execution_count": 19,
     "metadata": {},
     "output_type": "execute_result"
    }
   ],
   "source": [
    "# we assume that PDB IDs are unique\n",
    "assert ~protein_data['pdbid'].duplicated().any()\n",
    "\n",
    "protein_data = protein_data[np.in1d(protein_data['pdbid'], affinity_data['pdbid'])]\n",
    "\n",
    "# check for missing values\n",
    "protein_data.isnull().any()"
   ]
  },
  {
   "cell_type": "code",
   "execution_count": 20,
   "metadata": {
    "scrolled": false
   },
   "outputs": [
    {
     "data": {
      "text/html": [
       "<div>\n",
       "<style scoped>\n",
       "    .dataframe tbody tr th:only-of-type {\n",
       "        vertical-align: middle;\n",
       "    }\n",
       "\n",
       "    .dataframe tbody tr th {\n",
       "        vertical-align: top;\n",
       "    }\n",
       "\n",
       "    .dataframe thead th {\n",
       "        text-align: right;\n",
       "    }\n",
       "</style>\n",
       "<table border=\"1\" class=\"dataframe\">\n",
       "  <thead>\n",
       "    <tr style=\"text-align: right;\">\n",
       "      <th></th>\n",
       "      <th>pdbid</th>\n",
       "      <th>year</th>\n",
       "      <th>uniprotid</th>\n",
       "      <th>name</th>\n",
       "    </tr>\n",
       "  </thead>\n",
       "  <tbody>\n",
       "    <tr>\n",
       "      <th>1158</th>\n",
       "      <td>3t8s</td>\n",
       "      <td>2011</td>\n",
       "      <td>P29994-2INOSITOL 1,4,5-TRISPHOSPHATE RECEPTOR ...</td>\n",
       "      <td>None</td>\n",
       "    </tr>\n",
       "    <tr>\n",
       "      <th>5879</th>\n",
       "      <td>3nc9</td>\n",
       "      <td>2010</td>\n",
       "      <td>P50053-2KETOHEXOKINASE</td>\n",
       "      <td>None</td>\n",
       "    </tr>\n",
       "    <tr>\n",
       "      <th>5880</th>\n",
       "      <td>3qa2</td>\n",
       "      <td>2012</td>\n",
       "      <td>P50053-2KETOHEXOKINASE</td>\n",
       "      <td>None</td>\n",
       "    </tr>\n",
       "    <tr>\n",
       "      <th>5881</th>\n",
       "      <td>3q92</td>\n",
       "      <td>2012</td>\n",
       "      <td>P50053-2KETOHEXOKINASE</td>\n",
       "      <td>None</td>\n",
       "    </tr>\n",
       "    <tr>\n",
       "      <th>5882</th>\n",
       "      <td>3qai</td>\n",
       "      <td>2012</td>\n",
       "      <td>P50053-2KETOHEXOKINASE</td>\n",
       "      <td>None</td>\n",
       "    </tr>\n",
       "    <tr>\n",
       "      <th>6875</th>\n",
       "      <td>2f4j</td>\n",
       "      <td>2006</td>\n",
       "      <td>P00519 TYROSINE-PROTEIN KINASE ABL1</td>\n",
       "      <td>None</td>\n",
       "    </tr>\n",
       "  </tbody>\n",
       "</table>\n",
       "</div>"
      ],
      "text/plain": [
       "     pdbid  year                                          uniprotid  name\n",
       "1158  3t8s  2011  P29994-2INOSITOL 1,4,5-TRISPHOSPHATE RECEPTOR ...  None\n",
       "5879  3nc9  2010                             P50053-2KETOHEXOKINASE  None\n",
       "5880  3qa2  2012                             P50053-2KETOHEXOKINASE  None\n",
       "5881  3q92  2012                             P50053-2KETOHEXOKINASE  None\n",
       "5882  3qai  2012                             P50053-2KETOHEXOKINASE  None\n",
       "6875  2f4j  2006                P00519 TYROSINE-PROTEIN KINASE ABL1  None"
      ]
     },
     "execution_count": 20,
     "metadata": {},
     "output_type": "execute_result"
    }
   ],
   "source": [
    "protein_data[protein_data['name'].isnull()]"
   ]
  },
  {
   "cell_type": "code",
   "execution_count": 21,
   "metadata": {},
   "outputs": [
    {
     "data": {
      "text/plain": [
       "pdbid        False\n",
       "year         False\n",
       "uniprotid     True\n",
       "name         False\n",
       "dtype: bool"
      ]
     },
     "execution_count": 21,
     "metadata": {},
     "output_type": "execute_result"
    }
   ],
   "source": [
    "# fix rows with wrong separators between protein ID and name\n",
    "\n",
    "for idx, row in protein_data[protein_data['name'].isnull()].iterrows():\n",
    "    uniprotid = row['uniprotid'][:6]\n",
    "    name = row['uniprotid'][7:]\n",
    "    protein_data.loc[idx, ['uniprotid', 'name']] = [uniprotid, name]\n",
    "\n",
    "protein_data.isnull().any()"
   ]
  },
  {
   "cell_type": "code",
   "execution_count": 22,
   "metadata": {},
   "outputs": [],
   "source": [
    "protein_data.to_csv('protein_data.csv', index=False)"
   ]
  },
  {
   "cell_type": "code",
   "execution_count": null,
   "metadata": {},
   "outputs": [],
   "source": []
  }
 ],
 "metadata": {
  "anaconda-cloud": {},
  "kernelspec": {
   "display_name": "Python 3",
   "language": "python",
   "name": "python3"
  },
  "language_info": {
   "codemirror_mode": {
    "name": "ipython",
    "version": 3
   },
   "file_extension": ".py",
   "mimetype": "text/x-python",
   "name": "python",
   "nbconvert_exporter": "python",
   "pygments_lexer": "ipython3",
   "version": "3.6.13"
  }
 },
 "nbformat": 4,
 "nbformat_minor": 1
}
