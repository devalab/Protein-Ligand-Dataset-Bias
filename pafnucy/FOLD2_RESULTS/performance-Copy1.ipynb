{
 "cells": [
  {
   "cell_type": "code",
   "execution_count": null,
   "id": "a7e64589",
   "metadata": {},
   "outputs": [],
   "source": [
    "import pandas as pd\n",
    "import numpy as np\n",
    "import scipy \n",
    "import sklearn.metrics"
   ]
  },
  {
   "cell_type": "code",
   "execution_count": null,
   "id": "c9701b37",
   "metadata": {},
   "outputs": [],
   "source": [
    "results = pd.read_csv('./output-2021-11-09T17:05:27-predictions.csv')"
   ]
  },
  {
   "cell_type": "code",
   "execution_count": null,
   "id": "2adb14bc",
   "metadata": {},
   "outputs": [],
   "source": [
    "results"
   ]
  },
  {
   "cell_type": "code",
   "execution_count": null,
   "id": "6d31a5c2",
   "metadata": {},
   "outputs": [],
   "source": [
    "train = results[results['set']=='training']\n",
    "test = results[results['set']=='test']\n",
    "validation = results[results['set']=='validation']"
   ]
  },
  {
   "cell_type": "code",
   "execution_count": null,
   "id": "d79682f9",
   "metadata": {},
   "outputs": [],
   "source": [
    "    \n",
    "def rmse(predictions, targets):\n",
    "    return np.sqrt(((predictions - targets) ** 2).mean())\n",
    "\n",
    "def mse(predictions, targets):\n",
    "    return ((predictions - targets) ** 2).mean()\n",
    "\n",
    "def pearson(predictions, targets):\n",
    "    return scipy.stats.pearsonr(predictions, targets)[0]\n",
    "\n",
    "def MAE(predictions, targets):\n",
    "    return sklearn.metrics.mean_absolute_error(targets, predictions)\n",
    "\n",
    "def SD(predictions, targets):\n",
    "    return (((targets - predictions) ** 2).sum() / (len(predictions) - 1)) ** 0.5\n",
    "\n",
    "def performance(predictions, targets):\n",
    "    print(\"RMSE \", rmse(predictions, targets))\n",
    "    print(\"MSE  \", mse(predictions, targets))\n",
    "    print(\"R, p \", pearson(predictions, targets))\n",
    "    print(\"MAE  \", MAE(predictions, targets))\n",
    "    print('SD   ', SD(predictions, targets))"
   ]
  },
  {
   "cell_type": "code",
   "execution_count": null,
   "id": "1c73b7b3",
   "metadata": {},
   "outputs": [],
   "source": [
    "print(\"testing on fold0\")\n",
    "performance(np.array(test['predicted'].values), np.array(test['real'].values))"
   ]
  },
  {
   "cell_type": "code",
   "execution_count": null,
   "id": "00286fb8",
   "metadata": {},
   "outputs": [],
   "source": [
    "performance(np.array(train['predicted'].values), np.array(train['real'].values))"
   ]
  },
  {
   "cell_type": "code",
   "execution_count": null,
   "id": "56a62af6",
   "metadata": {},
   "outputs": [],
   "source": [
    "performance(np.array(validation['predicted'].values), np.array(validation['real'].values))"
   ]
  },
  {
   "cell_type": "code",
   "execution_count": null,
   "id": "4424d5e0",
   "metadata": {},
   "outputs": [],
   "source": []
  }
 ],
 "metadata": {
  "kernelspec": {
   "display_name": "Python 3",
   "language": "python",
   "name": "python3"
  },
  "language_info": {
   "codemirror_mode": {
    "name": "ipython",
    "version": 3
   },
   "file_extension": ".py",
   "mimetype": "text/x-python",
   "name": "python",
   "nbconvert_exporter": "python",
   "pygments_lexer": "ipython3",
   "version": "3.6.13"
  }
 },
 "nbformat": 4,
 "nbformat_minor": 5
}
