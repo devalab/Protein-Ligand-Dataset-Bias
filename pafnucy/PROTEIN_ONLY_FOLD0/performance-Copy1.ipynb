{
 "cells": [
  {
   "cell_type": "code",
   "execution_count": 1,
   "id": "125d4f4c",
   "metadata": {},
   "outputs": [],
   "source": [
    "import pandas as pd\n",
    "import numpy as np\n",
    "import scipy \n",
    "import sklearn.metrics"
   ]
  },
  {
   "cell_type": "code",
   "execution_count": 2,
   "id": "c2b025fd",
   "metadata": {},
   "outputs": [],
   "source": [
    "results = pd.read_csv('./output-2021-11-12T22:58:56-predictions.csv')"
   ]
  },
  {
   "cell_type": "code",
   "execution_count": 3,
   "id": "ad0b1f7c",
   "metadata": {},
   "outputs": [
    {
     "data": {
      "text/html": [
       "<div>\n",
       "<style scoped>\n",
       "    .dataframe tbody tr th:only-of-type {\n",
       "        vertical-align: middle;\n",
       "    }\n",
       "\n",
       "    .dataframe tbody tr th {\n",
       "        vertical-align: top;\n",
       "    }\n",
       "\n",
       "    .dataframe thead th {\n",
       "        text-align: right;\n",
       "    }\n",
       "</style>\n",
       "<table border=\"1\" class=\"dataframe\">\n",
       "  <thead>\n",
       "    <tr style=\"text-align: right;\">\n",
       "      <th></th>\n",
       "      <th>pdbid</th>\n",
       "      <th>real</th>\n",
       "      <th>predicted</th>\n",
       "      <th>set</th>\n",
       "    </tr>\n",
       "  </thead>\n",
       "  <tbody>\n",
       "    <tr>\n",
       "      <th>0</th>\n",
       "      <td>10gs</td>\n",
       "      <td>6.40</td>\n",
       "      <td>6.234400</td>\n",
       "      <td>training</td>\n",
       "    </tr>\n",
       "    <tr>\n",
       "      <th>1</th>\n",
       "      <td>11gs</td>\n",
       "      <td>5.82</td>\n",
       "      <td>5.374477</td>\n",
       "      <td>training</td>\n",
       "    </tr>\n",
       "    <tr>\n",
       "      <th>2</th>\n",
       "      <td>13gs</td>\n",
       "      <td>4.62</td>\n",
       "      <td>5.348950</td>\n",
       "      <td>training</td>\n",
       "    </tr>\n",
       "    <tr>\n",
       "      <th>3</th>\n",
       "      <td>16pk</td>\n",
       "      <td>5.22</td>\n",
       "      <td>6.183485</td>\n",
       "      <td>training</td>\n",
       "    </tr>\n",
       "    <tr>\n",
       "      <th>4</th>\n",
       "      <td>1a07</td>\n",
       "      <td>6.40</td>\n",
       "      <td>6.404623</td>\n",
       "      <td>training</td>\n",
       "    </tr>\n",
       "    <tr>\n",
       "      <th>...</th>\n",
       "      <td>...</td>\n",
       "      <td>...</td>\n",
       "      <td>...</td>\n",
       "      <td>...</td>\n",
       "    </tr>\n",
       "    <tr>\n",
       "      <th>16603</th>\n",
       "      <td>8abp</td>\n",
       "      <td>8.00</td>\n",
       "      <td>5.001667</td>\n",
       "      <td>test</td>\n",
       "    </tr>\n",
       "    <tr>\n",
       "      <th>16604</th>\n",
       "      <td>8cpa</td>\n",
       "      <td>9.15</td>\n",
       "      <td>9.353009</td>\n",
       "      <td>test</td>\n",
       "    </tr>\n",
       "    <tr>\n",
       "      <th>16605</th>\n",
       "      <td>8gpb</td>\n",
       "      <td>3.60</td>\n",
       "      <td>6.374027</td>\n",
       "      <td>test</td>\n",
       "    </tr>\n",
       "    <tr>\n",
       "      <th>16606</th>\n",
       "      <td>966c</td>\n",
       "      <td>7.64</td>\n",
       "      <td>8.619876</td>\n",
       "      <td>test</td>\n",
       "    </tr>\n",
       "    <tr>\n",
       "      <th>16607</th>\n",
       "      <td>9abp</td>\n",
       "      <td>8.00</td>\n",
       "      <td>4.290082</td>\n",
       "      <td>test</td>\n",
       "    </tr>\n",
       "  </tbody>\n",
       "</table>\n",
       "<p>16608 rows × 4 columns</p>\n",
       "</div>"
      ],
      "text/plain": [
       "      pdbid  real  predicted       set\n",
       "0      10gs  6.40   6.234400  training\n",
       "1      11gs  5.82   5.374477  training\n",
       "2      13gs  4.62   5.348950  training\n",
       "3      16pk  5.22   6.183485  training\n",
       "4      1a07  6.40   6.404623  training\n",
       "...     ...   ...        ...       ...\n",
       "16603  8abp  8.00   5.001667      test\n",
       "16604  8cpa  9.15   9.353009      test\n",
       "16605  8gpb  3.60   6.374027      test\n",
       "16606  966c  7.64   8.619876      test\n",
       "16607  9abp  8.00   4.290082      test\n",
       "\n",
       "[16608 rows x 4 columns]"
      ]
     },
     "execution_count": 3,
     "metadata": {},
     "output_type": "execute_result"
    }
   ],
   "source": [
    "results"
   ]
  },
  {
   "cell_type": "code",
   "execution_count": 4,
   "id": "9b494dae",
   "metadata": {},
   "outputs": [],
   "source": [
    "train = results[results['set']=='training']\n",
    "test = results[results['set']=='test']\n",
    "validation = results[results['set']=='validation']"
   ]
  },
  {
   "cell_type": "code",
   "execution_count": 5,
   "id": "c6f4f973",
   "metadata": {},
   "outputs": [],
   "source": [
    "    \n",
    "def rmse(predictions, targets):\n",
    "    return np.sqrt(((predictions - targets) ** 2).mean())\n",
    "\n",
    "def mse(predictions, targets):\n",
    "    return ((predictions - targets) ** 2).mean()\n",
    "\n",
    "def pearson(predictions, targets):\n",
    "    return scipy.stats.pearsonr(predictions, targets)[0]\n",
    "\n",
    "def MAE(predictions, targets):\n",
    "    return sklearn.metrics.mean_absolute_error(targets, predictions)\n",
    "\n",
    "def SD(predictions, targets):\n",
    "    return (((targets - predictions) ** 2).sum() / (len(predictions) - 1)) ** 0.5\n",
    "\n",
    "def performance(predictions, targets):\n",
    "    print(\"RMSE \", rmse(predictions, targets))\n",
    "    print(\"MSE  \", mse(predictions, targets))\n",
    "    print(\"R, p \", pearson(predictions, targets))\n",
    "    print(\"MAE  \", MAE(predictions, targets))\n",
    "    print('SD   ', SD(predictions, targets))"
   ]
  },
  {
   "cell_type": "code",
   "execution_count": 6,
   "id": "5db5add2",
   "metadata": {},
   "outputs": [
    {
     "name": "stdout",
     "output_type": "stream",
     "text": [
      "testing on fold0\n",
      "RMSE  1.9158428973376518\n",
      "MSE   3.670454007279128\n",
      "R, p  0.3395598905269146\n",
      "MAE   1.5214935386732136\n",
      "SD    1.9160159557271776\n"
     ]
    }
   ],
   "source": [
    "print(\"testing on fold0\")\n",
    "performance(np.array(test['predicted'].values), np.array(test['real'].values))"
   ]
  },
  {
   "cell_type": "code",
   "execution_count": 7,
   "id": "a06af019",
   "metadata": {},
   "outputs": [
    {
     "name": "stdout",
     "output_type": "stream",
     "text": [
      "RMSE  0.7031712118554387\n",
      "MSE   0.4944497531822464\n",
      "R, p  0.9332796419419137\n",
      "MAE   0.5552293716715596\n",
      "SD    0.7032029684869038\n"
     ]
    }
   ],
   "source": [
    "performance(np.array(train['predicted'].values), np.array(train['real'].values))"
   ]
  },
  {
   "cell_type": "code",
   "execution_count": 8,
   "id": "4044d24a",
   "metadata": {},
   "outputs": [],
   "source": [
    "# performance(np.array(validation['predicted'].values), np.array(validation['real'].values))"
   ]
  },
  {
   "cell_type": "code",
   "execution_count": null,
   "id": "1f5d4bb7",
   "metadata": {},
   "outputs": [],
   "source": []
  },
  {
   "cell_type": "code",
   "execution_count": null,
   "id": "9ff44182",
   "metadata": {},
   "outputs": [],
   "source": []
  }
 ],
 "metadata": {
  "kernelspec": {
   "display_name": "Python 3",
   "language": "python",
   "name": "python3"
  },
  "language_info": {
   "codemirror_mode": {
    "name": "ipython",
    "version": 3
   },
   "file_extension": ".py",
   "mimetype": "text/x-python",
   "name": "python",
   "nbconvert_exporter": "python",
   "pygments_lexer": "ipython3",
   "version": "3.6.13"
  }
 },
 "nbformat": 4,
 "nbformat_minor": 5
}
