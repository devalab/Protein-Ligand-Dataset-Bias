{
 "cells": [
  {
   "cell_type": "code",
   "execution_count": null,
   "id": "ff973411",
   "metadata": {},
   "outputs": [],
   "source": [
    "from Bio.PDB.PDBParser import PDBParser\n",
    "from Bio.PDB.Polypeptide import three_to_one\n",
    "from Bio.PDB.Polypeptide import is_aa\n",
    "from Bio import pairwise2\n",
    "from multiprocessing import Pool, cpu_count\n",
    "from functools import partial\n",
    "import scipy.cluster.hierarchy\n",
    "import numpy as np\n",
    "import sys\n",
    "import argparse\n",
    "import bisect\n",
    "import re\n",
    "import os\n",
    "import fnmatch\n",
    "import pickle\n",
    "import collections\n",
    "from rdkit.Chem import AllChem as Chem\n",
    "from rdkit.Chem import AllChem\n",
    "from rdkit.DataStructs import FingerprintSimilarity as fs\n",
    "from rdkit.Chem.Fingerprints import FingerprintMols\n",
    "import rdkit\n",
    "import tqdm.auto as tqdm"
   ]
  },
  {
   "cell_type": "code",
   "execution_count": null,
   "id": "00b942ac",
   "metadata": {},
   "outputs": [],
   "source": [
    "import pandas as pd"
   ]
  },
  {
   "cell_type": "code",
   "execution_count": null,
   "id": "0e482b83",
   "metadata": {},
   "outputs": [],
   "source": [
    "fold0 = pd.read_csv('./FOLDS/full_pk_cv_test0.types', sep=' ')\n",
    "fold1 = pd.read_csv('./FOLDS/full_pk_cv_test1.types', sep=' ')\n",
    "fold2 = pd.read_csv('./FOLDS/full_pk_cv_test2.types', sep=' ')"
   ]
  },
  {
   "cell_type": "code",
   "execution_count": null,
   "id": "dd87e40e",
   "metadata": {},
   "outputs": [],
   "source": [
    "fold_ids = list(fold0['pdbid'].values) + list(fold1['pdbid'].values) + list(fold2['pdbid'].values)"
   ]
  },
  {
   "cell_type": "code",
   "execution_count": null,
   "id": "3d65d577",
   "metadata": {},
   "outputs": [],
   "source": [
    "distance_mat = np.load('./fp-16k-tanimoto-matrix.npy')"
   ]
  },
  {
   "cell_type": "code",
   "execution_count": null,
   "id": "9dca5436",
   "metadata": {},
   "outputs": [],
   "source": [
    "with open('./fingerprints_list_16k.pkl', 'rb') as f:\n",
    "    fps = pickle.load(f)\n",
    "fp_list = np.array(fps)\n",
    "keys = []\n",
    "for i in fp_list:\n",
    "    if len(i[0]) > 4:\n",
    "        val = i[0][:4]\n",
    "    else:\n",
    "        val = i[0]\n",
    "    keys.append(val)"
   ]
  },
  {
   "cell_type": "code",
   "execution_count": null,
   "id": "6e28c00f",
   "metadata": {},
   "outputs": [],
   "source": [
    "include_ids = []\n",
    "for i , vec in enumerate(fp_list):\n",
    "    if vec[0] in fold_ids:\n",
    "        include_ids.append(i)"
   ]
  },
  {
   "cell_type": "code",
   "execution_count": null,
   "id": "5db5b072",
   "metadata": {},
   "outputs": [],
   "source": [
    "for i in tqdm.tqdm(range(len(distance_mat))):\n",
    "    for j in range(len(distance_mat)):\n",
    "        if j > i:\n",
    "            distance_mat[j][i] = distance_mat[i][j]\n",
    "        if i == j:\n",
    "            distance_mat[i][j] = 1"
   ]
  },
  {
   "cell_type": "code",
   "execution_count": null,
   "id": "b9e38e53",
   "metadata": {},
   "outputs": [],
   "source": [
    "for i in tqdm.tqdm(range(len(distance_mat))):\n",
    "    for j in range(len(distance_mat)):\n",
    "        distance_mat[i][j] = 1 - distance_mat[i][j]"
   ]
  },
  {
   "cell_type": "code",
   "execution_count": null,
   "id": "ff8b961c",
   "metadata": {},
   "outputs": [],
   "source": [
    "keys = np.array(keys)"
   ]
  },
  {
   "cell_type": "code",
   "execution_count": null,
   "id": "3eae9ab8",
   "metadata": {},
   "outputs": [],
   "source": [
    "fp_list = fp_list[include_ids]"
   ]
  },
  {
   "cell_type": "code",
   "execution_count": null,
   "id": "b06a33c2",
   "metadata": {},
   "outputs": [],
   "source": [
    "temp_mat = distance_mat[include_ids]\n",
    "temp_mat = temp_mat[:, include_ids]\n",
    "temp_mat.shape"
   ]
  },
  {
   "cell_type": "code",
   "execution_count": null,
   "id": "2d2431a8",
   "metadata": {},
   "outputs": [],
   "source": [
    "distance_mat = temp_mat"
   ]
  },
  {
   "cell_type": "code",
   "execution_count": null,
   "id": "d682fe61",
   "metadata": {},
   "outputs": [],
   "source": [
    "def unsparse(v):\n",
    "    vec = np.zeros(2**16)\n",
    "    for i in v:\n",
    "        vec[i]+=1\n",
    "    return vec\n",
    "\n",
    "fp_dict = {}\n",
    "for i in range(len(fp_list)): \n",
    "#     print(i)\n",
    "    fp_dict[keys[i]]=unsparse(fp_list[i][1])\n",
    "    \n",
    "keys = list(fp_dict.keys()) \n",
    "def index(key):\n",
    "    return keys.index(key)"
   ]
  },
  {
   "cell_type": "code",
   "execution_count": null,
   "id": "2753b46a",
   "metadata": {},
   "outputs": [],
   "source": [
    "def calcClusterGroups(dists, ligandsim, target_names, t, t2, ligandt, all_pairs):\n",
    "    '''dists is a distance matrix (full) for target_names'''\n",
    "    assigned = set()\n",
    "    groups = []\n",
    "    for i in range(dists.shape[0]):\n",
    "        \n",
    "        if i not in assigned:\n",
    "            group = assignGroup(dists, ligandsim, t, t2,\n",
    "                                ligandt, set([i]), target_names)\n",
    "            groups.append(group)\n",
    "            assigned.update(group)\n",
    "    return [set(target_names[i] for i in g) for g in groups]"
   ]
  },
  {
   "cell_type": "code",
   "execution_count": null,
   "id": "e8065b11",
   "metadata": {},
   "outputs": [],
   "source": [
    "def assignGroup(dists, ligandsim, t, t2, ligandt, explore, names):\n",
    "    '''group targets that are less than t away from each other and what's in explore'''\n",
    "    group = set(explore)\n",
    "    while explore:\n",
    "        frontier = set()\n",
    "        for i in explore:\n",
    "            for j in range(dists.shape[1]):\n",
    "                if j not in group:\n",
    "                    # add to the group if protein is close by threshold t (these are distances - default 0.5)\n",
    "                    # also add if the ligands are more similar (not distance) than ligandt and\n",
    "                    # the protein is closer than t2 (default 0.8 - meaning more than 20% similar)\n",
    "                    if dists[i][j] < t: # or (ligandsim[i][j] > ligandt and dists[i][j] < t2):\n",
    "                        group.add(j)\n",
    "                        frontier.add(j)\n",
    "\n",
    "        explore = frontier\n",
    "    return group"
   ]
  },
  {
   "cell_type": "code",
   "execution_count": null,
   "id": "21c34130",
   "metadata": {},
   "outputs": [],
   "source": [
    "all_pairs =[]\n",
    "for i, key in enumerate(keys):\n",
    "    all_pairs.append([i, keys.index(key), key])"
   ]
  },
  {
   "cell_type": "code",
   "execution_count": null,
   "id": "2e8af42d",
   "metadata": {},
   "outputs": [],
   "source": [
    "similarity = 0.25\n",
    "threshold = 1 - similarity # similarity and distance are complementary"
   ]
  },
  {
   "cell_type": "code",
   "execution_count": null,
   "id": "6de2558c",
   "metadata": {},
   "outputs": [],
   "source": [
    "clusters = calcClusterGroups(distance_mat,\n",
    "                             ligandsim=None,\n",
    "                             target_names=keys,\n",
    "                             t=threshold,\n",
    "                             t2 = None, \n",
    "                             ligandt=None,\n",
    "                             all_pairs=None\n",
    "                            )"
   ]
  },
  {
   "cell_type": "code",
   "execution_count": null,
   "id": "85ef17c4",
   "metadata": {},
   "outputs": [],
   "source": [
    "def get_target_lines(vec):\n",
    "    ret = collections.defaultdict(list)\n",
    "    \n",
    "    for line in vec:\n",
    "        targ = line\n",
    "        ret[targ].append([line, 'smile'])\n",
    "\n",
    "    return ret"
   ]
  },
  {
   "cell_type": "code",
   "execution_count": null,
   "id": "a3357447",
   "metadata": {},
   "outputs": [],
   "source": [
    "target_lines = get_target_lines(keys)"
   ]
  },
  {
   "cell_type": "code",
   "execution_count": null,
   "id": "cf0aeaa7",
   "metadata": {},
   "outputs": [],
   "source": [
    "def createFolds(cluster_groups, numfolds, target_lines, randomize):\n",
    "    '''split target clusters into numfolds folds with balanced num poses per fold\n",
    "       If randomize, will balance less well.\n",
    "    '''\n",
    "    folds = [[] for _ in range(numfolds)]\n",
    "    fold_numposes = [0]*numfolds\n",
    "    group_numposes = [0]*len(cluster_groups)\n",
    "    foldmap = {}\n",
    "    for i, group in enumerate(cluster_groups):\n",
    "        # count num poses per group\n",
    "        for target in group:\n",
    "            group_numposes[i] += len(target_lines[target])\n",
    "    for _ in cluster_groups:\n",
    "        # iteratively assign group with most poses to fold with fewest poses\n",
    "        maxgroup = group_numposes.index(np.max(group_numposes))\n",
    "        if randomize:\n",
    "            space = np.max(fold_numposes) - np.array(fold_numposes)\n",
    "            tot = np.sum(space)\n",
    "            if tot == 0:\n",
    "                minfold = np.random.choice(numfolds)\n",
    "            else:  # weighted selection, prefer spots with more free space\n",
    "                choice = np.random.choice(tot)\n",
    "                tot = 0\n",
    "                for i in range(len(space)):\n",
    "                    tot += space[i]\n",
    "                    if choice < tot:\n",
    "                        minfold = i\n",
    "                        break\n",
    "        else:\n",
    "            minfold = fold_numposes.index(np.min(fold_numposes))\n",
    "        folds[minfold].extend(cluster_groups[maxgroup])\n",
    "        fold_numposes[minfold] += group_numposes[maxgroup]\n",
    "        group_numposes[maxgroup] = -1\n",
    "        for t in cluster_groups[maxgroup]:\n",
    "            foldmap[t] = minfold\n",
    "    print('Poses per fold: {}'.format(fold_numposes))\n",
    "    for f in folds:\n",
    "        f.sort()\n",
    "    return folds, foldmap\n",
    "\n",
    "def index(a, x):\n",
    "    'Locate the leftmost value exactly equal to x'\n",
    "    i = bisect.bisect_left(a, x)\n",
    "    if i != len(a) and a[i] == x:\n",
    "        return i\n",
    "    else:\n",
    "        return -1"
   ]
  },
  {
   "cell_type": "code",
   "execution_count": null,
   "id": "4788603e",
   "metadata": {},
   "outputs": [],
   "source": [
    "folds, foldmap = createFolds(\n",
    "            clusters, 3, target_lines, 0)\n"
   ]
  },
  {
   "cell_type": "code",
   "execution_count": null,
   "id": "b5e6d5e8",
   "metadata": {},
   "outputs": [],
   "source": [
    "import pickle"
   ]
  },
  {
   "cell_type": "code",
   "execution_count": null,
   "id": "57b98b80",
   "metadata": {},
   "outputs": [],
   "source": [
    "# with open('folds_using_16k_0.25_thresh_after_filtering.pkl', 'wb') as f:\n",
    "#     pickle.dump(folds, f)\n",
    "\n",
    "with open('./folds_using_16k_0.25_thresh_after_filtering.pkl', 'rb') as f:\n",
    "    folds = pickle.load(f)"
   ]
  }
 ],
 "metadata": {
  "kernelspec": {
   "display_name": "Python 3",
   "language": "python",
   "name": "python3"
  },
  "language_info": {
   "codemirror_mode": {
    "name": "ipython",
    "version": 3
   },
   "file_extension": ".py",
   "mimetype": "text/x-python",
   "name": "python",
   "nbconvert_exporter": "python",
   "pygments_lexer": "ipython3",
   "version": "3.6.15"
  }
 },
 "nbformat": 4,
 "nbformat_minor": 5
}
