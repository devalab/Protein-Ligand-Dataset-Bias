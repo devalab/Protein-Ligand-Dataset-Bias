{
 "cells": [
  {
   "cell_type": "code",
   "execution_count": null,
   "id": "37f73bfd",
   "metadata": {},
   "outputs": [],
   "source": [
    "import pickle \n",
    "import numpy as np\n",
    "from tqdm.auto import tqdm"
   ]
  },
  {
   "cell_type": "code",
   "execution_count": null,
   "id": "7f15e587",
   "metadata": {},
   "outputs": [],
   "source": [
    "with open('./fingerprints_list_16k.pkl', 'rb') as f:\n",
    "    fps = pickle.load(f)\n",
    "fp_list = np.array(fps)"
   ]
  },
  {
   "cell_type": "code",
   "execution_count": null,
   "id": "070dd1e6",
   "metadata": {},
   "outputs": [],
   "source": [
    "fp_list = np.array(fps)"
   ]
  },
  {
   "cell_type": "code",
   "execution_count": null,
   "id": "a0543993",
   "metadata": {},
   "outputs": [],
   "source": [
    "keys = []\n",
    "for i in fp_list:\n",
    "    if len(i[0]) > 4:\n",
    "        val = i[0][:4]\n",
    "    else:\n",
    "        val = i[0]\n",
    "    keys.append(val)\n",
    "    "
   ]
  },
  {
   "cell_type": "code",
   "execution_count": null,
   "id": "2cc23588",
   "metadata": {},
   "outputs": [],
   "source": [
    "def unsparse(v):\n",
    "    vec = np.zeros(2**16)\n",
    "    for i in v:\n",
    "        vec[i]+=1\n",
    "    return vec"
   ]
  },
  {
   "cell_type": "code",
   "execution_count": null,
   "id": "93393d99",
   "metadata": {},
   "outputs": [],
   "source": [
    "fp_dict = {}\n",
    "for i in range(len(fp_list)):\n",
    "    fp_dict[keys[i]]=unsparse(fp_list[i][1])"
   ]
  },
  {
   "cell_type": "code",
   "execution_count": null,
   "id": "8b1413b7",
   "metadata": {},
   "outputs": [],
   "source": [
    "import oddt\n",
    "from oddt.fingerprints import InteractionFingerprint, PLEC, SPLIF\n"
   ]
  },
  {
   "cell_type": "code",
   "execution_count": null,
   "id": "75be2442",
   "metadata": {
    "scrolled": true
   },
   "outputs": [],
   "source": [
    "mat = np.zeros((len(fp_dict.keys()), len(fp_dict.keys())))\n",
    "\n",
    "for i, key1 in enumerate(fp_dict.keys()):\n",
    "    for j, key2 in enumerate(fp_dict.keys()):\n",
    "        if j > i:\n",
    "            mat[i][j] =np.round(oddt.fingerprints.tanimoto(fp_dict[key1], fp_dict[key2]),3 ) \n",
    "            print( i, j, mat[i][j], end='\\r')"
   ]
  },
  {
   "cell_type": "code",
   "execution_count": null,
   "id": "c9c9079b",
   "metadata": {},
   "outputs": [],
   "source": [
    "# mat.dump('fp-16k-tanimoto-matrix.npy')\n",
    "# mat = np.load('./fp-16k-tanimoto-matrix.npy')"
   ]
  }
 ],
 "metadata": {
  "kernelspec": {
   "display_name": "Python 3",
   "language": "python",
   "name": "python3"
  },
  "language_info": {
   "codemirror_mode": {
    "name": "ipython",
    "version": 3
   },
   "file_extension": ".py",
   "mimetype": "text/x-python",
   "name": "python",
   "nbconvert_exporter": "python",
   "pygments_lexer": "ipython3",
   "version": "3.6.15"
  }
 },
 "nbformat": 4,
 "nbformat_minor": 5
}
