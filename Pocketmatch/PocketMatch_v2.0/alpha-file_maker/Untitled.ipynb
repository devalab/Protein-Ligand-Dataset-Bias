{
 "cells": [
  {
   "cell_type": "code",
   "execution_count": 1,
   "id": "172ca217",
   "metadata": {},
   "outputs": [],
   "source": [
    "import os "
   ]
  },
  {
   "cell_type": "code",
   "execution_count": 2,
   "id": "4bcf5138",
   "metadata": {},
   "outputs": [],
   "source": [
    "ls = os.listdir('/scratch/4_DIST/')\n",
    "ls.sort()"
   ]
  },
  {
   "cell_type": "code",
   "execution_count": null,
   "id": "c7ed9493",
   "metadata": {},
   "outputs": [],
   "source": []
  },
  {
   "cell_type": "code",
   "execution_count": 3,
   "id": "ab31a550",
   "metadata": {
    "scrolled": true
   },
   "outputs": [
    {
     "name": "stdout",
     "output_type": "stream",
     "text": [
      "0 10gs.pdb\n"
     ]
    },
    {
     "ename": "IndexError",
     "evalue": "list index out of range",
     "output_type": "error",
     "traceback": [
      "\u001b[0;31m---------------------------------------------------------------------------\u001b[0m",
      "\u001b[0;31mIndexError\u001b[0m                                Traceback (most recent call last)",
      "\u001b[0;32m<ipython-input-3-0e4289e04321>\u001b[0m in \u001b[0;36m<module>\u001b[0;34m\u001b[0m\n\u001b[1;32m     11\u001b[0m     \u001b[0ma\u001b[0m \u001b[0;34m=\u001b[0m \u001b[0mstream\u001b[0m\u001b[0;34m.\u001b[0m\u001b[0mread\u001b[0m\u001b[0;34m(\u001b[0m\u001b[0;34m)\u001b[0m\u001b[0;34m\u001b[0m\u001b[0;34m\u001b[0m\u001b[0m\n\u001b[1;32m     12\u001b[0m     \u001b[0mb\u001b[0m \u001b[0;34m=\u001b[0m \u001b[0ma\u001b[0m\u001b[0;34m.\u001b[0m\u001b[0msplit\u001b[0m\u001b[0;34m(\u001b[0m\u001b[0;34m'\\n'\u001b[0m\u001b[0;34m)\u001b[0m\u001b[0;34m\u001b[0m\u001b[0;34m\u001b[0m\u001b[0m\n\u001b[0;32m---> 13\u001b[0;31m     \u001b[0mprint\u001b[0m\u001b[0;34m(\u001b[0m\u001b[0mb\u001b[0m\u001b[0;34m[\u001b[0m\u001b[0;34m-\u001b[0m\u001b[0;36m2\u001b[0m\u001b[0;34m]\u001b[0m\u001b[0;34m)\u001b[0m\u001b[0;34m\u001b[0m\u001b[0;34m\u001b[0m\u001b[0m\n\u001b[0m\u001b[1;32m     14\u001b[0m     \u001b[0mcount\u001b[0m \u001b[0;34m+=\u001b[0m \u001b[0;36m1\u001b[0m\u001b[0;34m\u001b[0m\u001b[0;34m\u001b[0m\u001b[0m\n\u001b[1;32m     15\u001b[0m \u001b[0;34m\u001b[0m\u001b[0m\n",
      "\u001b[0;31mIndexError\u001b[0m: list index out of range"
     ]
    }
   ],
   "source": [
    "\n",
    "count = 0\n",
    "k = 0\n",
    "for pdb in ls:\n",
    "    if count < k:\n",
    "        count += 1\n",
    "        continue\n",
    "        \n",
    "    cmd = './Step0-cabbage_decoder 4_DIST_CABBAGE_FILES/' + pdb \n",
    "    print(count, pdb)\n",
    "    stream = os.popen(cmd)\n",
    "    a = stream.read()\n",
    "    b = a.split('\\n')\n",
    "    print(b[-2])\n",
    "    count += 1\n",
    "    \n",
    "    \n",
    "        \n",
    "#     print(stream)\n",
    "#     break"
   ]
  },
  {
   "cell_type": "code",
   "execution_count": 14,
   "id": "94a82e05",
   "metadata": {},
   "outputs": [
    {
     "data": {
      "text/plain": [
       "''"
      ]
     },
     "execution_count": 14,
     "metadata": {},
     "output_type": "execute_result"
    }
   ],
   "source": [
    "a"
   ]
  },
  {
   "cell_type": "code",
   "execution_count": 19,
   "id": "5f5524ff",
   "metadata": {},
   "outputs": [],
   "source": [
    "a = stream.read()"
   ]
  },
  {
   "cell_type": "code",
   "execution_count": 23,
   "id": "005cdc04",
   "metadata": {},
   "outputs": [],
   "source": [
    "b= a.split('\\n')"
   ]
  },
  {
   "cell_type": "code",
   "execution_count": 26,
   "id": "728fd10a",
   "metadata": {},
   "outputs": [
    {
     "data": {
      "text/plain": [
       "'END-OF-FILE'"
      ]
     },
     "execution_count": 26,
     "metadata": {},
     "output_type": "execute_result"
    }
   ],
   "source": [
    "b[-2]"
   ]
  },
  {
   "cell_type": "code",
   "execution_count": null,
   "id": "863b293e",
   "metadata": {},
   "outputs": [],
   "source": [
    "stream = os.popen('./Step0-cabbage_decoder 4_DIST_CABBAGE_FILES/4z90.pdb.cabbage')"
   ]
  },
  {
   "cell_type": "code",
   "execution_count": 12,
   "id": "1fbe6bd2",
   "metadata": {},
   "outputs": [],
   "source": [
    "\n",
    "f = open('/scratch/4_DIST/all.txt')\n",
    "l = f.readlines()\n",
    "all_keys = []\n",
    "for key in l:\n",
    "    all_keys.append(key.split()[0][:4])"
   ]
  },
  {
   "cell_type": "code",
   "execution_count": 10,
   "id": "261ea4cf",
   "metadata": {},
   "outputs": [],
   "source": [
    "ls = os.listdir('./4_DIST_CABBAGE_FILES/')\n",
    "ls.sort()"
   ]
  },
  {
   "cell_type": "code",
   "execution_count": 15,
   "id": "a16bc675",
   "metadata": {},
   "outputs": [],
   "source": [
    "pm_keys= []\n",
    "for i in ls:\n",
    "    pm_keys.append(i[:4])"
   ]
  },
  {
   "cell_type": "code",
   "execution_count": 17,
   "id": "67009782",
   "metadata": {},
   "outputs": [
    {
     "name": "stdout",
     "output_type": "stream",
     "text": [
      "1h1h\n",
      "1hi4\n",
      "2yjq\n",
      "3kyg\n",
      "3le8\n",
      "3lk0\n",
      "3v78\n",
      "4w97\n",
      "4z90\n",
      "5dkn\n",
      "5e13\n",
      "5eqq\n",
      "5i94\n",
      "5svi\n",
      "6cvw\n",
      "6cvx\n",
      "6cvy\n",
      "6equ\n",
      "all.\n"
     ]
    }
   ],
   "source": [
    "for i in all_keys:\n",
    "    if i not in pm_keys:\n",
    "        print(i)"
   ]
  },
  {
   "cell_type": "code",
   "execution_count": null,
   "id": "746831e0",
   "metadata": {},
   "outputs": [],
   "source": []
  }
 ],
 "metadata": {
  "kernelspec": {
   "display_name": "Python 3",
   "language": "python",
   "name": "python3"
  },
  "language_info": {
   "codemirror_mode": {
    "name": "ipython",
    "version": 3
   },
   "file_extension": ".py",
   "mimetype": "text/x-python",
   "name": "python",
   "nbconvert_exporter": "python",
   "pygments_lexer": "ipython3",
   "version": "3.6.15"
  }
 },
 "nbformat": 4,
 "nbformat_minor": 5
}
