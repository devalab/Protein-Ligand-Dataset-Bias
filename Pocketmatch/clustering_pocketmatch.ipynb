{
 "cells": [
  {
   "cell_type": "code",
   "execution_count": null,
   "id": "ff973411",
   "metadata": {},
   "outputs": [],
   "source": [
    "from Bio.PDB.PDBParser import PDBParser\n",
    "from Bio.PDB.Polypeptide import three_to_one\n",
    "from Bio.PDB.Polypeptide import is_aa\n",
    "from Bio import pairwise2\n",
    "from multiprocessing import Pool, cpu_count\n",
    "from functools import partial\n",
    "import scipy.cluster.hierarchy\n",
    "import numpy as np\n",
    "import sys\n",
    "import argparse\n",
    "import bisect\n",
    "import re\n",
    "import os\n",
    "import fnmatch\n",
    "import pickle\n",
    "import collections\n",
    "from rdkit.Chem import AllChem as Chem\n",
    "from rdkit.Chem import AllChem\n",
    "from rdkit.DataStructs import FingerprintSimilarity as fs\n",
    "from rdkit.Chem.Fingerprints import FingerprintMols\n",
    "import rdkit\n",
    "import tqdm.auto as tqdm"
   ]
  },
  {
   "cell_type": "code",
   "execution_count": null,
   "id": "00b942ac",
   "metadata": {},
   "outputs": [],
   "source": [
    "import pandas as pd"
   ]
  },
  {
   "cell_type": "code",
   "execution_count": null,
   "id": "847e0e54",
   "metadata": {},
   "outputs": [],
   "source": [
    "f = open('PocketMatch_v2.0/PocketMatch_score.txt', 'r')\n",
    "data = f.readlines()"
   ]
  },
  {
   "cell_type": "code",
   "execution_count": null,
   "id": "3f346aab",
   "metadata": {},
   "outputs": [],
   "source": [
    "final_data = []"
   ]
  },
  {
   "cell_type": "code",
   "execution_count": null,
   "id": "2f6564f1",
   "metadata": {},
   "outputs": [],
   "source": [
    "keys = [] \n",
    "for row in tqdm.tqdm(data[1:]):\n",
    "    v = row.split()\n",
    "    keys.append(v[0])\n",
    "    keys.append(v[1])\n",
    "    \n",
    "keys = list(set(keys))"
   ]
  },
  {
   "cell_type": "code",
   "execution_count": null,
   "id": "bec99548",
   "metadata": {},
   "outputs": [],
   "source": [
    "key_index = {}\n",
    "for key in tqdm.tqdm(keys):\n",
    "    key_index[key] = keys.index(key)"
   ]
  },
  {
   "cell_type": "code",
   "execution_count": null,
   "id": "a1e71ba9",
   "metadata": {},
   "outputs": [],
   "source": [
    "distance_mat = np.zeros((len(keys), len(keys)))\n",
    "distance_mat.shape"
   ]
  },
  {
   "cell_type": "code",
   "execution_count": null,
   "id": "ba448625",
   "metadata": {},
   "outputs": [],
   "source": [
    "for row in tqdm.tqdm(data[1:]):\n",
    "#     print(row[1])\n",
    "    v = row.split()\n",
    "    p1 = v[0]\n",
    "    p2 = v[1]\n",
    "    s = v[3]\n",
    "#     break\n",
    "#     print(s)\n",
    "    \n",
    "    distance_mat[key_index[p1]][key_index[p2]] = 1 - float(s)\n",
    "    distance_mat[key_index[p2]][key_index[p1]] = 1 - float(s)\n"
   ]
  },
  {
   "cell_type": "code",
   "execution_count": null,
   "id": "6edf30f6",
   "metadata": {},
   "outputs": [],
   "source": [
    "distance_mat = np.round(distance_mat, 3)"
   ]
  },
  {
   "cell_type": "code",
   "execution_count": null,
   "id": "903d7eef",
   "metadata": {},
   "outputs": [],
   "source": [
    "for i in tqdm.tqdm(range(len(distance_mat))):\n",
    "    distance_mat[i][i] = 0"
   ]
  },
  {
   "cell_type": "code",
   "execution_count": null,
   "id": "30a53405",
   "metadata": {},
   "outputs": [],
   "source": [
    "# distance_mat.dump('deeplytough_dist_mat.npy')\n",
    "\n",
    "# with open('pocketmatch_dist_mat.pkl', 'wb') as f:\n",
    "#     pickle.dump(distance_mat, f)\n",
    "\n",
    "# with open('pocketmatch_keys.pkl', 'wb') as f:\n",
    "#     pickle.dump(keys, f)\n",
    "    \n",
    "# with open('pocketmatch_dist_mat.pkl', 'rb') as f:\n",
    "#     distance_mat = pickle.load(f)\n",
    "\n",
    "# with open('pocketmatch_keys.pkl', 'rb') as f:\n",
    "#     keys = pickle.load(f)"
   ]
  },
  {
   "cell_type": "code",
   "execution_count": null,
   "id": "3fb6433f",
   "metadata": {},
   "outputs": [],
   "source": [
    "# for i in tqdm.tqdm(range(len(distance_mat))):\n",
    "#     for j in range(len(distance_mat)):\n",
    "#         distance_mat[i][j] = 1 - distance_mat[i][j]"
   ]
  },
  {
   "cell_type": "code",
   "execution_count": null,
   "id": "2753b46a",
   "metadata": {},
   "outputs": [],
   "source": [
    "def calcClusterGroups(dists, ligandsim, target_names, t, t2, ligandt, all_pairs):\n",
    "    '''dists is a distance matrix (full) for target_names'''\n",
    "    assigned = set()\n",
    "    groups = []\n",
    "    for i in range(dists.shape[0]):\n",
    "        \n",
    "        if i not in assigned:\n",
    "            group = assignGroup(dists, ligandsim, t, t2,\n",
    "                                ligandt, set([i]), target_names)\n",
    "            groups.append(group)\n",
    "            assigned.update(group)\n",
    "    return [set(target_names[i] for i in g) for g in groups]"
   ]
  },
  {
   "cell_type": "code",
   "execution_count": null,
   "id": "e8065b11",
   "metadata": {},
   "outputs": [],
   "source": [
    "def assignGroup(dists, ligandsim, t, t2, ligandt, explore, names):\n",
    "    '''group targets that are less than t away from each other and what's in explore'''\n",
    "    group = set(explore)\n",
    "    while explore:\n",
    "        frontier = set()\n",
    "        for i in explore:\n",
    "            for j in range(dists.shape[1]):\n",
    "                if j not in group:\n",
    "                    # add to the group if protein is close by threshold t (these are distances - default 0.5)\n",
    "                    # also add if the ligands are more similar (not distance) than ligandt and\n",
    "                    # the protein is closer than t2 (default 0.8 - meaning more than 20% similar)\n",
    "#                     print(dist[i][j])\n",
    "                    if dists[i][j] < t: # or (ligandsim[i][j] > ligandt and dists[i][j] < t2):\n",
    "                        group.add(j)\n",
    "                        frontier.add(j)\n",
    "\n",
    "        explore = frontier\n",
    "    return group"
   ]
  },
  {
   "cell_type": "code",
   "execution_count": null,
   "id": "19ddbf65",
   "metadata": {},
   "outputs": [],
   "source": [
    "# similarity = 0.95\n",
    "threshold =  0.25 # the distances are ranging from 0 to 1.75"
   ]
  },
  {
   "cell_type": "code",
   "execution_count": null,
   "id": "6de2558c",
   "metadata": {},
   "outputs": [],
   "source": [
    "clusters = calcClusterGroups(distance_mat,\n",
    "                             ligandsim=None,\n",
    "                             target_names=keys,\n",
    "                             t=threshold,\n",
    "                             t2 = None, \n",
    "                             ligandt=None,\n",
    "                             all_pairs=None\n",
    "                            )\n",
    "og_clusters = clusters"
   ]
  },
  {
   "cell_type": "code",
   "execution_count": null,
   "id": "38994c5c",
   "metadata": {},
   "outputs": [],
   "source": [
    "pl = []\n",
    "for cluster in clusters:\n",
    "    pl.append(len(cluster))\n",
    "pl.sort(reverse=True)\n",
    "print(pl)"
   ]
  },
  {
   "cell_type": "code",
   "execution_count": null,
   "id": "85ef17c4",
   "metadata": {},
   "outputs": [],
   "source": [
    "def get_target_lines(vec):\n",
    "    ret = collections.defaultdict(list)\n",
    "    \n",
    "    for line in vec:\n",
    "        targ = line\n",
    "        ret[targ].append([line, 'smile'])\n",
    "\n",
    "    return ret"
   ]
  },
  {
   "cell_type": "code",
   "execution_count": null,
   "id": "a3357447",
   "metadata": {},
   "outputs": [],
   "source": [
    "target_lines = get_target_lines(keys)"
   ]
  },
  {
   "cell_type": "code",
   "execution_count": null,
   "id": "cf0aeaa7",
   "metadata": {},
   "outputs": [],
   "source": [
    "def createFolds(cluster_groups, numfolds, target_lines, randomize):\n",
    "    '''split target clusters into numfolds folds with balanced num poses per fold\n",
    "       If randomize, will balance less well.\n",
    "    '''\n",
    "    folds = [[] for _ in range(numfolds)]\n",
    "    fold_numposes = [0]*numfolds\n",
    "    group_numposes = [0]*len(cluster_groups)\n",
    "    foldmap = {}\n",
    "    for i, group in enumerate(cluster_groups):\n",
    "        # count num poses per group\n",
    "        for target in group:\n",
    "            group_numposes[i] += len(target_lines[target])\n",
    "    for _ in cluster_groups:\n",
    "        # iteratively assign group with most poses to fold with fewest poses\n",
    "        maxgroup = group_numposes.index(np.max(group_numposes))\n",
    "        if randomize:\n",
    "            space = np.max(fold_numposes) - np.array(fold_numposes)\n",
    "            tot = np.sum(space)\n",
    "            if tot == 0:\n",
    "                minfold = np.random.choice(numfolds)\n",
    "            else:  # weighted selection, prefer spots with more free space\n",
    "                choice = np.random.choice(tot)\n",
    "                tot = 0\n",
    "                for i in range(len(space)):\n",
    "                    tot += space[i]\n",
    "                    if choice < tot:\n",
    "                        minfold = i\n",
    "                        break\n",
    "        else:\n",
    "            minfold = fold_numposes.index(np.min(fold_numposes))\n",
    "        folds[minfold].extend(cluster_groups[maxgroup])\n",
    "        fold_numposes[minfold] += group_numposes[maxgroup]\n",
    "        group_numposes[maxgroup] = -1\n",
    "        for t in cluster_groups[maxgroup]:\n",
    "            foldmap[t] = minfold\n",
    "    print('Poses per fold: {}'.format(fold_numposes))\n",
    "    for f in folds:\n",
    "        f.sort()\n",
    "    return folds, foldmap\n",
    "\n",
    "def index(a, x):\n",
    "    'Locate the leftmost value exactly equal to x'\n",
    "    i = bisect.bisect_left(a, x)\n",
    "    if i != len(a) and a[i] == x:\n",
    "        return i\n",
    "    else:\n",
    "        return -1"
   ]
  },
  {
   "cell_type": "code",
   "execution_count": null,
   "id": "4788603e",
   "metadata": {},
   "outputs": [],
   "source": [
    "\n",
    "folds, foldmap = createFolds(\n",
    "            clusters, 3, target_lines, 1)\n"
   ]
  },
  {
   "cell_type": "code",
   "execution_count": null,
   "id": "57b98b80",
   "metadata": {},
   "outputs": [],
   "source": [
    "with open('folds_using_0.25_thresh_pocketmatch.pkl', 'wb') as f:\n",
    "    pickle.dump(folds, f)\n",
    "# with open('folds_using_0.25_thresh_pocketmatch.pkl', 'rb') as f:\n",
    "#     folds = pickle.load(f)\n"
   ]
  }
 ],
 "metadata": {
  "kernelspec": {
   "display_name": "Python 3",
   "language": "python",
   "name": "python3"
  },
  "language_info": {
   "codemirror_mode": {
    "name": "ipython",
    "version": 3
   },
   "file_extension": ".py",
   "mimetype": "text/x-python",
   "name": "python",
   "nbconvert_exporter": "python",
   "pygments_lexer": "ipython3",
   "version": "3.6.15"
  }
 },
 "nbformat": 4,
 "nbformat_minor": 5
}
