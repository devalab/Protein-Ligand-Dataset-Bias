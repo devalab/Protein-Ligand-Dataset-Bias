{
 "cells": [
  {
   "cell_type": "code",
   "execution_count": 22,
   "id": "ae342457",
   "metadata": {},
   "outputs": [],
   "source": [
    "import pandas as pd\n",
    "import numpy as np\n",
    "from scipy.stats import pearsonr\n",
    "import math\n",
    "import matplotlib.pyplot as plt\n",
    "import pickle\n",
    "from sklearn.metrics import mean_squared_error\n",
    "import seaborn as sns"
   ]
  },
  {
   "cell_type": "code",
   "execution_count": 23,
   "id": "3d9728aa",
   "metadata": {},
   "outputs": [],
   "source": [
    "smina_score = pd.read_csv('./smina_score_full.csv', index_col=0)"
   ]
  },
  {
   "cell_type": "code",
   "execution_count": 24,
   "id": "144c03a2",
   "metadata": {},
   "outputs": [
    {
     "data": {
      "text/plain": [
       "17636"
      ]
     },
     "execution_count": 24,
     "metadata": {},
     "output_type": "execute_result"
    }
   ],
   "source": [
    "len(smina_score)"
   ]
  },
  {
   "cell_type": "code",
   "execution_count": 25,
   "id": "d68dd83a",
   "metadata": {},
   "outputs": [
    {
     "data": {
      "text/html": [
       "<div>\n",
       "<style scoped>\n",
       "    .dataframe tbody tr th:only-of-type {\n",
       "        vertical-align: middle;\n",
       "    }\n",
       "\n",
       "    .dataframe tbody tr th {\n",
       "        vertical-align: top;\n",
       "    }\n",
       "\n",
       "    .dataframe thead th {\n",
       "        text-align: right;\n",
       "    }\n",
       "</style>\n",
       "<table border=\"1\" class=\"dataframe\">\n",
       "  <thead>\n",
       "    <tr style=\"text-align: right;\">\n",
       "      <th></th>\n",
       "      <th>ids</th>\n",
       "      <th>Score</th>\n",
       "      <th>True</th>\n",
       "    </tr>\n",
       "  </thead>\n",
       "  <tbody>\n",
       "    <tr>\n",
       "      <th>208</th>\n",
       "      <td>1qi0</td>\n",
       "      <td>4.879590</td>\n",
       "      <td>2.35</td>\n",
       "    </tr>\n",
       "    <tr>\n",
       "      <th>12053</th>\n",
       "      <td>3kc1</td>\n",
       "      <td>6.273039</td>\n",
       "      <td>9.00</td>\n",
       "    </tr>\n",
       "    <tr>\n",
       "      <th>7264</th>\n",
       "      <td>2p3d</td>\n",
       "      <td>6.690921</td>\n",
       "      <td>6.74</td>\n",
       "    </tr>\n",
       "    <tr>\n",
       "      <th>13714</th>\n",
       "      <td>4myd</td>\n",
       "      <td>6.134681</td>\n",
       "      <td>4.55</td>\n",
       "    </tr>\n",
       "    <tr>\n",
       "      <th>16474</th>\n",
       "      <td>1a94</td>\n",
       "      <td>6.370236</td>\n",
       "      <td>7.85</td>\n",
       "    </tr>\n",
       "    <tr>\n",
       "      <th>...</th>\n",
       "      <td>...</td>\n",
       "      <td>...</td>\n",
       "      <td>...</td>\n",
       "    </tr>\n",
       "    <tr>\n",
       "      <th>5007</th>\n",
       "      <td>5akj</td>\n",
       "      <td>4.062673</td>\n",
       "      <td>5.86</td>\n",
       "    </tr>\n",
       "    <tr>\n",
       "      <th>8131</th>\n",
       "      <td>4tyo</td>\n",
       "      <td>5.722792</td>\n",
       "      <td>7.10</td>\n",
       "    </tr>\n",
       "    <tr>\n",
       "      <th>17435</th>\n",
       "      <td>3kdb</td>\n",
       "      <td>9.740252</td>\n",
       "      <td>9.85</td>\n",
       "    </tr>\n",
       "    <tr>\n",
       "      <th>8486</th>\n",
       "      <td>5kre</td>\n",
       "      <td>-0.777260</td>\n",
       "      <td>7.23</td>\n",
       "    </tr>\n",
       "    <tr>\n",
       "      <th>4099</th>\n",
       "      <td>4mp2</td>\n",
       "      <td>3.826199</td>\n",
       "      <td>5.45</td>\n",
       "    </tr>\n",
       "  </tbody>\n",
       "</table>\n",
       "<p>17636 rows × 3 columns</p>\n",
       "</div>"
      ],
      "text/plain": [
       "        ids     Score  True\n",
       "208    1qi0  4.879590  2.35\n",
       "12053  3kc1  6.273039  9.00\n",
       "7264   2p3d  6.690921  6.74\n",
       "13714  4myd  6.134681  4.55\n",
       "16474  1a94  6.370236  7.85\n",
       "...     ...       ...   ...\n",
       "5007   5akj  4.062673  5.86\n",
       "8131   4tyo  5.722792  7.10\n",
       "17435  3kdb  9.740252  9.85\n",
       "8486   5kre -0.777260  7.23\n",
       "4099   4mp2  3.826199  5.45\n",
       "\n",
       "[17636 rows x 3 columns]"
      ]
     },
     "execution_count": 25,
     "metadata": {},
     "output_type": "execute_result"
    }
   ],
   "source": [
    "smina_score"
   ]
  },
  {
   "cell_type": "code",
   "execution_count": 26,
   "id": "4c970ada",
   "metadata": {},
   "outputs": [],
   "source": [
    "df = smina_score.sample(frac= 1)"
   ]
  },
  {
   "cell_type": "code",
   "execution_count": 27,
   "id": "740685b7",
   "metadata": {},
   "outputs": [],
   "source": [
    "smina_score = df"
   ]
  },
  {
   "cell_type": "code",
   "execution_count": 28,
   "id": "d849a74e",
   "metadata": {},
   "outputs": [],
   "source": [
    "smina_score = smina_score[smina_score['Score'] > -20]"
   ]
  },
  {
   "cell_type": "code",
   "execution_count": 29,
   "id": "53ab3be2",
   "metadata": {},
   "outputs": [
    {
     "data": {
      "text/plain": [
       "(array([3.000e+00, 0.000e+00, 1.000e+00, 0.000e+00, 0.000e+00, 1.000e+00,\n",
       "        0.000e+00, 0.000e+00, 1.000e+00, 0.000e+00, 0.000e+00, 0.000e+00,\n",
       "        0.000e+00, 1.000e+00, 0.000e+00, 0.000e+00, 0.000e+00, 0.000e+00,\n",
       "        0.000e+00, 0.000e+00, 0.000e+00, 0.000e+00, 1.000e+00, 4.000e+00,\n",
       "        0.000e+00, 1.000e+00, 1.000e+00, 0.000e+00, 2.000e+00, 4.000e+00,\n",
       "        3.000e+00, 0.000e+00, 1.000e+00, 1.000e+00, 3.000e+00, 4.000e+00,\n",
       "        7.000e+00, 5.000e+00, 1.100e+01, 7.000e+00, 1.500e+01, 1.300e+01,\n",
       "        1.000e+01, 1.600e+01, 2.500e+01, 3.100e+01, 3.900e+01, 3.700e+01,\n",
       "        4.000e+01, 4.900e+01, 6.600e+01, 8.800e+01, 9.400e+01, 1.310e+02,\n",
       "        2.030e+02, 2.370e+02, 3.040e+02, 3.900e+02, 5.030e+02, 5.700e+02,\n",
       "        6.350e+02, 7.810e+02, 8.800e+02, 9.300e+02, 1.033e+03, 1.035e+03,\n",
       "        1.163e+03, 1.167e+03, 1.110e+03, 1.083e+03, 9.570e+02, 8.110e+02,\n",
       "        6.890e+02, 6.110e+02, 4.960e+02, 3.640e+02, 2.870e+02, 1.960e+02,\n",
       "        1.510e+02, 1.090e+02, 6.200e+01, 5.700e+01, 2.100e+01, 2.400e+01,\n",
       "        1.200e+01, 9.000e+00, 3.000e+00, 7.000e+00, 3.000e+00, 6.000e+00,\n",
       "        2.000e+00, 2.000e+00, 3.000e+00, 1.000e+00, 0.000e+00, 0.000e+00,\n",
       "        0.000e+00, 0.000e+00, 1.000e+00, 1.000e+00]),\n",
       " array([-17.3079935 , -16.95781483, -16.60763616, -16.25745749,\n",
       "        -15.90727881, -15.55710014, -15.20692147, -14.8567428 ,\n",
       "        -14.50656413, -14.15638546, -13.80620679, -13.45602812,\n",
       "        -13.10584945, -12.75567078, -12.40549211, -12.05531344,\n",
       "        -11.70513477, -11.3549561 , -11.00477743, -10.65459876,\n",
       "        -10.30442009,  -9.95424142,  -9.60406275,  -9.25388408,\n",
       "         -8.90370541,  -8.55352674,  -8.20334807,  -7.8531694 ,\n",
       "         -7.50299073,  -7.15281206,  -6.80263339,  -6.45245471,\n",
       "         -6.10227604,  -5.75209737,  -5.4019187 ,  -5.05174003,\n",
       "         -4.70156136,  -4.35138269,  -4.00120402,  -3.65102535,\n",
       "         -3.30084668,  -2.95066801,  -2.60048934,  -2.25031067,\n",
       "         -1.900132  ,  -1.54995333,  -1.19977466,  -0.84959599,\n",
       "         -0.49941732,  -0.14923865,   0.20094002,   0.55111869,\n",
       "          0.90129736,   1.25147603,   1.6016547 ,   1.95183337,\n",
       "          2.30201204,   2.65219072,   3.00236939,   3.35254806,\n",
       "          3.70272673,   4.0529054 ,   4.40308407,   4.75326274,\n",
       "          5.10344141,   5.45362008,   5.80379875,   6.15397742,\n",
       "          6.50415609,   6.85433476,   7.20451343,   7.5546921 ,\n",
       "          7.90487077,   8.25504944,   8.60522811,   8.95540678,\n",
       "          9.30558545,   9.65576412,  10.00594279,  10.35612146,\n",
       "         10.70630013,  11.0564788 ,  11.40665747,  11.75683615,\n",
       "         12.10701482,  12.45719349,  12.80737216,  13.15755083,\n",
       "         13.5077295 ,  13.85790817,  14.20808684,  14.55826551,\n",
       "         14.90844418,  15.25862285,  15.60880152,  15.95898019,\n",
       "         16.30915886,  16.65933753,  17.0095162 ,  17.35969487,\n",
       "         17.70987354]),\n",
       " <BarContainer object of 100 artists>)"
      ]
     },
     "execution_count": 29,
     "metadata": {},
     "output_type": "execute_result"
    },
    {
     "data": {
      "image/png": "[encoded data removed]",
      "text/plain": [
       "<Figure size 432x288 with 1 Axes>"
      ]
     },
     "metadata": {
      "needs_background": "light"
     },
     "output_type": "display_data"
    }
   ],
   "source": [
    "plt.hist(smina_score['Score'].values, bins= 100)"
   ]
  },
  {
   "cell_type": "code",
   "execution_count": 30,
   "id": "cf3702ec",
   "metadata": {},
   "outputs": [
    {
     "data": {
      "text/plain": [
       "<seaborn.axisgrid.FacetGrid at 0x7f2f2910ab70>"
      ]
     },
     "execution_count": 30,
     "metadata": {},
     "output_type": "execute_result"
    },
    {
     "data": {
      "image/png": "[encoded data removed]",
      "text/plain": [
       "<Figure size 360x360 with 1 Axes>"
      ]
     },
     "metadata": {
      "needs_background": "light"
     },
     "output_type": "display_data"
    }
   ],
   "source": [
    "sns.lmplot(data=smina_score, x='Score', y='True' )"
   ]
  },
  {
   "cell_type": "code",
   "execution_count": 31,
   "id": "4ec9c122",
   "metadata": {},
   "outputs": [
    {
     "data": {
      "text/plain": [
       "17625"
      ]
     },
     "execution_count": 31,
     "metadata": {},
     "output_type": "execute_result"
    }
   ],
   "source": [
    "len(smina_score)"
   ]
  },
  {
   "cell_type": "code",
   "execution_count": 32,
   "id": "5ce4c1f7",
   "metadata": {},
   "outputs": [],
   "source": [
    "smina_score_vals = smina_score.values\n",
    "count = 0\n",
    "key_index={}\n",
    "for i in smina_score_vals:\n",
    "    key = i[0]\n",
    "    key_index[key] = count\n",
    "    count += 1\n",
    "    "
   ]
  },
  {
   "cell_type": "code",
   "execution_count": 33,
   "id": "93f9379f",
   "metadata": {},
   "outputs": [],
   "source": [
    "plif_folds = pickle.load(open('./folds_using_16k_0.25_thresh_after_filtering.pkl', 'rb'))"
   ]
  },
  {
   "cell_type": "code",
   "execution_count": 43,
   "id": "33ca62b4",
   "metadata": {},
   "outputs": [],
   "source": [
    "pocketmatch_folds = pickle.load(open('folds_using_0.25_thresh_pocketmatch.pkl', 'rb'))"
   ]
  },
  {
   "cell_type": "code",
   "execution_count": 44,
   "id": "1bd85847",
   "metadata": {},
   "outputs": [],
   "source": [
    "def get_vals(fold):\n",
    "    preds = []\n",
    "    trues = []\n",
    "    for key in fold:\n",
    "        try:\n",
    "            vec = smina_score_vals[key_index[key]]\n",
    "            true = vec[2]\n",
    "            pred = vec[1]\n",
    "            preds.append(pred)\n",
    "            trues.append(true)\n",
    "        except:\n",
    "#             print(key)\n",
    "            pass\n",
    "    return preds, trues"
   ]
  },
  {
   "cell_type": "code",
   "execution_count": 45,
   "id": "fee1a039",
   "metadata": {},
   "outputs": [],
   "source": [
    "import numpy as np"
   ]
  },
  {
   "cell_type": "code",
   "execution_count": 46,
   "id": "a668c030",
   "metadata": {},
   "outputs": [
    {
     "name": "stdout",
     "output_type": "stream",
     "text": [
      "Pearson R Fold 0 0.32701989040766305\n",
      "Pearson R Fold 1 0.398720752721496\n",
      "Pearson R Fold 2 0.3228661291586458\n",
      "PLIF SMINA \n",
      "avg R 0.34953559076260166\n",
      "avg rmse  2.524156577598806\n"
     ]
    }
   ],
   "source": [
    "all_r = []\n",
    "all_rmse = []\n",
    "for i in [0,1,2]:\n",
    "\n",
    "    preds, trues = get_vals(plif_folds[i])\n",
    "    a = pearsonr(preds, trues)[0]\n",
    "    all_r.append(pearsonr(preds, trues)[0])\n",
    "    all_rmse.append(math.sqrt(mean_squared_error(preds, trues)))\n",
    "    print('Pearson R Fold', i ,pearsonr(preds, trues)[0])\n",
    "#     print('RMSE      ', math.sqrt(mean_squared_error(preds, trues)))\n",
    "\n",
    "print('PLIF SMINA ')    \n",
    "print('avg R', np.mean(all_r))\n",
    "print('avg rmse ', np.mean(all_rmse))"
   ]
  },
  {
   "cell_type": "code",
   "execution_count": 47,
   "id": "30cfe53d",
   "metadata": {},
   "outputs": [
    {
     "name": "stdout",
     "output_type": "stream",
     "text": [
      "Pearson R fold  0 0.38765452741714457\n",
      "Pearson R fold  1 0.30249703652562865\n",
      "Pearson R fold  2 0.3565274478775328\n",
      "POCKETMATCH SMINA\n",
      "avg R 0.348893003940102\n",
      "avg rmse  2.5242219249435682\n"
     ]
    }
   ],
   "source": [
    "all_r = []\n",
    "all_rmse = []\n",
    "for i in [0,1,2]:\n",
    "    preds, trues = get_vals(pocketmatch_folds[i])\n",
    "    all_r.append(pearsonr(preds, trues)[0])\n",
    "    all_rmse.append(math.sqrt(mean_squared_error(preds, trues)))\n",
    "    print('Pearson R fold ',i,pearsonr(preds, trues)[0])\n",
    "#     print('RMSE      ', math.sqrt(mean_squared_error(preds, trues)))\n",
    "print(\"POCKETMATCH SMINA\")\n",
    "print('avg R', np.mean(all_r))\n",
    "print('avg rmse ', np.mean(all_rmse))"
   ]
  },
  {
   "cell_type": "code",
   "execution_count": 48,
   "id": "babfc541",
   "metadata": {},
   "outputs": [
    {
     "name": "stdout",
     "output_type": "stream",
     "text": [
      "5530\n",
      "5530\n",
      "5530\n"
     ]
    }
   ],
   "source": [
    "for i in pocketmatch_folds:\n",
    "    print(len(i))"
   ]
  },
  {
   "cell_type": "code",
   "execution_count": 49,
   "id": "0bb4b3e5",
   "metadata": {},
   "outputs": [],
   "source": [
    "a = [[1,2,3],[4,2,3], [4,5,6]]"
   ]
  },
  {
   "cell_type": "code",
   "execution_count": 41,
   "id": "8ee925ee",
   "metadata": {},
   "outputs": [],
   "source": [
    "import random\n",
    "random.shuffle(a)"
   ]
  },
  {
   "cell_type": "code",
   "execution_count": 42,
   "id": "918e74fc",
   "metadata": {},
   "outputs": [
    {
     "data": {
      "text/plain": [
       "[[1, 2, 3], [4, 5, 6], [4, 2, 3]]"
      ]
     },
     "execution_count": 42,
     "metadata": {},
     "output_type": "execute_result"
    }
   ],
   "source": [
    "a"
   ]
  },
  {
   "cell_type": "code",
   "execution_count": null,
   "id": "b784a2ac",
   "metadata": {},
   "outputs": [],
   "source": []
  },
  {
   "cell_type": "code",
   "execution_count": null,
   "id": "1c25b4f7",
   "metadata": {},
   "outputs": [],
   "source": []
  },
  {
   "cell_type": "code",
   "execution_count": null,
   "id": "1590cbb8",
   "metadata": {},
   "outputs": [],
   "source": []
  },
  {
   "cell_type": "code",
   "execution_count": null,
   "id": "ccff2136",
   "metadata": {},
   "outputs": [],
   "source": []
  },
  {
   "cell_type": "code",
   "execution_count": null,
   "id": "349960c1",
   "metadata": {},
   "outputs": [],
   "source": []
  },
  {
   "cell_type": "code",
   "execution_count": null,
   "id": "e3b60ea7",
   "metadata": {},
   "outputs": [],
   "source": []
  }
 ],
 "metadata": {
  "kernelspec": {
   "display_name": "Python 3",
   "language": "python",
   "name": "python3"
  },
  "language_info": {
   "codemirror_mode": {
    "name": "ipython",
    "version": 3
   },
   "file_extension": ".py",
   "mimetype": "text/x-python",
   "name": "python",
   "nbconvert_exporter": "python",
   "pygments_lexer": "ipython3",
   "version": "3.6.15"
  }
 },
 "nbformat": 4,
 "nbformat_minor": 5
}
