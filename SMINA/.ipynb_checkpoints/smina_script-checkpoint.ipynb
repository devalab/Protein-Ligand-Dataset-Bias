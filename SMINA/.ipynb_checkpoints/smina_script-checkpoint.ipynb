{
 "cells": [
  {
   "cell_type": "code",
   "execution_count": null,
   "id": "f7acdc7e",
   "metadata": {},
   "outputs": [],
   "source": [
    "import os "
   ]
  },
  {
   "cell_type": "code",
   "execution_count": null,
   "id": "e240c8a3",
   "metadata": {},
   "outputs": [],
   "source": [
    "import tqdm.auto as tqdm"
   ]
  },
  {
   "cell_type": "code",
   "execution_count": null,
   "id": "1c0df29a",
   "metadata": {},
   "outputs": [],
   "source": [
    "path = './PDBBIND/v2019-other-PL/'"
   ]
  },
  {
   "cell_type": "code",
   "execution_count": null,
   "id": "59065f64",
   "metadata": {
    "scrolled": false
   },
   "outputs": [],
   "source": [
    "ls = []\n",
    "for dirname in os.listdir(path):\n",
    "    if dirname == 'readme' or dirname == 'index':\n",
    "        continue\n",
    "    \n",
    "    cur_path = path + '/' + dirname\n",
    "    protein_path = cur_path + '/' + dirname + '_protein.pdb'\n",
    "    ligand_path = cur_path + '/' + dirname + '_ligand.sdf'\n",
    "#     protein_path = './CASF/protein/mol2/' + dirname + '_protein.mol2'\n",
    "#     ligand_path = './CASF/ligand/ranking_scoring/crystal_mol2/' + dirname + '_ligand.mol2'\n",
    "    \n",
    "    cmd = 'smina ' + ' -r ' + protein_path +  ' -l ' + ligand_path + ' --score_only |' + 'grep Affinity'\n",
    "    stream = os.popen(cmd)\n",
    "    ls.append(dirname + ' ' + stream.read())\n",
    "    print(len(ls), ls[-1], end='\\r')\n",
    "#     break"
   ]
  },
  {
   "cell_type": "code",
   "execution_count": null,
   "id": "b82c2318",
   "metadata": {},
   "outputs": [],
   "source": [
    "f = open('general-2019-Affinity.csv', 'w')\n",
    "for i in ls:\n",
    "    f.write(i)\n",
    "f.close()"
   ]
  },
  {
   "cell_type": "code",
   "execution_count": null,
   "id": "f2e8ecea",
   "metadata": {},
   "outputs": [],
   "source": []
  }
 ],
 "metadata": {
  "kernelspec": {
   "display_name": "Python 3",
   "language": "python",
   "name": "python3"
  },
  "language_info": {
   "codemirror_mode": {
    "name": "ipython",
    "version": 3
   },
   "file_extension": ".py",
   "mimetype": "text/x-python",
   "name": "python",
   "nbconvert_exporter": "python",
   "pygments_lexer": "ipython3",
   "version": "3.6.15"
  }
 },
 "nbformat": 4,
 "nbformat_minor": 5
}
