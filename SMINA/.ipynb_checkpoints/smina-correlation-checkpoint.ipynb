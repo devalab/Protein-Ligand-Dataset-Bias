{
 "cells": [
  {
   "cell_type": "code",
   "execution_count": null,
   "id": "d5f7338b",
   "metadata": {},
   "outputs": [],
   "source": [
    "import pandas as pd \n",
    "import numpy as np"
   ]
  },
  {
   "cell_type": "code",
   "execution_count": null,
   "id": "10ed5fae",
   "metadata": {},
   "outputs": [],
   "source": [
    "c2007 = pd.read_csv('./CASF-2007-Affinity.csv', delimiter=' ',  header=None)\n",
    "c2013 = pd.read_csv('./CASF-2013-Affinity.csv', delimiter=' ',  header=None)\n",
    "c2016 = pd.read_csv('./CASF-2016-Affinity.csv', delimiter=' ',  header=None)"
   ]
  },
  {
   "cell_type": "code",
   "execution_count": null,
   "id": "ddd15983",
   "metadata": {},
   "outputs": [],
   "source": [
    "combined_core = pd.concat([ c2016,  c2013,c2007], ignore_index=True)\n",
    "combined_core.reset_index(drop=True, inplace=True)\n",
    "combined_core.rename(columns={0:'id', 1:'lite', 2:'kcal/mol', 3:'yeet'}, inplace=True)\n",
    "combined_core.drop(['lite','yeet'], axis = 1, inplace=True)\n",
    "combined_core.drop_duplicates(subset='id',inplace=True)"
   ]
  },
  {
   "cell_type": "code",
   "execution_count": null,
   "id": "4d379d6c",
   "metadata": {
    "scrolled": true
   },
   "outputs": [],
   "source": [
    "general = pd.read_csv('./general-2019-Affinity.csv', delimiter= ' ', header=None)\n",
    "general.reset_index(drop=True, inplace=True)\n",
    "general.rename(columns={0:'id', 1:'lite', 2:'kcal/mol', 3:'yeet'}, inplace=True)\n",
    "general.drop(['lite','yeet'], axis = 1, inplace=True)\n",
    "general.drop_duplicates(subset='id',inplace=True)"
   ]
  },
  {
   "cell_type": "code",
   "execution_count": null,
   "id": "8783fdc7",
   "metadata": {},
   "outputs": [],
   "source": [
    "refined = pd.read_csv('./refined-2019-Affinity.csv', delimiter= ' ', header=None)\n",
    "refined.reset_index(drop=True, inplace=True)\n",
    "refined.rename(columns={0:'id', 1:'lite', 2:'kcal/mol', 3:'yeet'}, inplace=True)\n",
    "refined.drop(['lite','yeet'], axis = 1, inplace=True)\n",
    "refined.drop_duplicates(subset='id',inplace=True)\n"
   ]
  },
  {
   "cell_type": "code",
   "execution_count": null,
   "id": "ecebe3ac",
   "metadata": {},
   "outputs": [],
   "source": [
    "import math\n",
    "T=295\n",
    "R=1.9872*1e-3\n",
    "def calc_logp(val):\n",
    "    return -np.log10(np.exp(val/(T*R)))"
   ]
  },
  {
   "cell_type": "code",
   "execution_count": null,
   "id": "853b46da",
   "metadata": {},
   "outputs": [],
   "source": [
    "refined['pk'] = refined.apply(lambda row: calc_logp(float(row['kcal/mol'])), axis =1)\n",
    "general['pk'] = general.apply(lambda row: calc_logp(float(row['kcal/mol'])), axis =1)\n",
    "combined_core['pk'] = combined_core.apply(lambda row: calc_logp(float(row['kcal/mol'])), axis =1)"
   ]
  },
  {
   "cell_type": "code",
   "execution_count": null,
   "id": "fde83a5c",
   "metadata": {},
   "outputs": [],
   "source": [
    "full = pd.concat([refined, general])"
   ]
  },
  {
   "cell_type": "code",
   "execution_count": null,
   "id": "ad0a40f8",
   "metadata": {},
   "outputs": [],
   "source": [
    "full.hist('pk', bins=100)"
   ]
  },
  {
   "cell_type": "code",
   "execution_count": null,
   "id": "3aae13d6",
   "metadata": {},
   "outputs": [],
   "source": [
    "# refined = refined[refined['pk'] > -25]\n",
    "# general = general[general['pk'] > -25]"
   ]
  },
  {
   "cell_type": "code",
   "execution_count": null,
   "id": "658aeaf1",
   "metadata": {},
   "outputs": [],
   "source": [
    "import matplotlib.pyplot as plt"
   ]
  },
  {
   "cell_type": "code",
   "execution_count": null,
   "id": "c31094c1",
   "metadata": {},
   "outputs": [],
   "source": [
    "combined_core.hist()"
   ]
  },
  {
   "cell_type": "code",
   "execution_count": null,
   "id": "fa7d30dc",
   "metadata": {},
   "outputs": [],
   "source": [
    "general.hist(bins=30)"
   ]
  },
  {
   "cell_type": "code",
   "execution_count": null,
   "id": "d089088e",
   "metadata": {},
   "outputs": [],
   "source": [
    "refined.hist(bins=30)"
   ]
  },
  {
   "cell_type": "code",
   "execution_count": null,
   "id": "f1c857e6",
   "metadata": {},
   "outputs": [],
   "source": [
    "len(general) + len(refined)"
   ]
  },
  {
   "cell_type": "code",
   "execution_count": null,
   "id": "3a660321",
   "metadata": {
    "scrolled": false
   },
   "outputs": [],
   "source": [
    "general_og = pd.read_csv('./general-og-values.csv',sep=r\"[ ]{2,}\")\n",
    "refined_og = pd.read_csv('./refined-og-values.csv',sep=r\"[ ]{2,}\")"
   ]
  },
  {
   "cell_type": "code",
   "execution_count": null,
   "id": "a364df33",
   "metadata": {},
   "outputs": [],
   "source": [
    "general_og = general_og[['PDBcode', '-logKd/Ki']]\n",
    "general_og.rename(columns={'PDBcode':'id','-logKd/Ki':'pk' }, inplace=True)\n",
    "\n",
    "refined_og = refined_og[['PDBcode', '-logKd/Ki']]\n",
    "refined_og.rename(columns={'PDBcode':'id','-logKd/Ki':'pk' }, inplace=True)\n"
   ]
  },
  {
   "cell_type": "code",
   "execution_count": null,
   "id": "e5316e1c",
   "metadata": {},
   "outputs": [],
   "source": [
    "general_og"
   ]
  },
  {
   "cell_type": "code",
   "execution_count": null,
   "id": "b957bf92",
   "metadata": {},
   "outputs": [],
   "source": [
    "i = 0\n",
    "for key in combined_core['id'].values:\n",
    "    if key not in refined['id'].values and key not in general['id'].values :\n",
    "        i += 1\n",
    "print(i)"
   ]
  },
  {
   "cell_type": "code",
   "execution_count": null,
   "id": "972553c1",
   "metadata": {
    "scrolled": true
   },
   "outputs": [],
   "source": [
    "c2007 = pd.read_csv('./CASF-2007-og.csv', sep=r\"[ ]{2,}\")\n",
    "c2013 = pd.read_csv('./CASF-2013-og.csv', sep=r\"[ ]{2,}\")\n",
    "c2016 = pd.read_csv('./CASF-2016-og.csv', sep=r\"[ ]{2,}\")"
   ]
  },
  {
   "cell_type": "code",
   "execution_count": null,
   "id": "8f6c1ad8",
   "metadata": {},
   "outputs": [],
   "source": [
    "c2007 = c2007[['PDBcode','pKd(pKi)']]\n",
    "c2007.rename(columns={'PDBcode':'id','pKd(pKi)':'pk' }, inplace=True)\n",
    "c2013 = c2013[['PDBcode','-logKd/Ki']]\n",
    "c2013.rename(columns={'PDBcode':'id','-logKd/Ki':'pk' }, inplace=True)\n",
    "c2016 = c2016[['PDBcode','logKa']]\n",
    "c2016.rename(columns={'PDBcode':'id','logKa':'pk' }, inplace=True)"
   ]
  },
  {
   "cell_type": "code",
   "execution_count": null,
   "id": "a7e62915",
   "metadata": {},
   "outputs": [],
   "source": [
    "combined_core_og = pd.concat([c2007, c2013, c2016], ignore_index=True)\n",
    "combined_core_og.drop_duplicates(subset='id', inplace=True)"
   ]
  },
  {
   "cell_type": "code",
   "execution_count": null,
   "id": "f6413f11",
   "metadata": {},
   "outputs": [],
   "source": [
    "# combined_core_og.to_csv('/scratch/kanakala.ganesh/ALL-CORE-affinities.csv')"
   ]
  },
  {
   "cell_type": "code",
   "execution_count": null,
   "id": "5d9e8df5",
   "metadata": {},
   "outputs": [],
   "source": [
    "core_keys = combined_core['id'].values"
   ]
  },
  {
   "cell_type": "code",
   "execution_count": null,
   "id": "d71e2feb",
   "metadata": {},
   "outputs": [],
   "source": [
    "# l=[]\n",
    "# for key in combined_core_og['id'].values:\n",
    "#     if key in refined_og['id'].values :\n",
    "#         print(key)\n",
    "#         print(combined_core_og[combined_core_og['id'] == key]['pk'].item())\n",
    "#         print(refined_og[refined_og['id'] == key]['pk'].item())\n",
    "     "
   ]
  },
  {
   "cell_type": "code",
   "execution_count": null,
   "id": "a3a62094",
   "metadata": {
    "scrolled": true
   },
   "outputs": [],
   "source": [
    "final_core = []\n",
    "i = 0\n",
    "for key in core_keys:\n",
    "    try:\n",
    "        score = refined[refined['id'] == key]['pk'].item()\n",
    "        true = combined_core_og[combined_core_og['id'] == key]['pk'].item()\n",
    "        final_core.append([score, true])\n",
    "    except:\n",
    "        try:\n",
    "            score = general[general['id'] == key]['pk'].item()\n",
    "            true = combined_core_og[combined_core_og['id'] == key]['pk'].item()\n",
    "            final_core.append([score, true]) \n",
    "        except:\n",
    "            i += 1\n",
    "print(i)\n",
    "final_core_df = pd.DataFrame(np.array(final_core), columns=['Score', 'True'])"
   ]
  },
  {
   "cell_type": "code",
   "execution_count": null,
   "id": "55d20cc7",
   "metadata": {},
   "outputs": [],
   "source": [
    "general_keys = general_og['id'].values"
   ]
  },
  {
   "cell_type": "code",
   "execution_count": null,
   "id": "935c76a3",
   "metadata": {},
   "outputs": [],
   "source": [
    "final_general = []\n",
    "i = 0\n",
    "for key in general_keys:\n",
    "    try:\n",
    "        score = general[general['id'] == key]['pk'].item()\n",
    "        true = general_og[general_og['id'] == key]['pk'].item()\n",
    "        final_general.append([score, true])\n",
    "    except:\n",
    "        i += 1\n",
    "print(i)\n",
    "final_general_df = pd.DataFrame(np.array(final_general), columns=['Score', 'True'])"
   ]
  },
  {
   "cell_type": "code",
   "execution_count": null,
   "id": "205dab5d",
   "metadata": {},
   "outputs": [],
   "source": [
    "np.array(final_general_df['Score'].values, dtype=float)"
   ]
  },
  {
   "cell_type": "code",
   "execution_count": null,
   "id": "4a8ea804",
   "metadata": {},
   "outputs": [],
   "source": [
    "# refined_keys = refined['id'].values[refined_key_ids]\n",
    "refined_keys = refined_og['id'].values"
   ]
  },
  {
   "cell_type": "code",
   "execution_count": null,
   "id": "668ea280",
   "metadata": {},
   "outputs": [],
   "source": [
    "final_refined = []\n",
    "i = 0\n",
    "\n",
    "for key in refined_keys:\n",
    "    try:\n",
    "        score = refined[refined['id'] == key]['pk'].item()\n",
    "        true = general_og[general_og['id'] == key]['pk'].item()\n",
    "        final_refined.append([score, true])\n",
    "    except:\n",
    "        i += 1\n",
    "print(i)\n",
    "final_refined_df = pd.DataFrame(np.array(final_refined), columns=['Score', 'True'])"
   ]
  },
  {
   "cell_type": "code",
   "execution_count": null,
   "id": "3211e722",
   "metadata": {},
   "outputs": [],
   "source": [
    "final_fulltrain_df = pd.concat([final_general_df, final_refined_df], ignore_index=True)"
   ]
  },
  {
   "cell_type": "code",
   "execution_count": null,
   "id": "f1a03014",
   "metadata": {},
   "outputs": [],
   "source": [
    "final_fulltrain_df = final_fulltrain_df.sample(frac=1)"
   ]
  },
  {
   "cell_type": "code",
   "execution_count": null,
   "id": "221c247c",
   "metadata": {},
   "outputs": [],
   "source": [
    "from scipy.stats import pearsonr"
   ]
  },
  {
   "cell_type": "code",
   "execution_count": null,
   "id": "c9162d4d",
   "metadata": {},
   "outputs": [],
   "source": [
    "# final_fulltrain_df.to_csv('smina_score_full.csv')"
   ]
  },
  {
   "cell_type": "code",
   "execution_count": null,
   "id": "c3467586",
   "metadata": {},
   "outputs": [],
   "source": []
  },
  {
   "cell_type": "code",
   "execution_count": null,
   "id": "0962bbdd",
   "metadata": {},
   "outputs": [],
   "source": [
    "# final_general_df = final_general_df[final_general_df['Score'] > -10]\n",
    "# final_refined_df = final_refined_df[final_refined_df['Score'] > -10]\n",
    "# final_fulltrain_df = final_fulltrain_df[final_fulltrain_df['Score'] > -10]"
   ]
  },
  {
   "cell_type": "code",
   "execution_count": null,
   "id": "15232e3c",
   "metadata": {},
   "outputs": [],
   "source": [
    "# final_core_df = final_core_df[final_core_df['Score'] > -10]"
   ]
  },
  {
   "cell_type": "code",
   "execution_count": null,
   "id": "4fd85d0f",
   "metadata": {},
   "outputs": [],
   "source": [
    "len(final_general_df), len(final_refined_df), len(final_fulltrain_df)"
   ]
  },
  {
   "cell_type": "code",
   "execution_count": null,
   "id": "c6316b42",
   "metadata": {},
   "outputs": [],
   "source": [
    "pearsonr(final_core_df['Score'].values, final_core_df['True'].values)"
   ]
  },
  {
   "cell_type": "code",
   "execution_count": null,
   "id": "ab0e1b4e",
   "metadata": {},
   "outputs": [],
   "source": [
    "from sklearn.metrics import mean_squared_error"
   ]
  },
  {
   "cell_type": "code",
   "execution_count": null,
   "id": "daa53f26",
   "metadata": {},
   "outputs": [],
   "source": [
    "math.sqrt(mean_squared_error(final_core_df['Score'].values, final_core_df['True'].values))"
   ]
  },
  {
   "cell_type": "code",
   "execution_count": null,
   "id": "23393b1e",
   "metadata": {},
   "outputs": [],
   "source": [
    "pearsonr(np.array(final_general_df['Score'].values, dtype=float), np.array(final_general_df['True'].values, dtype=float))"
   ]
  },
  {
   "cell_type": "code",
   "execution_count": null,
   "id": "363da0bc",
   "metadata": {},
   "outputs": [],
   "source": [
    "pearsonr(np.array(final_refined_df['Score'].values, dtype=float), np.array(final_refined_df['True'].values, dtype=float))"
   ]
  },
  {
   "cell_type": "code",
   "execution_count": null,
   "id": "3c5b00d9",
   "metadata": {},
   "outputs": [],
   "source": [
    "pearsonr(np.array(final_fulltrain_df['Score'].values, dtype=float), np.array(final_fulltrain_df['True'].values, dtype=float))# fulltrain is general + refined"
   ]
  },
  {
   "cell_type": "code",
   "execution_count": null,
   "id": "758fd726",
   "metadata": {},
   "outputs": [],
   "source": [
    "import seaborn as sns"
   ]
  },
  {
   "cell_type": "code",
   "execution_count": null,
   "id": "a89f0253",
   "metadata": {},
   "outputs": [],
   "source": [
    "sns.set_theme(style=\"ticks\")"
   ]
  },
  {
   "cell_type": "code",
   "execution_count": null,
   "id": "eeb156ad",
   "metadata": {},
   "outputs": [],
   "source": [
    "# sns.lmplot(data=final_core_df, x='Score', y='True' )"
   ]
  },
  {
   "cell_type": "code",
   "execution_count": null,
   "id": "5888a76b",
   "metadata": {},
   "outputs": [],
   "source": [
    "sns.regplot(data=final_general_df, x='Score', y='True')"
   ]
  },
  {
   "cell_type": "code",
   "execution_count": null,
   "id": "73fd07f0",
   "metadata": {},
   "outputs": [],
   "source": [
    "sns.regplot(data=final_refined_df, x='Score', y='True' )"
   ]
  },
  {
   "cell_type": "code",
   "execution_count": null,
   "id": "74e24bab",
   "metadata": {},
   "outputs": [],
   "source": [
    "sns.regplot(data=final_fulltrain_df, x='Score', y='True')"
   ]
  },
  {
   "cell_type": "code",
   "execution_count": null,
   "id": "9230cd06",
   "metadata": {},
   "outputs": [],
   "source": [
    "full_pdbbind_df = pd.concat([general, refined], ignore_index=True)\n",
    "full_pdbbind_df.drop_duplicates(subset='id', inplace=True)"
   ]
  },
  {
   "cell_type": "code",
   "execution_count": null,
   "id": "350dabf4",
   "metadata": {},
   "outputs": [],
   "source": [
    "full_pdbbind_df"
   ]
  },
  {
   "cell_type": "code",
   "execution_count": null,
   "id": "3c7c01f7",
   "metadata": {},
   "outputs": [],
   "source": [
    "fold0 = pd.read_csv('./FOLDS/full_pk_cv_test0.types', sep = ' ')\n",
    "fold1 = pd.read_csv('./FOLDS/full_pk_cv_test1.types', sep = ' ')\n",
    "fold2 = pd.read_csv('./FOLDS/full_pk_cv_test2.types', sep = ' ')"
   ]
  },
  {
   "cell_type": "code",
   "execution_count": null,
   "id": "891508a5",
   "metadata": {},
   "outputs": [],
   "source": [
    "fold0_keys = fold0['pdbid'].values"
   ]
  },
  {
   "cell_type": "code",
   "execution_count": null,
   "id": "4aade496",
   "metadata": {},
   "outputs": [],
   "source": [
    "final_fold0 = []\n",
    "for key in fold0_keys:\n",
    "    try:\n",
    "        score = full_pdbbind_df[full_pdbbind_df['id'] == key]['pk'].item()\n",
    "        true = fold0[fold0['pdbid'] == key]['affinity'].item()\n",
    "        \n",
    "        final_fold0.append([score, true])\n",
    "    except:\n",
    "        print(key)\n",
    "final_fold0_df = pd.DataFrame(np.array(final_fold0), columns=['Score', 'True'])"
   ]
  },
  {
   "cell_type": "code",
   "execution_count": null,
   "id": "3c8f7d7a",
   "metadata": {},
   "outputs": [],
   "source": [
    "fold1_keys = fold1['pdbid'].values"
   ]
  },
  {
   "cell_type": "code",
   "execution_count": null,
   "id": "5c6432ab",
   "metadata": {},
   "outputs": [],
   "source": [
    "final_fold1 = []\n",
    "for key in fold1_keys:\n",
    "    try:\n",
    "        score = full_pdbbind_df[full_pdbbind_df['id'] == key]['pk'].item()\n",
    "        true = fold1[fold1['pdbid'] == key]['affinity'].item()\n",
    "        \n",
    "        final_fold1.append([score, true])\n",
    "    except:\n",
    "        print(key)\n",
    "final_fold1_df = pd.DataFrame(np.array(final_fold1), columns=['Score', 'True'])"
   ]
  },
  {
   "cell_type": "code",
   "execution_count": null,
   "id": "23d0e880",
   "metadata": {},
   "outputs": [],
   "source": [
    "fold2_keys = fold2['pdbid'].values"
   ]
  },
  {
   "cell_type": "code",
   "execution_count": null,
   "id": "0c59e0a0",
   "metadata": {},
   "outputs": [],
   "source": [
    "final_fold2 = []\n",
    "for key in fold2_keys:\n",
    "    try:\n",
    "        score = full_pdbbind_df[full_pdbbind_df['id'] == key]['pk'].item()\n",
    "        true = fold2[fold2['pdbid'] == key]['affinity'].item()\n",
    "        \n",
    "        final_fold2.append([score, true])\n",
    "    except:\n",
    "        print(key)\n",
    "final_fold2_df = pd.DataFrame(np.array(final_fold2), columns=['Score', 'True'])"
   ]
  },
  {
   "cell_type": "code",
   "execution_count": null,
   "id": "f8f2e81c",
   "metadata": {},
   "outputs": [],
   "source": [
    "# final_fold0_df = final_fold0_df[final_fold0_df['Score'] > -20]\n",
    "# final_fold1_df = final_fold1_df[final_fold1_df['Score'] > -20]\n",
    "# final_fold2_df = final_fold2_df[final_fold2_df['Score'] > -20]"
   ]
  },
  {
   "cell_type": "code",
   "execution_count": null,
   "id": "d3fc8242",
   "metadata": {},
   "outputs": [],
   "source": [
    "len(final_fold0_df), len(final_fold1_df), len(final_fold2_df)"
   ]
  },
  {
   "cell_type": "code",
   "execution_count": null,
   "id": "dcab02b1",
   "metadata": {},
   "outputs": [],
   "source": [
    "from sklearn.metrics import mean_squared_error"
   ]
  },
  {
   "cell_type": "code",
   "execution_count": null,
   "id": "6044f327",
   "metadata": {},
   "outputs": [],
   "source": [
    "pearsonr(final_fold0_df['Score'].values, final_fold0_df['True'].values)"
   ]
  },
  {
   "cell_type": "code",
   "execution_count": null,
   "id": "fff16c91",
   "metadata": {},
   "outputs": [],
   "source": [
    "pearsonr(final_fold1_df['Score'].values, final_fold1_df['True'].values)"
   ]
  },
  {
   "cell_type": "code",
   "execution_count": null,
   "id": "05992730",
   "metadata": {},
   "outputs": [],
   "source": [
    "pearsonr(final_fold2_df['Score'].values, final_fold2_df['True'].values)"
   ]
  },
  {
   "cell_type": "code",
   "execution_count": null,
   "id": "b0f94626",
   "metadata": {},
   "outputs": [],
   "source": [
    "math.sqrt(mean_squared_error(final_fold0_df['Score'].values, final_fold0_df['True'].values))"
   ]
  },
  {
   "cell_type": "code",
   "execution_count": null,
   "id": "44f590e2",
   "metadata": {},
   "outputs": [],
   "source": [
    "math.sqrt(mean_squared_error(final_fold1_df['Score'].values, final_fold1_df['True'].values))"
   ]
  },
  {
   "cell_type": "code",
   "execution_count": null,
   "id": "dacb98cf",
   "metadata": {},
   "outputs": [],
   "source": [
    "math.sqrt(mean_squared_error(final_fold2_df['Score'].values, final_fold2_df['True'].values))"
   ]
  },
  {
   "cell_type": "code",
   "execution_count": null,
   "id": "d0423077",
   "metadata": {},
   "outputs": [],
   "source": [
    "sns.regplot(data=final_fold0_df, x='Score', y='True')"
   ]
  },
  {
   "cell_type": "code",
   "execution_count": null,
   "id": "37afcfcd",
   "metadata": {},
   "outputs": [],
   "source": [
    "sns.regplot(data=final_fold1_df, x='Score', y='True')"
   ]
  },
  {
   "cell_type": "code",
   "execution_count": null,
   "id": "3ffb6b3d",
   "metadata": {},
   "outputs": [],
   "source": [
    "sns.regplot(data=final_fold2_df, x='Score', y='True')"
   ]
  },
  {
   "cell_type": "code",
   "execution_count": null,
   "id": "8a61ef4c",
   "metadata": {},
   "outputs": [],
   "source": []
  },
  {
   "cell_type": "code",
   "execution_count": null,
   "id": "cb4e75af",
   "metadata": {},
   "outputs": [],
   "source": []
  },
  {
   "cell_type": "code",
   "execution_count": null,
   "id": "3b4db058",
   "metadata": {},
   "outputs": [],
   "source": []
  },
  {
   "cell_type": "code",
   "execution_count": null,
   "id": "4dcd1ca0",
   "metadata": {},
   "outputs": [],
   "source": []
  },
  {
   "cell_type": "code",
   "execution_count": null,
   "id": "4227ba9d",
   "metadata": {},
   "outputs": [],
   "source": []
  },
  {
   "cell_type": "code",
   "execution_count": null,
   "id": "4fb80d49",
   "metadata": {},
   "outputs": [],
   "source": []
  },
  {
   "cell_type": "code",
   "execution_count": null,
   "id": "00484b76",
   "metadata": {},
   "outputs": [],
   "source": []
  },
  {
   "cell_type": "code",
   "execution_count": null,
   "id": "0ddc1e0b",
   "metadata": {},
   "outputs": [],
   "source": []
  },
  {
   "cell_type": "code",
   "execution_count": null,
   "id": "c9580f7d",
   "metadata": {},
   "outputs": [],
   "source": []
  },
  {
   "cell_type": "code",
   "execution_count": null,
   "id": "c99274a1",
   "metadata": {},
   "outputs": [],
   "source": []
  }
 ],
 "metadata": {
  "kernelspec": {
   "display_name": "Python 3",
   "language": "python",
   "name": "python3"
  },
  "language_info": {
   "codemirror_mode": {
    "name": "ipython",
    "version": 3
   },
   "file_extension": ".py",
   "mimetype": "text/x-python",
   "name": "python",
   "nbconvert_exporter": "python",
   "pygments_lexer": "ipython3",
   "version": "3.6.15"
  }
 },
 "nbformat": 4,
 "nbformat_minor": 5
}
