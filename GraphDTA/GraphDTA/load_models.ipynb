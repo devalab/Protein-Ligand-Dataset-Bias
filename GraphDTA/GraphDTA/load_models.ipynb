{
 "cells": [
  {
   "cell_type": "code",
   "execution_count": 1,
   "id": "de6be59c",
   "metadata": {},
   "outputs": [],
   "source": [
    "import numpy as np\n",
    "import pandas as pd\n",
    "import sys\n",
    "import os\n",
    "from random import shuffle\n",
    "import torch\n",
    "import torch.nn as nn\n",
    "from models.gat import GATNet\n",
    "from models.gat_gcn import GAT_GCN\n",
    "from models.gcn import GCNNet\n",
    "from models.ginconv import GINConvNet\n",
    "from utils import *"
   ]
  },
  {
   "cell_type": "code",
   "execution_count": 2,
   "id": "c4a16d1b",
   "metadata": {},
   "outputs": [],
   "source": [
    "def predicting(model, device, loader):\n",
    "    model.eval()\n",
    "    total_preds = torch.Tensor()\n",
    "    total_labels = torch.Tensor()\n",
    "    print('Make prediction for {} samples...'.format(len(loader.dataset)))\n",
    "    with torch.no_grad():\n",
    "        for data in loader:\n",
    "            data = data.to(device)\n",
    "            output = model(data)\n",
    "            total_preds = torch.cat((total_preds, output.cpu()), 0)\n",
    "            total_labels = torch.cat(\n",
    "                (total_labels, data.y.view(-1, 1).cpu()), 0)\n",
    "    return total_labels.numpy().flatten(), total_preds.numpy().flatten()\n"
   ]
  },
  {
   "cell_type": "code",
   "execution_count": 3,
   "id": "6065d4b1",
   "metadata": {},
   "outputs": [],
   "source": [
    "# datasets=[['davis', 'kiba'][0]]"
   ]
  },
  {
   "cell_type": "code",
   "execution_count": 4,
   "id": "208ba7f1",
   "metadata": {},
   "outputs": [],
   "source": [
    "modeling = [GINConvNet, GATNet, GAT_GCN, GCNNet][0]\n",
    "model_st = modeling.__name__"
   ]
  },
  {
   "cell_type": "code",
   "execution_count": 5,
   "id": "3a028616",
   "metadata": {},
   "outputs": [],
   "source": [
    "cuda_name = \"cuda:0\""
   ]
  },
  {
   "cell_type": "code",
   "execution_count": 6,
   "id": "8e99bd08",
   "metadata": {},
   "outputs": [],
   "source": [
    "TRAIN_BATCH_SIZE = 512\n",
    "TEST_BATCH_SIZE = 512\n",
    "LR = 0.0005\n",
    "LOG_INTERVAL = 20\n",
    "NUM_EPOCHS = 1000"
   ]
  },
  {
   "cell_type": "code",
   "execution_count": 7,
   "id": "532a1307",
   "metadata": {},
   "outputs": [],
   "source": [
    "dataset = 'davis'"
   ]
  },
  {
   "cell_type": "code",
   "execution_count": 8,
   "id": "101bf3b5",
   "metadata": {},
   "outputs": [
    {
     "name": "stdout",
     "output_type": "stream",
     "text": [
      "Pre-processed data found: data/processed/davis_train.pt, loading ...\n",
      "Pre-processed data found: data/processed/davis_test.pt, loading ...\n"
     ]
    }
   ],
   "source": [
    "train_data = TestbedDataset(root='data', dataset=dataset+'_train')\n",
    "test_data = TestbedDataset(root='data', dataset=dataset+'_test')"
   ]
  },
  {
   "cell_type": "code",
   "execution_count": 9,
   "id": "61572a41",
   "metadata": {},
   "outputs": [],
   "source": [
    "# if training_validation.py is being used\n",
    "train_size = int(0.8 * len(train_data))\n",
    "valid_size = len(train_data) - train_size\n",
    "train_data, valid_data = torch.utils.data.random_split(train_data, [train_size, valid_size])        \n",
    "\n",
    "\n",
    "# make data PyTorch mini-batch processing ready\n",
    "train_loader = DataLoader(train_data, batch_size=TRAIN_BATCH_SIZE, shuffle=True)\n",
    "valid_loader = DataLoader(valid_data, batch_size=TEST_BATCH_SIZE, shuffle=False)\n",
    "test_loader = DataLoader(test_data, batch_size=TEST_BATCH_SIZE, shuffle=False)"
   ]
  },
  {
   "cell_type": "code",
   "execution_count": null,
   "id": "de7e1411",
   "metadata": {},
   "outputs": [],
   "source": []
  },
  {
   "cell_type": "code",
   "execution_count": 10,
   "id": "d26f3d3a",
   "metadata": {},
   "outputs": [],
   "source": [
    "# train_loader = DataLoader(\n",
    "#             train_data, batch_size=TRAIN_BATCH_SIZE, shuffle=True)\n",
    "# test_loader = DataLoader(\n",
    "#     test_data, batch_size=TEST_BATCH_SIZE, shuffle=False)"
   ]
  },
  {
   "cell_type": "code",
   "execution_count": 11,
   "id": "bd60cd2d",
   "metadata": {},
   "outputs": [],
   "source": [
    "device = torch.device( cuda_name if torch.cuda.is_available() else \"cpu\")\n",
    "model = modeling().to(device)"
   ]
  },
  {
   "cell_type": "code",
   "execution_count": 12,
   "id": "edab5b70",
   "metadata": {},
   "outputs": [
    {
     "data": {
      "text/plain": [
       "<All keys matched successfully>"
      ]
     },
     "execution_count": 12,
     "metadata": {},
     "output_type": "execute_result"
    }
   ],
   "source": [
    "model.load_state_dict(torch.load('./NEW_FOLD_RESULTS/model_GINConvNet_davis99.model'))"
   ]
  },
  {
   "cell_type": "code",
   "execution_count": 13,
   "id": "c0b290eb",
   "metadata": {},
   "outputs": [
    {
     "name": "stdout",
     "output_type": "stream",
     "text": [
      "Make prediction for 5010 samples...\n"
     ]
    }
   ],
   "source": [
    "G,P = predicting(model, device, test_loader)"
   ]
  },
  {
   "cell_type": "code",
   "execution_count": 14,
   "id": "c030aef0",
   "metadata": {},
   "outputs": [],
   "source": [
    "# len(train_data)"
   ]
  },
  {
   "cell_type": "code",
   "execution_count": 15,
   "id": "7080714d",
   "metadata": {},
   "outputs": [],
   "source": [
    "ret = [rmse(G, P), mse(G, P), pearson(G, P), spearman(G, P), ci(G, P)]"
   ]
  },
  {
   "cell_type": "code",
   "execution_count": 16,
   "id": "c6811f0b",
   "metadata": {},
   "outputs": [
    {
     "data": {
      "text/plain": [
       "[0.6021559376702689,\n",
       " 0.36259177,\n",
       " 0.797512231043664,\n",
       " 0.6666758781324954,\n",
       " 0.8675362776522862]"
      ]
     },
     "execution_count": 16,
     "metadata": {},
     "output_type": "execute_result"
    }
   ],
   "source": [
    "ret"
   ]
  },
  {
   "cell_type": "code",
   "execution_count": null,
   "id": "88a34fa4",
   "metadata": {},
   "outputs": [],
   "source": [
    "R2,CI,RMSE,MSE = ret[2], ret[4], ret[0], ret[1]"
   ]
  },
  {
   "cell_type": "code",
   "execution_count": null,
   "id": "084c72f9",
   "metadata": {},
   "outputs": [],
   "source": [
    "print(R2,CI,RMSE,MSE)"
   ]
  },
  {
   "cell_type": "code",
   "execution_count": null,
   "id": "b4cd8ea8",
   "metadata": {},
   "outputs": [],
   "source": [
    "print(pearson(G,P),ci(G,P),rmse(G,P),mse(G,P))"
   ]
  },
  {
   "cell_type": "code",
   "execution_count": null,
   "id": "301c6440",
   "metadata": {},
   "outputs": [],
   "source": []
  },
  {
   "cell_type": "code",
   "execution_count": null,
   "id": "62a04618",
   "metadata": {},
   "outputs": [],
   "source": [
    "import matplotlib.pyplot as plt\n",
    "plt.figure(figsize=(10, 10))\n",
    "plt.title('GraphDTA Davis FOLD00',fontsize=20)\n",
    "plt.xticks(fontsize=15)\n",
    "plt.yticks(fontsize=15)\n",
    "# plt.locator_params(axis=\"x\", nbins=15)\n",
    "# plt.locator_params(axis=\"y\", nbins=15)\n",
    "plt.xlabel('ground truth',fontsize='20')\n",
    "plt.ylabel('predictions', fontsize='20')\n",
    "plt.plot(G,P,'.')\n",
    "# plt.plot(predictions_combined,predictions_ligand_only,'.')\n",
    "plt.plot([5,10],[5,10])\n",
    "plt.grid()"
   ]
  },
  {
   "cell_type": "code",
   "execution_count": null,
   "id": "6c92dde4",
   "metadata": {},
   "outputs": [],
   "source": []
  },
  {
   "cell_type": "code",
   "execution_count": null,
   "id": "52c91a85",
   "metadata": {},
   "outputs": [],
   "source": []
  },
  {
   "cell_type": "code",
   "execution_count": null,
   "id": "5465ae28",
   "metadata": {},
   "outputs": [],
   "source": []
  },
  {
   "cell_type": "code",
   "execution_count": null,
   "id": "722c2388",
   "metadata": {},
   "outputs": [],
   "source": []
  },
  {
   "cell_type": "code",
   "execution_count": null,
   "id": "c5bca30a",
   "metadata": {},
   "outputs": [],
   "source": []
  },
  {
   "cell_type": "code",
   "execution_count": null,
   "id": "37c32920",
   "metadata": {},
   "outputs": [],
   "source": []
  }
 ],
 "metadata": {
  "kernelspec": {
   "display_name": "Python 3 (ipykernel)",
   "language": "python",
   "name": "python3"
  },
  "language_info": {
   "codemirror_mode": {
    "name": "ipython",
    "version": 3
   },
   "file_extension": ".py",
   "mimetype": "text/x-python",
   "name": "python",
   "nbconvert_exporter": "python",
   "pygments_lexer": "ipython3",
   "version": "3.9.6"
  }
 },
 "nbformat": 4,
 "nbformat_minor": 5
}
