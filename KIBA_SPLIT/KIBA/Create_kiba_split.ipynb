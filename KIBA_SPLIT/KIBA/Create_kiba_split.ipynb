{
 "cells": [
  {
   "cell_type": "code",
   "execution_count": 1,
   "id": "1cdd5938",
   "metadata": {
    "collapsed": true
   },
   "outputs": [],
   "source": [
    "import json\n",
    "f = open('./target_seq.txt')\n",
    "target_seqs = json.load(f)\n",
    "f.close()\n",
    "g= open('./SMILES.txt')\n",
    "smiles = json.load(g)\n",
    "g.close()"
   ]
  },
  {
   "cell_type": "code",
   "execution_count": 2,
   "id": "abcf68ea",
   "metadata": {
    "collapsed": true
   },
   "outputs": [],
   "source": [
    "from Bio.PDB.PDBParser import PDBParser\n",
    "from Bio.PDB.Polypeptide import three_to_one\n",
    "from Bio.PDB.Polypeptide import is_aa\n",
    "from Bio import pairwise2\n",
    "from multiprocessing import Pool, cpu_count\n",
    "from functools import partial\n",
    "import scipy.cluster.hierarchy\n",
    "import numpy as np\n",
    "import sys\n",
    "import argparse\n",
    "import bisect\n",
    "import re\n",
    "import os\n",
    "import fnmatch\n",
    "import pickle\n",
    "import collections\n",
    "from rdkit.Chem import AllChem as Chem\n",
    "from rdkit.Chem import AllChem\n",
    "from rdkit.DataStructs import FingerprintSimilarity as fs\n",
    "from rdkit.Chem.Fingerprints import FingerprintMols\n",
    "import rdkit"
   ]
  },
  {
   "cell_type": "code",
   "execution_count": 3,
   "id": "f094dc5e",
   "metadata": {
    "collapsed": true
   },
   "outputs": [],
   "source": [
    "def calcDistanceMatrix(targets):\n",
    "    '''compute full pairwise target distance matrix in parallel'''\n",
    "    n = len(targets)\n",
    "    pairs = [(r, c) for r in range(n) for c in range(r+1, n)]  # upper triangle\n",
    "#     print(\"list of pairs\", pairs)\n",
    "\n",
    "    pool = Pool()\n",
    "    function = partial(cUTDM2, targets)\n",
    "    distanceTuples = pool.map(function, pairs)\n",
    "    distanceMatrix = np.zeros((n, n))\n",
    "    for (a, b, distance) in distanceTuples:\n",
    "        distanceMatrix[a][b] = distanceMatrix[b][a] = distance\n",
    "    \n",
    "    print(\"dist mat done\")\n",
    "    return distanceMatrix\n"
   ]
  },
  {
   "cell_type": "code",
   "execution_count": 4,
   "id": "81fc7aff",
   "metadata": {
    "collapsed": true
   },
   "outputs": [],
   "source": [
    "def cUTDM2(targets, pair):\n",
    "    '''compute distance between target pair'''\n",
    "    (a, b) = pair\n",
    "#     print(\"pair\", pair)\n",
    "\n",
    "    mindist = 1.0\n",
    "    for seq1 in targets[a]:\n",
    "        for seq2 in targets[b]:\n",
    "            score = pairwise2.align.globalxx(seq1, seq2, score_only=True)\n",
    "            length = max(len(seq1), len(seq2))\n",
    "            distance = (length-score)/length\n",
    "            if distance < mindist:\n",
    "                mindist = distance\n",
    "#     print(a, b, mindist)\n",
    "    return (a, b, mindist)"
   ]
  },
  {
   "cell_type": "code",
   "execution_count": 5,
   "id": "012e485b",
   "metadata": {
    "collapsed": true
   },
   "outputs": [],
   "source": [
    "def get_targets_only():\n",
    "    targets = []\n",
    "    target_names= []\n",
    "    for t in target_seqs:\n",
    "        target_names.append(t)\n",
    "        targets.append(target_seqs[t])\n",
    "    targets = np.reshape(targets, (len(targets), 1))\n",
    "    return target_names, targets"
   ]
  },
  {
   "cell_type": "code",
   "execution_count": 6,
   "id": "c4b44b0a",
   "metadata": {
    "collapsed": true
   },
   "outputs": [],
   "source": [
    "target_names, targets = get_targets_only()"
   ]
  },
  {
   "cell_type": "markdown",
   "id": "9d33af1f",
   "metadata": {},
   "source": [
    "# Making distance matrix"
   ]
  },
  {
   "cell_type": "code",
   "execution_count": 9,
   "id": "c7f09a17",
   "metadata": {
    "collapsed": true
   },
   "outputs": [
    {
     "name": "stdout",
     "output_type": "stream",
     "text": [
      "dist mat done\n"
     ]
    }
   ],
   "source": [
    "distanceMatrix = calcDistanceMatrix(targets)"
   ]
  },
  {
   "cell_type": "code",
   "execution_count": 10,
   "id": "bedf7270",
   "metadata": {
    "collapsed": true
   },
   "outputs": [
    {
     "data": {
      "text/plain": [
       "(229, 229)"
      ]
     },
     "execution_count": 10,
     "metadata": {},
     "output_type": "execute_result"
    }
   ],
   "source": [
    "np.shape(distanceMatrix)"
   ]
  },
  {
   "cell_type": "code",
   "execution_count": 11,
   "id": "d0209e0f",
   "metadata": {
    "collapsed": true
   },
   "outputs": [],
   "source": [
    "def newcomputeLigandSimilarity():\n",
    "    \n",
    "    fingerprints = dict()\n",
    "    for smile in smiles:\n",
    "        drug_name =smile\n",
    "        smi = smiles[smile]\n",
    "        mol = AllChem.MolFromSmiles(smi)\n",
    "        if mol == None:\n",
    "            mol = AllChem.MolFromSmiles(smi, sanitize=False)\n",
    "        fp = FingerprintMols.FingerprintMol(mol)\n",
    "        fingerprints[smile] = fp\n",
    "    n = len(smiles)\n",
    "    drug_names = list(smiles.keys())\n",
    "    sims = np.zeros((n, n))\n",
    "    for i in range(n):\n",
    "        for j in range(i+1):\n",
    "            fpi = fingerprints[drug_names[i]]\n",
    "            fpj = fingerprints[drug_names[j]]\n",
    "            sim = fs(fpi, fpj)\n",
    "            sims[i, j] = sims[j, i] = sim\n",
    "    return sims, fingerprints"
   ]
  },
  {
   "cell_type": "code",
   "execution_count": 12,
   "id": "f2b1635f",
   "metadata": {
    "collapsed": true
   },
   "outputs": [],
   "source": [
    "similarityMatrix, fp= newcomputeLigandSimilarity()"
   ]
  },
  {
   "cell_type": "code",
   "execution_count": 13,
   "id": "990fb53c",
   "metadata": {
    "collapsed": true
   },
   "outputs": [
    {
     "data": {
      "text/plain": [
       "(2111, 2111)"
      ]
     },
     "execution_count": 13,
     "metadata": {},
     "output_type": "execute_result"
    }
   ],
   "source": [
    "ligandsim = similarityMatrix\n",
    "np.shape(ligandsim)"
   ]
  },
  {
   "cell_type": "code",
   "execution_count": 14,
   "id": "bd1bb130",
   "metadata": {
    "collapsed": true
   },
   "outputs": [],
   "source": [
    "def get_target_lines(file):\n",
    "    file = open(file, 'r')\n",
    "    lines = file.readlines()\n",
    "    ret = collections.defaultdict(list)\n",
    "    \n",
    "    for line in lines:\n",
    "        x = line.split()\n",
    "        targ = x[0]\n",
    "        ret[targ].append(line)\n",
    "\n",
    "    return ret"
   ]
  },
  {
   "cell_type": "code",
   "execution_count": 15,
   "id": "b3109e9f",
   "metadata": {
    "collapsed": true
   },
   "outputs": [],
   "source": [
    "target_lines = get_target_lines('og_kiba_fname.txt')"
   ]
  },
  {
   "cell_type": "code",
   "execution_count": 16,
   "id": "67b100cd",
   "metadata": {
    "collapsed": true
   },
   "outputs": [],
   "source": [
    "all_pairs=[]\n",
    "f = open('./og_kiba_fname.txt')\n",
    "lines = f.readlines()\n",
    "c = 0\n",
    "for line in lines:\n",
    "    l = line.split()\n",
    "    all_pairs.append([c,l[0],l[1]])\n",
    "    c= c+1"
   ]
  },
  {
   "cell_type": "code",
   "execution_count": 17,
   "id": "fd82ee23",
   "metadata": {
    "collapsed": true
   },
   "outputs": [],
   "source": [
    "similarity = 0.5\n",
    "similarity_with_similar_ligand = 0.4\n",
    "ligand_similarity = 0.9\n",
    "threshold = 1 - similarity  # similarity and distance are complementary\n",
    "threshold2 = 1 - similarity_with_similar_ligand\n",
    "ligand_threshold =ligand_similarity"
   ]
  },
  {
   "cell_type": "code",
   "execution_count": 21,
   "id": "424b5fcf",
   "metadata": {
    "collapsed": true
   },
   "outputs": [],
   "source": [
    "\n",
    "def calcClusterGroups(dists, ligandsim, target_names, t, t2, ligandt, all_pairs):\n",
    "    '''dists is a distance matrix (full) for target_names'''\n",
    "    assigned = set()\n",
    "    groups = []\n",
    "    for i in range(dists.shape[0]):\n",
    "        \n",
    "        if i not in assigned:\n",
    "            group = assignGroup(dists, ligandsim, t, t2,\n",
    "                                ligandt, set([i]), target_names)\n",
    "            groups.append(group)\n",
    "            assigned.update(group)\n",
    "    return [set(target_names[i] for i in g) for g in groups]\n",
    "\n",
    "\n",
    "def assignGroup(dists, ligandsim, t, t2, ligandt, explore, names):\n",
    "    '''group targets that are less than t away from each other and what's in explore'''\n",
    "    group = set(explore)\n",
    "    while explore:\n",
    "        frontier = set()\n",
    "        for i in explore:\n",
    "            for j in range(dists.shape[1]):\n",
    "                if j not in group:\n",
    "                    # add to the group if protein is close by threshold t (these are distances - default 0.5)\n",
    "                    # also add if the ligands are more similar (not distance) than ligandt and\n",
    "                    # the protein is closer than t2 (default 0.8 - meaning more than 20% similar)\n",
    "                    if dists[i][j] < t: # or (ligandsim[i][j] > ligandt and dists[i][j] < t2):\n",
    "                        group.add(j)\n",
    "                        frontier.add(j)\n",
    "\n",
    "        explore = frontier\n",
    "    return group"
   ]
  },
  {
   "cell_type": "code",
   "execution_count": 22,
   "id": "6bf48999",
   "metadata": {
    "collapsed": true
   },
   "outputs": [],
   "source": [
    "cluster_groups = calcClusterGroups(\n",
    "            distanceMatrix, ligandsim, target_names, threshold, threshold2, ligand_threshold, all_pairs)"
   ]
  },
  {
   "cell_type": "code",
   "execution_count": 23,
   "id": "57810596",
   "metadata": {
    "collapsed": true
   },
   "outputs": [
    {
     "data": {
      "text/plain": [
       "[{'O00141', 'Q9HBY8'},\n",
       " {'O00311'},\n",
       " {'O00329', 'P42338'},\n",
       " {'O00418'},\n",
       " {'O00444'},\n",
       " {'O14757'},\n",
       " {'O14920', 'O15111'},\n",
       " {'O14965', 'Q96GD4'},\n",
       " {'O15075'},\n",
       " {'O15264', 'P27361', 'P28482', 'P53778', 'Q15759', 'Q16539'},\n",
       " {'O15530'},\n",
       " {'O43293'},\n",
       " {'O43741', 'Q9Y478'},\n",
       " {'O43781'},\n",
       " {'O60285'},\n",
       " {'O60674', 'P23458', 'P29597', 'P52333'},\n",
       " {'O75116', 'Q13464'},\n",
       " {'O75582', 'O75676'},\n",
       " {'O94806', 'Q15139', 'Q9BZL6'},\n",
       " {'O95819', 'Q8N4C8'},\n",
       " {'O96013'},\n",
       " {'O96017'},\n",
       " {'P00519', 'P42684'},\n",
       " {'P00533', 'P04626', 'Q15303'},\n",
       " {'P04049', 'P15056'},\n",
       " {'P04629', 'Q16288', 'Q16620'},\n",
       " {'P05129', 'P05771', 'P17252', 'P24723', 'Q02156', 'Q04759', 'Q05655'},\n",
       " {'P06213', 'P08069'},\n",
       " {'P06239',\n",
       "  'P06241',\n",
       "  'P07947',\n",
       "  'P07948',\n",
       "  'P08631',\n",
       "  'P09769',\n",
       "  'P12931',\n",
       "  'P42685',\n",
       "  'P51451'},\n",
       " {'P06493', 'P11802', 'P24941', 'Q00534', 'Q00535'},\n",
       " {'P07332', 'P16591'},\n",
       " {'P07333', 'P10721'},\n",
       " {'P07949'},\n",
       " {'P08581'},\n",
       " {'P08922'},\n",
       " {'P09619', 'P16234'},\n",
       " {'P11309', 'Q86V86', 'Q9P1W9'},\n",
       " {'P11362', 'P21802', 'P22455', 'P22607'},\n",
       " {'P15735'},\n",
       " {'P17612', 'P22612', 'P22694', 'P51817'},\n",
       " {'P17948', 'P35916', 'P35968'},\n",
       " {'P19784', 'P68400'},\n",
       " {'P23443', 'Q9UBS0'},\n",
       " {'P27448', 'Q7KZI7', 'Q96L34'},\n",
       " {'P29317', 'P29323', 'P54760'},\n",
       " {'P29376'},\n",
       " {'P30291'},\n",
       " {'P30530', 'Q06418'},\n",
       " {'P31749', 'P31751', 'Q9Y243'},\n",
       " {'P34947'},\n",
       " {'P36507', 'Q02750'},\n",
       " {'P36888'},\n",
       " {'P41240', 'P42679'},\n",
       " {'P41279'},\n",
       " {'P41743', 'Q05513'},\n",
       " {'P42336'},\n",
       " {'P42345'},\n",
       " {'P43403', 'P43405'},\n",
       " {'P45983', 'P45984', 'P53779'},\n",
       " {'P48729', 'P48730', 'P49674', 'P78368', 'Q9HCP0', 'Q9Y6M4'},\n",
       " {'P48736'},\n",
       " {'P49137', 'Q16644'},\n",
       " {'P49336', 'Q9BWU1'},\n",
       " {'P49759', 'P49760', 'Q9HAZ1'},\n",
       " {'P49840', 'P49841'},\n",
       " {'P50613'},\n",
       " {'P50750'},\n",
       " {'P51617'},\n",
       " {'P51812', 'Q15418'},\n",
       " {'P51813', 'Q06187', 'Q08881'},\n",
       " {'P51955'},\n",
       " {'P51957'},\n",
       " {'P52564'},\n",
       " {'P53350'},\n",
       " {'P53667'},\n",
       " {'P54619'},\n",
       " {'P54646', 'Q13131'},\n",
       " {'P67870'},\n",
       " {'P78527'},\n",
       " {'P80192', 'Q02779', 'Q16584'},\n",
       " {'Q02763'},\n",
       " {'Q04771'},\n",
       " {'Q04912'},\n",
       " {'Q05397', 'Q14289'},\n",
       " {'Q07912'},\n",
       " {'Q12851', 'Q9Y4K4'},\n",
       " {'Q12866'},\n",
       " {'Q13153', 'Q13177'},\n",
       " {'Q13188'},\n",
       " {'Q13237', 'Q13976'},\n",
       " {'Q13554', 'Q13555', 'Q13557', 'Q9UQM7'},\n",
       " {'Q13627', 'Q9Y463'},\n",
       " {'Q13882'},\n",
       " {'Q14012', 'Q8IU85'},\n",
       " {'Q14164', 'Q9UHD2'},\n",
       " {'Q14680'},\n",
       " {'Q15078'},\n",
       " {'Q15118'},\n",
       " {'Q16512', 'Q16513'},\n",
       " {'Q16566'},\n",
       " {'Q5S007'},\n",
       " {'Q5VT25'},\n",
       " {'Q7L7X3'},\n",
       " {'Q8IW41'},\n",
       " {'Q8NE63'},\n",
       " {'Q8TDC3'},\n",
       " {'Q96KB5'},\n",
       " {'Q96PF2', 'Q9BXA7'},\n",
       " {'Q96RG2'},\n",
       " {'Q96RR4'},\n",
       " {'Q96SB4'},\n",
       " {'Q99683'},\n",
       " {'Q9BUB5', 'Q9HBH9'},\n",
       " {'Q9H0K1'},\n",
       " {'Q9H2G2'},\n",
       " {'Q9H2X6'},\n",
       " {'Q9H3Y6'},\n",
       " {'Q9H4B4'},\n",
       " {'Q9HC98'},\n",
       " {'Q9NR20'},\n",
       " {'Q9NWZ3'},\n",
       " {'Q9NYL2'},\n",
       " {'Q9P289'},\n",
       " {'Q9UBE8'},\n",
       " {'Q9UBF8'},\n",
       " {'Q9UEE5'},\n",
       " {'Q9UGI9', 'Q9UGJ0'},\n",
       " {'Q9UM73'}]"
      ]
     },
     "execution_count": 23,
     "metadata": {},
     "output_type": "execute_result"
    }
   ],
   "source": [
    "cluster_groups"
   ]
  },
  {
   "cell_type": "code",
   "execution_count": 24,
   "id": "de0b3695",
   "metadata": {
    "collapsed": true
   },
   "outputs": [
    {
     "data": {
      "text/plain": [
       "128"
      ]
     },
     "execution_count": 24,
     "metadata": {},
     "output_type": "execute_result"
    }
   ],
   "source": [
    "len(cluster_groups)"
   ]
  },
  {
   "cell_type": "code",
   "execution_count": 29,
   "id": "31b12d2c",
   "metadata": {
    "collapsed": true
   },
   "outputs": [],
   "source": [
    "all_pairs_dict ={}\n",
    "for t in target_seqs:\n",
    "    all_pairs_dict.update({t:[]})\n",
    "for i in all_pairs:\n",
    "    t_n=i[1]\n",
    "    smi =i[2]\n",
    "    all_pairs_dict[t_n].append(smi)"
   ]
  },
  {
   "cell_type": "code",
   "execution_count": 30,
   "id": "a084b44a",
   "metadata": {
    "collapsed": true
   },
   "outputs": [],
   "source": [
    "# all_pairs_dict"
   ]
  },
  {
   "cell_type": "code",
   "execution_count": 33,
   "id": "9e5d3434",
   "metadata": {
    "collapsed": true
   },
   "outputs": [
    {
     "data": {
      "text/plain": [
       "({'O00311'}, {'O00141', 'Q9HBY8'})"
      ]
     },
     "execution_count": 33,
     "metadata": {},
     "output_type": "execute_result"
    }
   ],
   "source": [
    "a,b = cluster_groups[1], cluster_groups[0]\n",
    "a,b"
   ]
  },
  {
   "cell_type": "code",
   "execution_count": 34,
   "id": "4859bbbe",
   "metadata": {
    "collapsed": true
   },
   "outputs": [
    {
     "data": {
      "text/plain": [
       "False"
      ]
     },
     "execution_count": 34,
     "metadata": {},
     "output_type": "execute_result"
    }
   ],
   "source": [
    "try_merge(a,b)"
   ]
  },
  {
   "cell_type": "code",
   "execution_count": 26,
   "id": "5d77397b",
   "metadata": {
    "collapsed": true
   },
   "outputs": [],
   "source": [
    "target_seq_index ={}\n",
    "c = 0\n",
    "for t in target_seqs:\n",
    "    target_seq_index.update({t:c})\n",
    "    c = c +1\n",
    "smiles_Seq_index={}\n",
    "smiles_list= list(smiles.values())\n",
    "for i in smiles:\n",
    "    smiles_Seq_index.update({smiles[i]:smiles_list.index(smiles[i])})"
   ]
  },
  {
   "cell_type": "code",
   "execution_count": 35,
   "id": "2eca56c9",
   "metadata": {
    "collapsed": true
   },
   "outputs": [],
   "source": [
    "def try_merge(set1, set2):\n",
    "    global distanceMatrix\n",
    "    global all_pairs_dict\n",
    "    global ligandsim\n",
    "    new_set=set()\n",
    "    for t1 in set1:\n",
    "        for t2 in set2:\n",
    "            t1_i = target_seq_index[t1]\n",
    "            t2_i = target_seq_index[t2]\n",
    "            \n",
    "            if distanceMatrix[t1_i][t2_i] < 0.6:\n",
    "                for lig1 in all_pairs_dict[t1]:\n",
    "                    for lig2 in all_pairs_dict[t2]: \n",
    "\n",
    "                        l1_i=smiles_Seq_index[lig1]\n",
    "                        l2_i =smiles_Seq_index[lig2]\n",
    "\n",
    "                        if ligandsim[l1_i][l2_i]> 0.9:\n",
    "                            new_set.update(set1)\n",
    "                            new_set.update(set2)\n",
    "\n",
    "                            return new_set\n",
    "    return False\n",
    "\n"
   ]
  },
  {
   "cell_type": "code",
   "execution_count": 36,
   "id": "5ecbeebe",
   "metadata": {
    "collapsed": true
   },
   "outputs": [],
   "source": [
    "cluster_index={}\n",
    "c=0\n",
    "for i in cluster_groups:\n",
    "    cluster_index.update({c:i})\n",
    "    c= c +1\n",
    "    \n",
    "cluster_mat = np.zeros((len(cluster_groups), len(cluster_groups)))\n",
    "for i in range(len(cluster_groups)):\n",
    "    for j in range(len(cluster_groups)):\n",
    "        if i != j:\n",
    "            if try_merge(cluster_groups[i],cluster_groups[j]):\n",
    "                cluster_mat[i][j] = cluster_mat[j][i] = 1"
   ]
  },
  {
   "cell_type": "code",
   "execution_count": 37,
   "id": "92725ce6",
   "metadata": {
    "collapsed": true
   },
   "outputs": [
    {
     "data": {
      "text/plain": [
       "array([[0., 0., 0., ..., 1., 0., 0.],\n",
       "       [0., 0., 0., ..., 0., 0., 0.],\n",
       "       [0., 0., 0., ..., 0., 0., 0.],\n",
       "       ...,\n",
       "       [1., 0., 0., ..., 0., 0., 0.],\n",
       "       [0., 0., 0., ..., 0., 0., 0.],\n",
       "       [0., 0., 0., ..., 0., 0., 0.]])"
      ]
     },
     "execution_count": 37,
     "metadata": {},
     "output_type": "execute_result"
    }
   ],
   "source": [
    "cluster_mat"
   ]
  },
  {
   "cell_type": "code",
   "execution_count": 38,
   "id": "3e1f2739",
   "metadata": {
    "collapsed": true
   },
   "outputs": [],
   "source": [
    "cluster_hash=np.zeros(len(cluster_groups))\n",
    "final_cluster_grps = []\n",
    "\n",
    "assigned = set() # should contain the indices of the assigned clusters\n",
    "groups = []\n",
    "for i in range(len(cluster_groups)):\n",
    "    cluster = set(cluster_groups[i])\n",
    "    if i not in assigned:\n",
    "        explore = set([i])\n",
    "        group = set(explore)\n",
    "        while explore:\n",
    "            frontier = set()\n",
    "            for i in explore:\n",
    "                for j in range(len(cluster_groups)):\n",
    "                    if j not in group:\n",
    "                        boolean = try_merge(cluster_groups[i], cluster_groups[j])\n",
    "                        if boolean:\n",
    "#                             print(boolean)\n",
    "                            group.add(j)\n",
    "                            frontier.add(j)\n",
    "            explore = frontier\n",
    "        \n",
    "        groups.append(group)\n",
    "        assigned.update(group)\n",
    "\n",
    "# final_clusters = [set(cluster_groups[i] for i in g) for g in groups]\n"
   ]
  },
  {
   "cell_type": "code",
   "execution_count": 44,
   "id": "01eb75ef",
   "metadata": {
    "collapsed": true
   },
   "outputs": [],
   "source": [
    "# groups[0]"
   ]
  },
  {
   "cell_type": "code",
   "execution_count": 46,
   "id": "bfa75d3a",
   "metadata": {
    "collapsed": true
   },
   "outputs": [],
   "source": [
    "final_clusters=[]\n",
    "for grp in groups:\n",
    "    new_set = set()\n",
    "    for i in grp:\n",
    "        new_set.update(cluster_groups[i])\n",
    "    final_clusters.append(new_set)"
   ]
  },
  {
   "cell_type": "code",
   "execution_count": 50,
   "id": "dc76ee36",
   "metadata": {},
   "outputs": [
    {
     "data": {
      "text/plain": [
       "229"
      ]
     },
     "execution_count": 50,
     "metadata": {},
     "output_type": "execute_result"
    }
   ],
   "source": [
    "l=0\n",
    "for i in final_clusters:\n",
    "    l = l + len(i)\n",
    "l"
   ]
  },
  {
   "cell_type": "code",
   "execution_count": 49,
   "id": "fe4d26e6",
   "metadata": {},
   "outputs": [],
   "source": [
    "# final_clusters"
   ]
  },
  {
   "cell_type": "code",
   "execution_count": 51,
   "id": "9e07b900",
   "metadata": {},
   "outputs": [],
   "source": [
    "def createFolds(cluster_groups, numfolds, target_lines, randomize):\n",
    "    '''split target clusters into numfolds folds with balanced num poses per fold\n",
    "       If randomize, will balance less well.\n",
    "    '''\n",
    "    folds = [[] for _ in range(numfolds)]\n",
    "    fold_numposes = [0]*numfolds\n",
    "    group_numposes = [0]*len(cluster_groups)\n",
    "    foldmap = {}\n",
    "    for i, group in enumerate(cluster_groups):\n",
    "        # count num poses per group\n",
    "        for target in group:\n",
    "            group_numposes[i] += len(target_lines[target])\n",
    "    for _ in cluster_groups:\n",
    "        # iteratively assign group with most poses to fold with fewest poses\n",
    "        maxgroup = group_numposes.index(np.max(group_numposes))\n",
    "        if randomize:\n",
    "            space = np.max(fold_numposes) - np.array(fold_numposes)\n",
    "            tot = np.sum(space)\n",
    "            if tot == 0:\n",
    "                minfold = np.random.choice(numfolds)\n",
    "            else:  # weighted selection, prefer spots with more free space\n",
    "                choice = np.random.choice(tot)\n",
    "                tot = 0\n",
    "                for i in range(len(space)):\n",
    "                    tot += space[i]\n",
    "                    if choice < tot:\n",
    "                        minfold = i\n",
    "                        break\n",
    "        else:\n",
    "            minfold = fold_numposes.index(np.min(fold_numposes))\n",
    "        folds[minfold].extend(cluster_groups[maxgroup])\n",
    "        fold_numposes[minfold] += group_numposes[maxgroup]\n",
    "        group_numposes[maxgroup] = -1\n",
    "        for t in cluster_groups[maxgroup]:\n",
    "            foldmap[t] = minfold\n",
    "    print('Poses per fold: {}'.format(fold_numposes))\n",
    "    for f in folds:\n",
    "        f.sort()\n",
    "    return folds, foldmap\n",
    "\n",
    "def index(a, x):\n",
    "    'Locate the leftmost value exactly equal to x'\n",
    "    i = bisect.bisect_left(a, x)\n",
    "    if i != len(a) and a[i] == x:\n",
    "        return i\n",
    "    else:\n",
    "        return -1"
   ]
  },
  {
   "cell_type": "code",
   "execution_count": 52,
   "id": "c0cb443b",
   "metadata": {},
   "outputs": [
    {
     "name": "stdout",
     "output_type": "stream",
     "text": [
      "Poses per fold: [50137, 34065, 34052]\n"
     ]
    }
   ],
   "source": [
    "folds, foldmap = createFolds(\n",
    "            final_clusters, 3, target_lines, 0)"
   ]
  },
  {
   "cell_type": "code",
   "execution_count": 53,
   "id": "9b03795f",
   "metadata": {},
   "outputs": [],
   "source": [
    "def crossvalidatefiles(folds, outname, numfolds, target_lines, reduce):\n",
    "    # create test/train files\n",
    "    trainfiles = [(open('{}train{}.types'.format(outname, i), 'w'), open(\n",
    "        '{}reducedtrain{}.types'.format(outname, i), 'w')) for i in range(numfolds)]\n",
    "    testfiles = [(open('{}test{}.types'.format(outname, i), 'w'), open(\n",
    "        '{}reducedtest{}.types'.format(outname, i), 'w')) for i in range(numfolds)]\n",
    "    target_set = set(sum(folds, []))\n",
    "\n",
    "    for target in target_lines.keys():\n",
    "        for i in range(numfolds):\n",
    "            if target in folds[i]:\n",
    "                out = testfiles[i]\n",
    "            else:\n",
    "                out = trainfiles[i]\n",
    "            for line in target_lines[target]:\n",
    "                out[0].write(line)\n",
    "                if np.random.random() < reduce:\n",
    "                    out[1].write(line)\n",
    "\n"
   ]
  },
  {
   "cell_type": "code",
   "execution_count": 54,
   "id": "ae395c66",
   "metadata": {},
   "outputs": [],
   "source": [
    "crossvalidatefiles(folds, 'output', 3,\n",
    "                           target_lines, 0.05)"
   ]
  },
  {
   "cell_type": "code",
   "execution_count": 55,
   "id": "03649443",
   "metadata": {},
   "outputs": [
    {
     "data": {
      "text/plain": [
       "[['O00141',\n",
       "  'O14757',\n",
       "  'O14965',\n",
       "  'O15075',\n",
       "  'O15264',\n",
       "  'O43293',\n",
       "  'O60285',\n",
       "  'O75582',\n",
       "  'O75676',\n",
       "  'P05129',\n",
       "  'P05771',\n",
       "  'P06493',\n",
       "  'P11309',\n",
       "  'P11802',\n",
       "  'P15735',\n",
       "  'P17252',\n",
       "  'P17612',\n",
       "  'P19784',\n",
       "  'P22612',\n",
       "  'P22694',\n",
       "  'P23443',\n",
       "  'P24723',\n",
       "  'P24941',\n",
       "  'P27361',\n",
       "  'P27448',\n",
       "  'P28482',\n",
       "  'P31749',\n",
       "  'P31751',\n",
       "  'P34947',\n",
       "  'P36507',\n",
       "  'P41743',\n",
       "  'P45983',\n",
       "  'P45984',\n",
       "  'P49137',\n",
       "  'P49336',\n",
       "  'P49840',\n",
       "  'P49841',\n",
       "  'P50613',\n",
       "  'P50750',\n",
       "  'P51812',\n",
       "  'P51817',\n",
       "  'P51955',\n",
       "  'P52564',\n",
       "  'P53350',\n",
       "  'P53778',\n",
       "  'P53779',\n",
       "  'P54646',\n",
       "  'P68400',\n",
       "  'Q00534',\n",
       "  'Q00535',\n",
       "  'Q02156',\n",
       "  'Q02750',\n",
       "  'Q04759',\n",
       "  'Q05513',\n",
       "  'Q05655',\n",
       "  'Q13131',\n",
       "  'Q13237',\n",
       "  'Q13554',\n",
       "  'Q13555',\n",
       "  'Q13557',\n",
       "  'Q13976',\n",
       "  'Q14012',\n",
       "  'Q14680',\n",
       "  'Q15418',\n",
       "  'Q15759',\n",
       "  'Q16539',\n",
       "  'Q16566',\n",
       "  'Q16644',\n",
       "  'Q7KZI7',\n",
       "  'Q86V86',\n",
       "  'Q8IU85',\n",
       "  'Q8IW41',\n",
       "  'Q8TDC3',\n",
       "  'Q96GD4',\n",
       "  'Q96L34',\n",
       "  'Q96PF2',\n",
       "  'Q9BUB5',\n",
       "  'Q9BWU1',\n",
       "  'Q9BXA7',\n",
       "  'Q9H0K1',\n",
       "  'Q9H4B4',\n",
       "  'Q9HBH9',\n",
       "  'Q9HBY8',\n",
       "  'Q9HC98',\n",
       "  'Q9P1W9',\n",
       "  'Q9UBS0',\n",
       "  'Q9UEE5',\n",
       "  'Q9UQM7',\n",
       "  'Q9Y243'],\n",
       " ['O00311',\n",
       "  'O14920',\n",
       "  'O15111',\n",
       "  'O15530',\n",
       "  'O43741',\n",
       "  'O43781',\n",
       "  'O75116',\n",
       "  'O95819',\n",
       "  'O96017',\n",
       "  'P00519',\n",
       "  'P00533',\n",
       "  'P04049',\n",
       "  'P04626',\n",
       "  'P06213',\n",
       "  'P06239',\n",
       "  'P06241',\n",
       "  'P07947',\n",
       "  'P07948',\n",
       "  'P08069',\n",
       "  'P08581',\n",
       "  'P08631',\n",
       "  'P08922',\n",
       "  'P09769',\n",
       "  'P12931',\n",
       "  'P15056',\n",
       "  'P30291',\n",
       "  'P41240',\n",
       "  'P42679',\n",
       "  'P42684',\n",
       "  'P42685',\n",
       "  'P43403',\n",
       "  'P43405',\n",
       "  'P48729',\n",
       "  'P48730',\n",
       "  'P49674',\n",
       "  'P51451',\n",
       "  'P51617',\n",
       "  'P51813',\n",
       "  'P53667',\n",
       "  'P54619',\n",
       "  'P78368',\n",
       "  'Q04771',\n",
       "  'Q04912',\n",
       "  'Q06187',\n",
       "  'Q07912',\n",
       "  'Q08881',\n",
       "  'Q13464',\n",
       "  'Q13627',\n",
       "  'Q13882',\n",
       "  'Q14164',\n",
       "  'Q15078',\n",
       "  'Q15118',\n",
       "  'Q15303',\n",
       "  'Q5VT25',\n",
       "  'Q7L7X3',\n",
       "  'Q8N4C8',\n",
       "  'Q8NE63',\n",
       "  'Q96RG2',\n",
       "  'Q99683',\n",
       "  'Q9H3Y6',\n",
       "  'Q9HCP0',\n",
       "  'Q9NR20',\n",
       "  'Q9NWZ3',\n",
       "  'Q9NYL2',\n",
       "  'Q9UBF8',\n",
       "  'Q9UGI9',\n",
       "  'Q9UGJ0',\n",
       "  'Q9UHD2',\n",
       "  'Q9Y463',\n",
       "  'Q9Y478',\n",
       "  'Q9Y6M4'],\n",
       " ['O00329',\n",
       "  'O00418',\n",
       "  'O00444',\n",
       "  'O60674',\n",
       "  'O94806',\n",
       "  'O96013',\n",
       "  'P04629',\n",
       "  'P07332',\n",
       "  'P07333',\n",
       "  'P07949',\n",
       "  'P09619',\n",
       "  'P10721',\n",
       "  'P11362',\n",
       "  'P16234',\n",
       "  'P16591',\n",
       "  'P17948',\n",
       "  'P21802',\n",
       "  'P22455',\n",
       "  'P22607',\n",
       "  'P23458',\n",
       "  'P29317',\n",
       "  'P29323',\n",
       "  'P29376',\n",
       "  'P29597',\n",
       "  'P30530',\n",
       "  'P35916',\n",
       "  'P35968',\n",
       "  'P36888',\n",
       "  'P41279',\n",
       "  'P42336',\n",
       "  'P42338',\n",
       "  'P42345',\n",
       "  'P48736',\n",
       "  'P49759',\n",
       "  'P49760',\n",
       "  'P51957',\n",
       "  'P52333',\n",
       "  'P54760',\n",
       "  'P67870',\n",
       "  'P78527',\n",
       "  'P80192',\n",
       "  'Q02763',\n",
       "  'Q02779',\n",
       "  'Q05397',\n",
       "  'Q06418',\n",
       "  'Q12851',\n",
       "  'Q12866',\n",
       "  'Q13153',\n",
       "  'Q13177',\n",
       "  'Q13188',\n",
       "  'Q14289',\n",
       "  'Q15139',\n",
       "  'Q16288',\n",
       "  'Q16512',\n",
       "  'Q16513',\n",
       "  'Q16584',\n",
       "  'Q16620',\n",
       "  'Q5S007',\n",
       "  'Q96KB5',\n",
       "  'Q96RR4',\n",
       "  'Q96SB4',\n",
       "  'Q9BZL6',\n",
       "  'Q9H2G2',\n",
       "  'Q9H2X6',\n",
       "  'Q9HAZ1',\n",
       "  'Q9P289',\n",
       "  'Q9UBE8',\n",
       "  'Q9UM73',\n",
       "  'Q9Y4K4']]"
      ]
     },
     "execution_count": 55,
     "metadata": {},
     "output_type": "execute_result"
    }
   ],
   "source": [
    "folds"
   ]
  },
  {
   "cell_type": "code",
   "execution_count": null,
   "id": "574509d0",
   "metadata": {
    "collapsed": true
   },
   "outputs": [],
   "source": []
  },
  {
   "cell_type": "code",
   "execution_count": null,
   "id": "a65466cf",
   "metadata": {
    "collapsed": true
   },
   "outputs": [],
   "source": []
  },
  {
   "cell_type": "code",
   "execution_count": null,
   "id": "9161fb2f",
   "metadata": {
    "collapsed": true
   },
   "outputs": [],
   "source": []
  }
 ],
 "metadata": {
  "kernelspec": {
   "display_name": "Python 3",
   "language": "python",
   "name": "python3"
  },
  "language_info": {
   "codemirror_mode": {
    "name": "ipython",
    "version": 3
   },
   "file_extension": ".py",
   "mimetype": "text/x-python",
   "name": "python",
   "nbconvert_exporter": "python",
   "pygments_lexer": "ipython3",
   "version": "3.6.13"
  }
 },
 "nbformat": 4,
 "nbformat_minor": 5
}
