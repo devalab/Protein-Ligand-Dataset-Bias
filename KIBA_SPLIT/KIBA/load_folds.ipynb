{
 "cells": [
  {
   "cell_type": "code",
   "execution_count": 1,
   "id": "1589ce58",
   "metadata": {},
   "outputs": [],
   "source": [
    "f_test0=open('outputtest0.types')\n",
    "lines_test0 = f_test0.readlines()\n",
    "test0=[]\n",
    "for line in lines_test0:\n",
    "    l = line.split()\n",
    "    test0.append(l)\n",
    "\n",
    "f_test1=open('./outputtest1.types')\n",
    "lines_test1 = f_test1.readlines()\n",
    "test1=[]\n",
    "for line in lines_test1:\n",
    "    l = line.split()\n",
    "    test1.append(l)\n",
    "    \n",
    "f_test2=open('./outputtest2.types')\n",
    "lines_test2 = f_test2.readlines()\n",
    "test2=[]\n",
    "for line in lines_test2:\n",
    "    l = line.split()\n",
    "    test2.append(l)\n",
    "    "
   ]
  },
  {
   "cell_type": "code",
   "execution_count": 4,
   "id": "fd5b68c4",
   "metadata": {},
   "outputs": [
    {
     "data": {
      "text/plain": [
       "34052"
      ]
     },
     "execution_count": 4,
     "metadata": {},
     "output_type": "execute_result"
    }
   ],
   "source": [
    "len(test2)"
   ]
  },
  {
   "cell_type": "markdown",
   "id": "be86097d",
   "metadata": {},
   "source": [
    "## "
   ]
  }
 ],
 "metadata": {
  "kernelspec": {
   "display_name": "Python 3 (ipykernel)",
   "language": "python",
   "name": "python3"
  },
  "language_info": {
   "codemirror_mode": {
    "name": "ipython",
    "version": 3
   },
   "file_extension": ".py",
   "mimetype": "text/x-python",
   "name": "python",
   "nbconvert_exporter": "python",
   "pygments_lexer": "ipython3",
   "version": "3.9.6"
  }
 },
 "nbformat": 4,
 "nbformat_minor": 5
}
